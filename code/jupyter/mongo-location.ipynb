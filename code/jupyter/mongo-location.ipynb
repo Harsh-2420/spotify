{
 "metadata": {
  "language_info": {
   "codemirror_mode": {
    "name": "ipython",
    "version": 3
   },
   "file_extension": ".py",
   "mimetype": "text/x-python",
   "name": "python",
   "nbconvert_exporter": "python",
   "pygments_lexer": "ipython3",
   "version": "3.8.5"
  },
  "orig_nbformat": 2,
  "kernelspec": {
   "name": "python385jvsc74a57bd08e67d3b4e6e9c5ed82f76a8f7f99679990361e083096766a3b0e6dbb7e4e49b8",
   "display_name": "Python 3.8.5 64-bit ('base': conda)"
  }
 },
 "nbformat": 4,
 "nbformat_minor": 2,
 "cells": [
  {
   "cell_type": "code",
   "execution_count": 2,
   "metadata": {},
   "outputs": [],
   "source": [
    "import wikipedia\n",
    "import pandas as pd\n",
    "import wikipediaapi\n",
    "import requests\n",
    "import sys\n",
    "from SPARQLWrapper import SPARQLWrapper, JSON\n"
   ]
  },
  {
   "cell_type": "code",
   "execution_count": 3,
   "metadata": {},
   "outputs": [],
   "source": [
    "df = pd.read_csv('/Users/harshjhunjhunwala/Desktop/github/spotify/data/artists.csv')"
   ]
  },
  {
   "cell_type": "code",
   "execution_count": 4,
   "metadata": {},
   "outputs": [],
   "source": [
    "def get_location(key, query):\n",
    "    key = 'Drake'\n",
    "\n",
    "    endpoint_url = \"https://query.wikidata.org/sparql\"\n",
    "\n",
    "    def get_results(endpoint_url, query):\n",
    "        user_agent = \"WDQS-example Python/%s.%s\" % (sys.version_info[0], sys.version_info[1])\n",
    "        sparql = SPARQLWrapper(endpoint_url, agent=user_agent)\n",
    "        sparql.setQuery(query)\n",
    "        sparql.setReturnFormat(JSON)\n",
    "        return sparql.query().convert()\n",
    "\n",
    "\n",
    "    results = get_results(endpoint_url, query)\n",
    "\n",
    "    for result in results[\"results\"][\"bindings\"]:\n",
    "        final = result['birthLocationLabel']['value']\n",
    "    return final\n"
   ]
  },
  {
   "cell_type": "code",
   "execution_count": 5,
   "metadata": {},
   "outputs": [],
   "source": [
    "# query = \"\"\"SELECT DISTINCT ?item ?itemLabel ?birthLocation ?birthLocationLabel WHERE {\n",
    "# ?item (wdt:P31|wdt:P101|wdt:P106)/wdt:P279* wd:Q482980 ;\n",
    "#         rdfs:label \"\"@en ;\n",
    "#         wdt:P19 ?birthLocation\n",
    "# SERVICE wikibase:label { bd:serviceParam wikibase:language \"en\". }\n",
    "# }\"\"\"\n",
    "# index = query.find('@en')\n",
    "# query1 = query[:index-1] + name + query[index-1:]\n",
    "\n"
   ]
  },
  {
   "cell_type": "code",
   "execution_count": 10,
   "metadata": {
    "tags": []
   },
   "outputs": [],
   "source": [
    "for k, name in enumerate(df['name']):\n",
    "    query = \"\"\"SELECT DISTINCT ?item ?itemLabel ?birthLocation ?birthLocationLabel WHERE {\n",
    "    ?item (wdt:P31|wdt:P101|wdt:P106)/wdt:P279* wd:Q482980 ;\n",
    "            rdfs:label \"\"@en ;\n",
    "            wdt:P19 ?birthLocation\n",
    "    SERVICE wikibase:label { bd:serviceParam wikibase:language \"en\". }\n",
    "    }\"\"\"\n",
    "    index = query.find('@en')\n",
    "    query = query[:index-1] + name + query[index-1:]\n",
    "    try:\n",
    "        location = get_location(name, query)\n",
    "        df['location'].iloc[k] = location\n",
    "        break\n",
    "        print(location)\n",
    "    except:\n",
    "        continue"
   ]
  },
  {
   "cell_type": "code",
   "execution_count": 1,
   "metadata": {},
   "outputs": [
    {
     "output_type": "error",
     "ename": "NameError",
     "evalue": "name 'df' is not defined",
     "traceback": [
      "\u001b[0;31m---------------------------------------------------------------------------\u001b[0m",
      "\u001b[0;31mNameError\u001b[0m                                 Traceback (most recent call last)",
      "\u001b[0;32m<ipython-input-1-00cf07b74dcd>\u001b[0m in \u001b[0;36m<module>\u001b[0;34m\u001b[0m\n\u001b[0;32m----> 1\u001b[0;31m \u001b[0mdf\u001b[0m\u001b[0;34m\u001b[0m\u001b[0;34m\u001b[0m\u001b[0m\n\u001b[0m",
      "\u001b[0;31mNameError\u001b[0m: name 'df' is not defined"
     ]
    }
   ],
   "source": [
    "df"
   ]
  },
  {
   "cell_type": "code",
   "execution_count": null,
   "metadata": {},
   "outputs": [],
   "source": []
  }
 ]
}