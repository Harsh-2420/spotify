{
 "cells": [
  {
   "cell_type": "code",
   "execution_count": 1,
   "source": [
    "import spotipy\n",
    "from spotipy.oauth2 import SpotifyOAuth\n",
    "import os\n",
    "\n",
    "os.environ[\"SPOTIPY_CLIENT_ID\"] = \"28ba49dab9c6456c95496dd9f969c2f3\"\n",
    "os.environ[\"SPOTIPY_CLIENT_SECRET\"] = \"8c89631fcbbc40ec8f0f678236db3a0c\"\n",
    "os.environ[\"SPOTIPY_REDIRECT_URI\"] = 'http://localhost:5000'"
   ],
   "outputs": [],
   "metadata": {}
  },
  {
   "cell_type": "code",
   "execution_count": 15,
   "source": [
    "scope = 'user-top-read'\n",
    "sp = spotipy.Spotify(auth_manager=SpotifyOAuth(scope=scope))\n",
    "\n",
    "results = sp.current_user_top_tracks(time_range='short_term')"
   ],
   "outputs": [],
   "metadata": {}
  },
  {
   "cell_type": "code",
   "execution_count": 16,
   "source": [
    "for item in results['items']:\n",
    "    print(item['id'])\n",
    "    break\n"
   ],
   "outputs": [
    {
     "output_type": "stream",
     "name": "stdout",
     "text": [
      "3JKgcAa7r07ocVWcV8bS0H\n"
     ]
    }
   ],
   "metadata": {}
  },
  {
   "cell_type": "code",
   "execution_count": 19,
   "source": [
    "track_res = sp.track('3JKgcAa7r07ocVWcV8bS0H')\n",
    "# artist_id = sp.artists([track_res['artists'][0]['id']])\n",
    "track_res['album']['images'][0]['url']\n",
    "\n"
   ],
   "outputs": [
    {
     "output_type": "execute_result",
     "data": {
      "text/plain": [
       "'https://i.scdn.co/image/ab67616d0000b273339f780dfdbc38558ea0761d'"
      ]
     },
     "metadata": {},
     "execution_count": 19
    }
   ],
   "metadata": {}
  },
  {
   "cell_type": "code",
   "execution_count": 23,
   "source": [
    "artist = track_res['album']['artists'][0]['name']\n",
    "name = track_res['name']\n",
    "popularity = track_res['popularity']\n",
    "\n",
    "url = track_res['external_urls']['spotify']\n",
    "\n",
    "url\n",
    "# list(sp.audio_features(['2AlYncTpVHKwHb55F9lF6O'])[0].items())"
   ],
   "outputs": [
    {
     "output_type": "execute_result",
     "data": {
      "text/plain": [
       "'https://open.spotify.com/track/3JKgcAa7r07ocVWcV8bS0H'"
      ]
     },
     "metadata": {},
     "execution_count": 23
    }
   ],
   "metadata": {}
  },
  {
   "cell_type": "code",
   "execution_count": 5,
   "source": [
    "track_info = []\n",
    "for track in results['items']:\n",
    "    print(track['album']['artists'][0]['id'])\n",
    "    break\n",
    "    # track_info.append([track['name'], track['album']['artists'][0]['name'], track['album']['images'][1]['url']])\n",
    "# track_info"
   ],
   "outputs": [
    {
     "output_type": "error",
     "ename": "KeyError",
     "evalue": "'album'",
     "traceback": [
      "\u001b[0;31m---------------------------------------------------------------------------\u001b[0m",
      "\u001b[0;31mKeyError\u001b[0m                                  Traceback (most recent call last)",
      "\u001b[0;32m<ipython-input-5-f528d941579e>\u001b[0m in \u001b[0;36m<module>\u001b[0;34m\u001b[0m\n\u001b[1;32m      1\u001b[0m \u001b[0mtrack_info\u001b[0m \u001b[0;34m=\u001b[0m \u001b[0;34m[\u001b[0m\u001b[0;34m]\u001b[0m\u001b[0;34m\u001b[0m\u001b[0;34m\u001b[0m\u001b[0m\n\u001b[1;32m      2\u001b[0m \u001b[0;32mfor\u001b[0m \u001b[0mtrack\u001b[0m \u001b[0;32min\u001b[0m \u001b[0mresults\u001b[0m\u001b[0;34m[\u001b[0m\u001b[0;34m'items'\u001b[0m\u001b[0;34m]\u001b[0m\u001b[0;34m:\u001b[0m\u001b[0;34m\u001b[0m\u001b[0;34m\u001b[0m\u001b[0m\n\u001b[0;32m----> 3\u001b[0;31m     \u001b[0mprint\u001b[0m\u001b[0;34m(\u001b[0m\u001b[0mtrack\u001b[0m\u001b[0;34m[\u001b[0m\u001b[0;34m'album'\u001b[0m\u001b[0;34m]\u001b[0m\u001b[0;34m[\u001b[0m\u001b[0;34m'artists'\u001b[0m\u001b[0;34m]\u001b[0m\u001b[0;34m[\u001b[0m\u001b[0;36m0\u001b[0m\u001b[0;34m]\u001b[0m\u001b[0;34m[\u001b[0m\u001b[0;34m'id'\u001b[0m\u001b[0;34m]\u001b[0m\u001b[0;34m)\u001b[0m\u001b[0;34m\u001b[0m\u001b[0;34m\u001b[0m\u001b[0m\n\u001b[0m\u001b[1;32m      4\u001b[0m     \u001b[0;32mbreak\u001b[0m\u001b[0;34m\u001b[0m\u001b[0;34m\u001b[0m\u001b[0m\n\u001b[1;32m      5\u001b[0m     \u001b[0;31m# track_info.append([track['name'], track['album']['artists'][0]['name'], track['album']['images'][1]['url']])\u001b[0m\u001b[0;34m\u001b[0m\u001b[0;34m\u001b[0m\u001b[0;34m\u001b[0m\u001b[0m\n",
      "\u001b[0;31mKeyError\u001b[0m: 'album'"
     ]
    }
   ],
   "metadata": {}
  },
  {
   "cell_type": "code",
   "execution_count": null,
   "source": [
    "results.keys()\n",
    "track_list = []\n",
    "i = 0\n",
    "for track in results['items']:\n",
    "    track_list.append(track['external_urls']['spotify'])\n",
    "    if i > 2:\n",
    "        break\n",
    "    i += 1"
   ],
   "outputs": [],
   "metadata": {}
  },
  {
   "cell_type": "code",
   "execution_count": 38,
   "source": [
    "search_result = sp.search('if i lead')\n",
    "artist_id = search_result['tracks']['items'][0]['album']['artists'][0]['id']\n",
    "image = search_result['tracks']['items'][0]['album']['images'][1]['url']\n",
    "artist_name = search_result['tracks']['items'][0]['album']['artists'][0]['name']\n",
    "print(artist_id)\n",
    "print(image)\n",
    "print(artist_name)\n"
   ],
   "outputs": [
    {
     "output_type": "stream",
     "name": "stdout",
     "text": [
      "27CC3tpq7WQR25M03jKTZm\n",
      "https://i.scdn.co/image/ab67616d00001e023003515eb745f18d09b4206f\n",
      "Kiltro\n"
     ]
    }
   ],
   "metadata": {}
  },
  {
   "cell_type": "code",
   "execution_count": 31,
   "source": [
    "artist_id"
   ],
   "outputs": [
    {
     "output_type": "execute_result",
     "data": {
      "text/plain": [
       "'0xOeVMOz2fVg5BJY3N6akT'"
      ]
     },
     "metadata": {},
     "execution_count": 31
    }
   ],
   "metadata": {}
  },
  {
   "cell_type": "code",
   "execution_count": null,
   "source": [
    "top_artists  = sp.current_user_top_artists()\n",
    "artist_dict = {}\n",
    "i = 0\n",
    "for artist in top_artists['items']: \n",
    "    artist_dict[artist['name']] = [artist['images'][1]['url'], artist['followers']['total'], artist['genres'], artist['external_urls']['spotify'] ]\n",
    "    if i > 2:\n",
    "        break\n",
    "    i += 1\n",
    "    print(artist['id'])\n",
    "# artist_dict\n"
   ],
   "outputs": [
    {
     "output_type": "stream",
     "name": "stdout",
     "text": [
      "6l3HvQ5sa6mXTsMTB19rO5\n",
      "7Ln80lUS6He07XvHI8qqHH\n",
      "4Z8W4fKeB5YxbusRsdQVPb\n"
     ]
    }
   ],
   "metadata": {}
  },
  {
   "cell_type": "code",
   "execution_count": null,
   "source": [
    "search_result = sp.artists([\"6l3HvQ5sa6mXTsMTB19rO5\"])\n",
    "search_result['artists'][0]['id']\n",
    "albums = sp.artist_albums('6l3HvQ5sa6mXTsMTB19rO5', album_type='album')"
   ],
   "outputs": [],
   "metadata": {}
  },
  {
   "cell_type": "code",
   "execution_count": 11,
   "source": [
    "albums['items']\n",
    "album_info = {}\n",
    "for item in albums['items']: \n",
    "    if item['name'] not in album_info:\n",
    "        album_info[item['name']] = [item['release_date'], item['images'][0]['url']]\n",
    "list(album_info.items())"
   ],
   "outputs": [
    {
     "output_type": "execute_result",
     "data": {
      "text/plain": [
       "[('The Off-Season',\n",
       "  ['2021-05-14',\n",
       "   'https://i.scdn.co/image/ab67616d0000b27310e6745bb2f179dd3616b85f']),\n",
       " (\"Revenge Of The Dreamers III: Director's Cut\",\n",
       "  ['2020-01-16',\n",
       "   'https://i.scdn.co/image/ab67616d0000b273a145ed96ce61bf4201d619c3']),\n",
       " ('Revenge Of The Dreamers III',\n",
       "  ['2019-07-05',\n",
       "   'https://i.scdn.co/image/ab67616d0000b273c0ae820e3b64854de4642101']),\n",
       " ('KOD',\n",
       "  ['2018-04-20',\n",
       "   'https://i.scdn.co/image/ab67616d0000b273cf0f0affd0138a7442f13706']),\n",
       " ('4 Your Eyez Only',\n",
       "  ['2016-12-09',\n",
       "   'https://i.scdn.co/image/ab67616d0000b273f4ca75192df162f78a24023e']),\n",
       " ('Forest Hills Drive: Live from Fayetteville, NC',\n",
       "  ['2016-01-28',\n",
       "   'https://i.scdn.co/image/ab67616d0000b2737617e402e6b7fef18f4fa7c9']),\n",
       " ('2014 Forest Hills Drive',\n",
       "  ['2014-12-09',\n",
       "   'https://i.scdn.co/image/ab67616d0000b2736aca031ccc27d2e4dd829d14']),\n",
       " ('The Blow Up',\n",
       "  ['2014-11-09',\n",
       "   'https://i.scdn.co/image/ab67616d0000b273bcdfc0c2ca343f704cc36934']),\n",
       " ('Born Sinner (Deluxe Version)',\n",
       "  ['2013-06-18',\n",
       "   'https://i.scdn.co/image/ab67616d0000b273c1bb124f993488cf21b269fc']),\n",
       " ('Born Sinner',\n",
       "  ['2013-06-18',\n",
       "   'https://i.scdn.co/image/ab67616d0000b273dea680b04cd9909224f1e8f6']),\n",
       " ('Cole World: The Sideline Story',\n",
       "  ['2011-09-27',\n",
       "   'https://i.scdn.co/image/ab67616d0000b27399da48a530f6ca2ef86da3cc']),\n",
       " ('The Come Up',\n",
       "  ['2009',\n",
       "   'https://i.scdn.co/image/ab67616d0000b27333a6de780f708b51e8adc171'])]"
      ]
     },
     "metadata": {},
     "execution_count": 11
    }
   ],
   "metadata": {}
  },
  {
   "cell_type": "code",
   "execution_count": 20,
   "source": [
    "artist_top_tracks_dict = {}\n",
    "url_list = []\n",
    "for artist in artist_dict.values():\n",
    "    print(artist[3])\n",
    "    # top = sp.artist_top_tracks(\"6l3HvQ5sa6mXTsMTB19rO5\")['tracks']\n",
    "    top = sp.artist_top_tracks(artist[3])['tracks']\n",
    "    for track in top:\n",
    "        # print(track['artists']['id'])\n",
    "        url = (track['external_urls']['spotify'])\n",
    "        artist_top_tracks_dict[track['name']] = url\n",
    "    break\n",
    "list(sp.audio_features([url])[0].items())"
   ],
   "outputs": [
    {
     "output_type": "stream",
     "name": "stdout",
     "text": [
      "https://open.spotify.com/artist/6l3HvQ5sa6mXTsMTB19rO5\n"
     ]
    },
    {
     "output_type": "execute_result",
     "data": {
      "text/plain": [
       "[('danceability', 0.784),\n",
       " ('energy', 0.474),\n",
       " ('key', 8),\n",
       " ('loudness', -6.139),\n",
       " ('mode', 1),\n",
       " ('speechiness', 0.0524),\n",
       " ('acousticness', 0.333),\n",
       " ('instrumentalness', 0),\n",
       " ('liveness', 0.278),\n",
       " ('valence', 0.64),\n",
       " ('tempo', 128.012),\n",
       " ('type', 'audio_features'),\n",
       " ('id', '15qKrPi4Kg0z7g9HlwWyeb'),\n",
       " ('uri', 'spotify:track:15qKrPi4Kg0z7g9HlwWyeb'),\n",
       " ('track_href', 'https://api.spotify.com/v1/tracks/15qKrPi4Kg0z7g9HlwWyeb'),\n",
       " ('analysis_url',\n",
       "  'https://api.spotify.com/v1/audio-analysis/15qKrPi4Kg0z7g9HlwWyeb'),\n",
       " ('duration_ms', 204434),\n",
       " ('time_signature', 4)]"
      ]
     },
     "metadata": {},
     "execution_count": 20
    }
   ],
   "metadata": {}
  },
  {
   "cell_type": "code",
   "execution_count": null,
   "source": [
    "sp.curr"
   ],
   "outputs": [],
   "metadata": {}
  },
  {
   "cell_type": "code",
   "execution_count": null,
   "source": [
    "import pandas as pd\n",
    "import numpy as np\n",
    "import json\n",
    "from datetime import date\n",
    "from datetime import datetime\n",
    "import seaborn as sns\n",
    "import matplotlib.pyplot as plt\n",
    "import pickle\n",
    "from sklearn.feature_extraction.text import TfidfVectorizer\n",
    "from sklearn.metrics.pairwise import linear_kernel"
   ],
   "outputs": [],
   "metadata": {}
  },
  {
   "cell_type": "code",
   "execution_count": 2,
   "source": [
    "artist_df = pd.read_csv('../../data/artists.csv')\n",
    "tracks_df = pd.read_csv('../../data/tracks.csv')\n",
    "with open(\"../../data/dict_artists.json\", encoding='utf-8', errors='ignore') as json_data:\n",
    "     data = json.load(json_data, strict=False)"
   ],
   "outputs": [],
   "metadata": {}
  },
  {
   "cell_type": "code",
   "execution_count": 3,
   "source": [
    "artist_df.drop(['id'], axis=1, inplace=True)"
   ],
   "outputs": [],
   "metadata": {}
  },
  {
   "cell_type": "code",
   "execution_count": 4,
   "source": [
    "artist_df = artist_df[artist_df['genres'] != '[]']\n",
    "artist_df = artist_df.sort_values(by=['popularity'], ascending=False)\n",
    "l = len(artist_df)/15\n",
    "artist_df = artist_df[:round(l)]\n",
    "artist_df = artist_df.reset_index(drop=True)"
   ],
   "outputs": [],
   "metadata": {}
  },
  {
   "cell_type": "code",
   "execution_count": 5,
   "source": [
    "artist_df"
   ],
   "outputs": [
    {
     "output_type": "execute_result",
     "data": {
      "text/plain": [
       "        followers                                             genres  \\\n",
       "0      44606973.0           ['canadian pop', 'pop', 'post-teen pop']   \n",
       "1      54416812.0  ['canadian hip hop', 'canadian pop', 'hip hop'...   \n",
       "2      32244734.0              ['latin', 'reggaeton', 'trap latino']   \n",
       "3      38869193.0                           ['pop', 'post-teen pop']   \n",
       "4      16996777.0                     ['chicago rap', 'melodic rap']   \n",
       "...           ...                                                ...   \n",
       "19903      2394.0                                    ['russian edm']   \n",
       "19904   1028316.0  ['sertanejo', 'sertanejo pop', 'sertanejo univ...   \n",
       "19905     33168.0                   ['danish hip hop', 'danish pop']   \n",
       "19906     15823.0  ['bass house', 'deep groove house', 'electro h...   \n",
       "19907    103591.0                               ['modern folk rock']   \n",
       "\n",
       "                                        name  popularity  \n",
       "0                              Justin Bieber         100  \n",
       "1                                      Drake          98  \n",
       "2                                  Bad Bunny          98  \n",
       "3                               Taylor Swift          98  \n",
       "4                                 Juice WRLD          96  \n",
       "...                                      ...         ...  \n",
       "19903                            Denis First          50  \n",
       "19904                       Jefferson Moraes          50  \n",
       "19905                                    Bro          50  \n",
       "19906                          Marten Hørger          50  \n",
       "19907  Ben Harper And The Innocent Criminals          50  \n",
       "\n",
       "[19908 rows x 4 columns]"
      ],
      "text/html": [
       "<div>\n",
       "<style scoped>\n",
       "    .dataframe tbody tr th:only-of-type {\n",
       "        vertical-align: middle;\n",
       "    }\n",
       "\n",
       "    .dataframe tbody tr th {\n",
       "        vertical-align: top;\n",
       "    }\n",
       "\n",
       "    .dataframe thead th {\n",
       "        text-align: right;\n",
       "    }\n",
       "</style>\n",
       "<table border=\"1\" class=\"dataframe\">\n",
       "  <thead>\n",
       "    <tr style=\"text-align: right;\">\n",
       "      <th></th>\n",
       "      <th>followers</th>\n",
       "      <th>genres</th>\n",
       "      <th>name</th>\n",
       "      <th>popularity</th>\n",
       "    </tr>\n",
       "  </thead>\n",
       "  <tbody>\n",
       "    <tr>\n",
       "      <th>0</th>\n",
       "      <td>44606973.0</td>\n",
       "      <td>['canadian pop', 'pop', 'post-teen pop']</td>\n",
       "      <td>Justin Bieber</td>\n",
       "      <td>100</td>\n",
       "    </tr>\n",
       "    <tr>\n",
       "      <th>1</th>\n",
       "      <td>54416812.0</td>\n",
       "      <td>['canadian hip hop', 'canadian pop', 'hip hop'...</td>\n",
       "      <td>Drake</td>\n",
       "      <td>98</td>\n",
       "    </tr>\n",
       "    <tr>\n",
       "      <th>2</th>\n",
       "      <td>32244734.0</td>\n",
       "      <td>['latin', 'reggaeton', 'trap latino']</td>\n",
       "      <td>Bad Bunny</td>\n",
       "      <td>98</td>\n",
       "    </tr>\n",
       "    <tr>\n",
       "      <th>3</th>\n",
       "      <td>38869193.0</td>\n",
       "      <td>['pop', 'post-teen pop']</td>\n",
       "      <td>Taylor Swift</td>\n",
       "      <td>98</td>\n",
       "    </tr>\n",
       "    <tr>\n",
       "      <th>4</th>\n",
       "      <td>16996777.0</td>\n",
       "      <td>['chicago rap', 'melodic rap']</td>\n",
       "      <td>Juice WRLD</td>\n",
       "      <td>96</td>\n",
       "    </tr>\n",
       "    <tr>\n",
       "      <th>...</th>\n",
       "      <td>...</td>\n",
       "      <td>...</td>\n",
       "      <td>...</td>\n",
       "      <td>...</td>\n",
       "    </tr>\n",
       "    <tr>\n",
       "      <th>19903</th>\n",
       "      <td>2394.0</td>\n",
       "      <td>['russian edm']</td>\n",
       "      <td>Denis First</td>\n",
       "      <td>50</td>\n",
       "    </tr>\n",
       "    <tr>\n",
       "      <th>19904</th>\n",
       "      <td>1028316.0</td>\n",
       "      <td>['sertanejo', 'sertanejo pop', 'sertanejo univ...</td>\n",
       "      <td>Jefferson Moraes</td>\n",
       "      <td>50</td>\n",
       "    </tr>\n",
       "    <tr>\n",
       "      <th>19905</th>\n",
       "      <td>33168.0</td>\n",
       "      <td>['danish hip hop', 'danish pop']</td>\n",
       "      <td>Bro</td>\n",
       "      <td>50</td>\n",
       "    </tr>\n",
       "    <tr>\n",
       "      <th>19906</th>\n",
       "      <td>15823.0</td>\n",
       "      <td>['bass house', 'deep groove house', 'electro h...</td>\n",
       "      <td>Marten Hørger</td>\n",
       "      <td>50</td>\n",
       "    </tr>\n",
       "    <tr>\n",
       "      <th>19907</th>\n",
       "      <td>103591.0</td>\n",
       "      <td>['modern folk rock']</td>\n",
       "      <td>Ben Harper And The Innocent Criminals</td>\n",
       "      <td>50</td>\n",
       "    </tr>\n",
       "  </tbody>\n",
       "</table>\n",
       "<p>19908 rows × 4 columns</p>\n",
       "</div>"
      ]
     },
     "metadata": {},
     "execution_count": 5
    }
   ],
   "metadata": {}
  },
  {
   "cell_type": "code",
   "execution_count": null,
   "source": [],
   "outputs": [],
   "metadata": {}
  },
  {
   "cell_type": "code",
   "execution_count": null,
   "source": [
    "# orig_model = TfidfVectorizer(analyzer='word', ngram_range=(1, 3), min_df=0, stop_words='english')\n",
    "# tfidf_matrix_orig = orig_model.fit_transform(artist_df['genres'])"
   ],
   "outputs": [],
   "metadata": {}
  },
  {
   "cell_type": "code",
   "execution_count": 6,
   "source": [
    "\n",
    "model = TfidfVectorizer(analyzer='word', ngram_range=(1, 3), min_df=0, stop_words=None)\n",
    "tfidf_matrix = model.fit_transform(artist_df['genres'])"
   ],
   "outputs": [],
   "metadata": {}
  },
  {
   "cell_type": "code",
   "execution_count": 7,
   "source": [
    "cosine_similarities = linear_kernel(tfidf_matrix, tfidf_matrix) "
   ],
   "outputs": [],
   "metadata": {}
  },
  {
   "cell_type": "code",
   "execution_count": 8,
   "source": [
    "indices = pd.Series(artist_df.index, index=artist_df['name'])"
   ],
   "outputs": [],
   "metadata": {}
  },
  {
   "cell_type": "code",
   "execution_count": null,
   "source": [],
   "outputs": [],
   "metadata": {}
  },
  {
   "cell_type": "code",
   "execution_count": null,
   "source": [],
   "outputs": [],
   "metadata": {}
  },
  {
   "cell_type": "code",
   "execution_count": null,
   "source": [],
   "outputs": [],
   "metadata": {}
  },
  {
   "cell_type": "code",
   "execution_count": null,
   "source": [],
   "outputs": [],
   "metadata": {}
  },
  {
   "cell_type": "code",
   "execution_count": 9,
   "source": [
    "results = {}\n",
    "for idx, row in artist_df.iterrows():\n",
    "    similar_indices = cosine_similarities[idx].argsort()[:-100:-1] \n",
    "    similar_items = [(cosine_similarities[idx][i], artist_df['name'][i]) for i in similar_indices] \n",
    "    results[row['name']] = similar_items[1:]"
   ],
   "outputs": [],
   "metadata": {}
  },
  {
   "cell_type": "code",
   "execution_count": 10,
   "source": [
    "def _recommend(item_id, num):\n",
    "    recs = results[item_id][:num]   \n",
    "    preds = {}\n",
    "    for pair in recs:\n",
    "        preds[pair[1]] = pair[0]\n",
    "    return preds"
   ],
   "outputs": [],
   "metadata": {}
  },
  {
   "cell_type": "code",
   "execution_count": 14,
   "source": [
    "_recommend('Ed Sheeran', 5)"
   ],
   "outputs": [
    {
     "output_type": "execute_result",
     "data": {
      "text/plain": [
       "{'Lewis Capaldi': 1.0000000000000002,\n",
       " 'Ed Sheeran': 1.0000000000000002,\n",
       " 'Dua Lipa': 0.7212451083169278,\n",
       " 'HONNE': 0.6876996711411917,\n",
       " 'Louisa': 0.6867634867587893}"
      ]
     },
     "metadata": {},
     "execution_count": 14
    }
   ],
   "metadata": {}
  },
  {
   "cell_type": "code",
   "execution_count": null,
   "source": [],
   "outputs": [],
   "metadata": {}
  },
  {
   "cell_type": "code",
   "execution_count": 54,
   "source": [
    "def _recommend_multiple(artists, num=10):\n",
    "    dict_similar = {}\n",
    "    for artist, weight in artists.items():\n",
    "        dict_similar[artist] = _recommend(artist, num)\n",
    "    artists_all = []\n",
    "    for artist, similar_artists in dict_similar.items():\n",
    "        artists_all.append(list(similar_artists.keys()))\n",
    "    artists_unique = np.unique(artists_all).tolist()\n",
    "    artists_dict = {artist: 0 for artist in artists_unique}\n",
    "    for artist, similar_artists in dict_similar.items():\n",
    "        for similar_artist, score in similar_artists.items():\n",
    "            artists_dict[similar_artist] += artists[artist] * score\n",
    "    return list({k: v for k, v in sorted(artists_dict.items(), key=lambda item: item[1], reverse=True) if k not in artists}.keys())[0:num]"
   ],
   "outputs": [],
   "metadata": {}
  },
  {
   "cell_type": "code",
   "execution_count": null,
   "source": [
    "_recommend_multiple({\"Drake\": 10, \"Queen\": 8}, 5)"
   ],
   "outputs": [],
   "metadata": {}
  },
  {
   "cell_type": "code",
   "execution_count": null,
   "source": [],
   "outputs": [],
   "metadata": {}
  },
  {
   "cell_type": "code",
   "execution_count": 15,
   "source": [
    "import pickle \n",
    "with open('cos_sim_results','wb') as f: pickle.dump(results, f)"
   ],
   "outputs": [],
   "metadata": {}
  },
  {
   "cell_type": "code",
   "execution_count": null,
   "source": [],
   "outputs": [],
   "metadata": {}
  },
  {
   "cell_type": "code",
   "execution_count": null,
   "source": [],
   "outputs": [],
   "metadata": {}
  },
  {
   "cell_type": "code",
   "execution_count": 121,
   "source": [],
   "outputs": [],
   "metadata": {}
  },
  {
   "cell_type": "code",
   "execution_count": null,
   "source": [],
   "outputs": [],
   "metadata": {}
  },
  {
   "cell_type": "code",
   "execution_count": 75,
   "source": [],
   "outputs": [],
   "metadata": {}
  },
  {
   "cell_type": "code",
   "execution_count": null,
   "source": [],
   "outputs": [],
   "metadata": {}
  },
  {
   "cell_type": "code",
   "execution_count": null,
   "source": [],
   "outputs": [],
   "metadata": {}
  },
  {
   "cell_type": "code",
   "execution_count": 11,
   "source": [],
   "outputs": [],
   "metadata": {}
  },
  {
   "cell_type": "code",
   "execution_count": 129,
   "source": [],
   "outputs": [],
   "metadata": {}
  },
  {
   "cell_type": "code",
   "execution_count": null,
   "source": [],
   "outputs": [],
   "metadata": {}
  },
  {
   "cell_type": "code",
   "execution_count": 4,
   "source": [
    "with open('../pages/pickle/cos_sim_results', 'rb') as f:\n",
    "    results = pickle.load(f)"
   ],
   "outputs": [],
   "metadata": {}
  },
  {
   "cell_type": "code",
   "execution_count": 6,
   "source": [],
   "outputs": [
    {
     "output_type": "execute_result",
     "data": {
      "text/plain": [
       "dict"
      ]
     },
     "metadata": {},
     "execution_count": 6
    }
   ],
   "metadata": {}
  },
  {
   "cell_type": "code",
   "execution_count": null,
   "source": [],
   "outputs": [],
   "metadata": {}
  }
 ],
 "metadata": {
  "kernelspec": {
   "name": "python3",
   "display_name": "Python 3.8.5 64-bit ('base': conda)"
  },
  "language_info": {
   "codemirror_mode": {
    "name": "ipython",
    "version": 3
   },
   "file_extension": ".py",
   "mimetype": "text/x-python",
   "name": "python",
   "nbconvert_exporter": "python",
   "pygments_lexer": "ipython3",
   "version": "3.8.5"
  },
  "varInspector": {
   "cols": {
    "lenName": 16,
    "lenType": 16,
    "lenVar": 40
   },
   "kernels_config": {
    "python": {
     "delete_cmd_postfix": "",
     "delete_cmd_prefix": "del ",
     "library": "var_list.py",
     "varRefreshCmd": "print(var_dic_list())"
    },
    "r": {
     "delete_cmd_postfix": ") ",
     "delete_cmd_prefix": "rm(",
     "library": "var_list.r",
     "varRefreshCmd": "cat(var_dic_list()) "
    }
   },
   "types_to_exclude": [
    "module",
    "function",
    "builtin_function_or_method",
    "instance",
    "_Feature"
   ],
   "window_display": false
  },
  "interpreter": {
   "hash": "8e67d3b4e6e9c5ed82f76a8f7f99679990361e083096766a3b0e6dbb7e4e49b8"
  }
 },
 "nbformat": 4,
 "nbformat_minor": 2
}