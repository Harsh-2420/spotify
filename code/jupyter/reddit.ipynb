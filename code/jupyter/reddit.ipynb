{
 "cells": [
  {
   "cell_type": "code",
   "execution_count": 24,
   "metadata": {},
   "outputs": [],
   "source": [
    "import praw\n",
    "import requests\n",
    "from datetime import datetime, date\n",
    "import plotly.express as px\n",
    "from git_ignore.config import *\n",
    "import pandas as pd"
   ]
  },
  {
   "cell_type": "code",
   "execution_count": 6,
   "metadata": {},
   "outputs": [],
   "source": []
  },
  {
   "cell_type": "code",
   "execution_count": 3,
   "metadata": {},
   "outputs": [],
   "source": [
    "reddit = praw.Reddit(client_id=reddit_client_id, client_secret=reddit_client_secret, username=reddit_username, user_agent=reddit_user_agent)"
   ]
  },
  {
   "cell_type": "markdown",
   "metadata": {},
   "source": [
    "# Data from Keyword "
   ]
  },
  {
   "cell_type": "code",
   "execution_count": 56,
   "metadata": {},
   "outputs": [],
   "source": [
    "subreddit = reddit.subreddit('sidemen')\n",
    "d = {'sidemen': subreddit}\n",
    "# for key, val in d.items():\n",
    "#     for sub in val.hot(limit=2):\n",
    "#         print(sub.title)"
   ]
  },
  {
   "cell_type": "code",
   "execution_count": 59,
   "metadata": {},
   "outputs": [],
   "source": [
    "df = pd.DataFrame()\n",
    "id_list = []\n",
    "title = []\n",
    "author = []\n",
    "comments = []\n",
    "date = []\n",
    "score = []\n",
    "platform = []\n",
    "for key, val in d.items():\n",
    "    for sub in val.hot(limit=50):\n",
    "        time = datetime.utcfromtimestamp(sub.created).strftime('%Y-%m-%d')\n",
    "        id_list.append(sub.id)\n",
    "        title.append(sub.title)\n",
    "        author.append(sub.author)\n",
    "        comments.append(sub.num_comments)\n",
    "        date.append(time)\n",
    "        score.append(sub.score)\n",
    "        platform.append(1)\n",
    "\n",
    "    \n",
    "columns=['post_id', 'title', 'author', 'total comments', 'date posted', 'score']\n",
    "df['post_id'] = id_list\n",
    "df['title'] = title\n",
    "df['author'] = author\n",
    "df['total comments'] = comments\n",
    "df['date'] = date\n",
    "df['score'] = score\n",
    "df['platform'] = platform"
   ]
  },
  {
   "cell_type": "code",
   "execution_count": 62,
   "metadata": {},
   "outputs": [
    {
     "output_type": "execute_result",
     "data": {
      "text/plain": [
       "  post_id                                              title  \\\n",
       "0  ncrfup                                       WiseNEEK 🙏🙏🙏   \n",
       "1  ncgkn0  He’s happy Btw not crying. He’s crying from ha...   \n",
       "2  nc4f8c                   Move over KSimon, MOLABI is Here   \n",
       "3  ncnxiy                            Can he do it this time?   \n",
       "4  ncg075                                      Ethan Sister.   \n",
       "\n",
       "                 author  total comments        date  score  platform  \n",
       "0            xdsoccer04              21  2021-05-15    816         1  \n",
       "1       RubiconShlineV2               8  2021-05-15    545         1  \n",
       "2  AlternativeStress349              37  2021-05-14   2574         1  \n",
       "3     Forsaken_War_1225               0  2021-05-15     28         1  \n",
       "4     Downtown_Tie_9437               4  2021-05-15     93         1  "
      ],
      "text/html": "<div>\n<style scoped>\n    .dataframe tbody tr th:only-of-type {\n        vertical-align: middle;\n    }\n\n    .dataframe tbody tr th {\n        vertical-align: top;\n    }\n\n    .dataframe thead th {\n        text-align: right;\n    }\n</style>\n<table border=\"1\" class=\"dataframe\">\n  <thead>\n    <tr style=\"text-align: right;\">\n      <th></th>\n      <th>post_id</th>\n      <th>title</th>\n      <th>author</th>\n      <th>total comments</th>\n      <th>date</th>\n      <th>score</th>\n      <th>platform</th>\n    </tr>\n  </thead>\n  <tbody>\n    <tr>\n      <th>0</th>\n      <td>ncrfup</td>\n      <td>WiseNEEK 🙏🙏🙏</td>\n      <td>xdsoccer04</td>\n      <td>21</td>\n      <td>2021-05-15</td>\n      <td>816</td>\n      <td>1</td>\n    </tr>\n    <tr>\n      <th>1</th>\n      <td>ncgkn0</td>\n      <td>He’s happy Btw not crying. He’s crying from ha...</td>\n      <td>RubiconShlineV2</td>\n      <td>8</td>\n      <td>2021-05-15</td>\n      <td>545</td>\n      <td>1</td>\n    </tr>\n    <tr>\n      <th>2</th>\n      <td>nc4f8c</td>\n      <td>Move over KSimon, MOLABI is Here</td>\n      <td>AlternativeStress349</td>\n      <td>37</td>\n      <td>2021-05-14</td>\n      <td>2574</td>\n      <td>1</td>\n    </tr>\n    <tr>\n      <th>3</th>\n      <td>ncnxiy</td>\n      <td>Can he do it this time?</td>\n      <td>Forsaken_War_1225</td>\n      <td>0</td>\n      <td>2021-05-15</td>\n      <td>28</td>\n      <td>1</td>\n    </tr>\n    <tr>\n      <th>4</th>\n      <td>ncg075</td>\n      <td>Ethan Sister.</td>\n      <td>Downtown_Tie_9437</td>\n      <td>4</td>\n      <td>2021-05-15</td>\n      <td>93</td>\n      <td>1</td>\n    </tr>\n  </tbody>\n</table>\n</div>"
     },
     "metadata": {},
     "execution_count": 62
    }
   ],
   "source": [
    "df.head()"
   ]
  },
  {
   "cell_type": "code",
   "execution_count": 61,
   "metadata": {},
   "outputs": [
    {
     "output_type": "display_data",
     "data": {
      "application/vnd.plotly.v1+json": {
       "config": {
        "plotlyServerURL": "https://plot.ly"
       },
       "data": [
        {
         "hovertemplate": "<b>%{hovertext}</b><br><br>date=%{x}<br>score=%{y}<br>total comments=%{marker.size}<extra></extra>",
         "hovertext": [
          "WiseNEEK 🙏🙏🙏",
          "He’s happy Btw not crying. He’s crying from happiness",
          "Move over KSimon, MOLABI is Here",
          "Can he do it this time?",
          "Ethan Sister.",
          "Can you guys make a part 2 of this after the whole covid ting?",
          "Make it happen!",
          "Messi’s inspiration credit: @messi.policeforce ig",
          "Harry at his best!",
          "pokimane reacting w2s diss track",
          "Sidemen 4th Anime Opening",
          "Just going to leave this here",
          "Logan Paul vs Jake Paul?",
          "Ethan and Harry about to get to work",
          "Name a more iconic trio I'll wait",
          "Anyone know her instagram?",
          "7 LEGENDS👑 / ART FULLY MADE BY ME | INSTAGRAM: TJVSN",
          "Sidemen should post a fishing challenge",
          "Sidemen should post a fishing challenge",
          "Found Ethan’s dad",
          "Drew what the world wants to see before Jj actually does it! KSI vs Jake!",
          "WTF",
          "Uhhh JJ?",
          "🥶🥶",
          "If Gib beats Taylor Holder and Deji beats Vinnie Hacker JJ has to bring this guy back to his thumbnails how about that",
          "5yr olds when they get a 50 pound note",
          "WE NEED A REMAKE. One of the best vids with the sidemen to date",
          "You never told us you starred in an AD 😆",
          "Even the game knows he is fatneek",
          "If Spongebob fell in ye blender!",
          "r/ksi VS r/Sidemen",
          "Who else is waiting jj to release the album and the music ting just for this cunt to die and float to the atmosphere",
          "I hate when that happens",
          "This is what JJ will do to Jake Paul...",
          "It would be so dope",
          "Why did Tobi fall down like a character in Toy Story when Andy comes back?😂😂",
          "Nostalgia",
          "sidemen tinder Yung filly \"clapped\"",
          "Look at the Ethan transformation! CRAZY, my Man Ethan has been through a lot..",
          "Sidemen Sunday Video Idea",
          "Just gonna leave this here",
          "When JJ gives apology to Simon",
          "Help it",
          "What goes on inside his mind??",
          "Gymshark Behz. I've got 2 cool graphic pieces for you",
          "Don’t have enough karma to post on r/ksi, but, Original.",
          "Do you are have stupid?",
          "It izz what it izz",
          "What's Going On With The Beta Squad??",
          "This should be a show fr fr"
         ],
         "legendgroup": "",
         "marker": {
          "color": "#636efa",
          "size": [
           21,
           8,
           37,
           0,
           4,
           0,
           0,
           0,
           3,
           3,
           0,
           0,
           3,
           0,
           1,
           0,
           0,
           0,
           0,
           0,
           0,
           0,
           0,
           4,
           0,
           0,
           2,
           0,
           5,
           0,
           0,
           0,
           0,
           17,
           1,
           4,
           0,
           0,
           0,
           0,
           0,
           0,
           0,
           0,
           0,
           0,
           3,
           0,
           0,
           0
          ],
          "sizemode": "area",
          "sizeref": 0.0925,
          "symbol": "circle"
         },
         "mode": "markers",
         "name": "",
         "orientation": "v",
         "showlegend": false,
         "type": "scatter",
         "x": [
          "2021-05-15",
          "2021-05-15",
          "2021-05-14",
          "2021-05-15",
          "2021-05-15",
          "2021-05-15",
          "2021-05-15",
          "2021-05-15",
          "2021-05-15",
          "2021-05-15",
          "2021-05-15",
          "2021-05-15",
          "2021-05-15",
          "2021-05-15",
          "2021-05-15",
          "2021-05-15",
          "2021-05-15",
          "2021-05-15",
          "2021-05-15",
          "2021-05-15",
          "2021-05-15",
          "2021-05-15",
          "2021-05-15",
          "2021-05-14",
          "2021-05-15",
          "2021-05-15",
          "2021-05-14",
          "2021-05-15",
          "2021-05-14",
          "2021-05-15",
          "2021-05-15",
          "2021-05-15",
          "2021-05-15",
          "2021-05-13",
          "2021-05-14",
          "2021-05-14",
          "2021-05-15",
          "2021-05-15",
          "2021-05-14",
          "2021-05-15",
          "2021-05-15",
          "2021-05-15",
          "2021-05-14",
          "2021-05-14",
          "2021-05-14",
          "2021-05-15",
          "2021-05-14",
          "2021-05-14",
          "2021-05-15",
          "2021-05-15"
         ],
         "xaxis": "x",
         "y": [
          816,
          545,
          2574,
          28,
          93,
          5,
          4,
          19,
          32,
          4,
          2,
          37,
          13,
          2,
          2,
          1,
          1,
          1,
          1,
          1,
          1,
          1,
          7,
          59,
          1,
          11,
          72,
          1,
          100,
          0,
          0,
          10,
          6,
          1316,
          112,
          62,
          3,
          0,
          44,
          3,
          3,
          1,
          6,
          33,
          18,
          3,
          4,
          3,
          0,
          1
         ],
         "yaxis": "y"
        }
       ],
       "layout": {
        "legend": {
         "itemsizing": "constant",
         "tracegroupgap": 0
        },
        "margin": {
         "t": 60
        },
        "template": {
         "data": {
          "bar": [
           {
            "error_x": {
             "color": "#2a3f5f"
            },
            "error_y": {
             "color": "#2a3f5f"
            },
            "marker": {
             "line": {
              "color": "#E5ECF6",
              "width": 0.5
             }
            },
            "type": "bar"
           }
          ],
          "barpolar": [
           {
            "marker": {
             "line": {
              "color": "#E5ECF6",
              "width": 0.5
             }
            },
            "type": "barpolar"
           }
          ],
          "carpet": [
           {
            "aaxis": {
             "endlinecolor": "#2a3f5f",
             "gridcolor": "white",
             "linecolor": "white",
             "minorgridcolor": "white",
             "startlinecolor": "#2a3f5f"
            },
            "baxis": {
             "endlinecolor": "#2a3f5f",
             "gridcolor": "white",
             "linecolor": "white",
             "minorgridcolor": "white",
             "startlinecolor": "#2a3f5f"
            },
            "type": "carpet"
           }
          ],
          "choropleth": [
           {
            "colorbar": {
             "outlinewidth": 0,
             "ticks": ""
            },
            "type": "choropleth"
           }
          ],
          "contour": [
           {
            "colorbar": {
             "outlinewidth": 0,
             "ticks": ""
            },
            "colorscale": [
             [
              0,
              "#0d0887"
             ],
             [
              0.1111111111111111,
              "#46039f"
             ],
             [
              0.2222222222222222,
              "#7201a8"
             ],
             [
              0.3333333333333333,
              "#9c179e"
             ],
             [
              0.4444444444444444,
              "#bd3786"
             ],
             [
              0.5555555555555556,
              "#d8576b"
             ],
             [
              0.6666666666666666,
              "#ed7953"
             ],
             [
              0.7777777777777778,
              "#fb9f3a"
             ],
             [
              0.8888888888888888,
              "#fdca26"
             ],
             [
              1,
              "#f0f921"
             ]
            ],
            "type": "contour"
           }
          ],
          "contourcarpet": [
           {
            "colorbar": {
             "outlinewidth": 0,
             "ticks": ""
            },
            "type": "contourcarpet"
           }
          ],
          "heatmap": [
           {
            "colorbar": {
             "outlinewidth": 0,
             "ticks": ""
            },
            "colorscale": [
             [
              0,
              "#0d0887"
             ],
             [
              0.1111111111111111,
              "#46039f"
             ],
             [
              0.2222222222222222,
              "#7201a8"
             ],
             [
              0.3333333333333333,
              "#9c179e"
             ],
             [
              0.4444444444444444,
              "#bd3786"
             ],
             [
              0.5555555555555556,
              "#d8576b"
             ],
             [
              0.6666666666666666,
              "#ed7953"
             ],
             [
              0.7777777777777778,
              "#fb9f3a"
             ],
             [
              0.8888888888888888,
              "#fdca26"
             ],
             [
              1,
              "#f0f921"
             ]
            ],
            "type": "heatmap"
           }
          ],
          "heatmapgl": [
           {
            "colorbar": {
             "outlinewidth": 0,
             "ticks": ""
            },
            "colorscale": [
             [
              0,
              "#0d0887"
             ],
             [
              0.1111111111111111,
              "#46039f"
             ],
             [
              0.2222222222222222,
              "#7201a8"
             ],
             [
              0.3333333333333333,
              "#9c179e"
             ],
             [
              0.4444444444444444,
              "#bd3786"
             ],
             [
              0.5555555555555556,
              "#d8576b"
             ],
             [
              0.6666666666666666,
              "#ed7953"
             ],
             [
              0.7777777777777778,
              "#fb9f3a"
             ],
             [
              0.8888888888888888,
              "#fdca26"
             ],
             [
              1,
              "#f0f921"
             ]
            ],
            "type": "heatmapgl"
           }
          ],
          "histogram": [
           {
            "marker": {
             "colorbar": {
              "outlinewidth": 0,
              "ticks": ""
             }
            },
            "type": "histogram"
           }
          ],
          "histogram2d": [
           {
            "colorbar": {
             "outlinewidth": 0,
             "ticks": ""
            },
            "colorscale": [
             [
              0,
              "#0d0887"
             ],
             [
              0.1111111111111111,
              "#46039f"
             ],
             [
              0.2222222222222222,
              "#7201a8"
             ],
             [
              0.3333333333333333,
              "#9c179e"
             ],
             [
              0.4444444444444444,
              "#bd3786"
             ],
             [
              0.5555555555555556,
              "#d8576b"
             ],
             [
              0.6666666666666666,
              "#ed7953"
             ],
             [
              0.7777777777777778,
              "#fb9f3a"
             ],
             [
              0.8888888888888888,
              "#fdca26"
             ],
             [
              1,
              "#f0f921"
             ]
            ],
            "type": "histogram2d"
           }
          ],
          "histogram2dcontour": [
           {
            "colorbar": {
             "outlinewidth": 0,
             "ticks": ""
            },
            "colorscale": [
             [
              0,
              "#0d0887"
             ],
             [
              0.1111111111111111,
              "#46039f"
             ],
             [
              0.2222222222222222,
              "#7201a8"
             ],
             [
              0.3333333333333333,
              "#9c179e"
             ],
             [
              0.4444444444444444,
              "#bd3786"
             ],
             [
              0.5555555555555556,
              "#d8576b"
             ],
             [
              0.6666666666666666,
              "#ed7953"
             ],
             [
              0.7777777777777778,
              "#fb9f3a"
             ],
             [
              0.8888888888888888,
              "#fdca26"
             ],
             [
              1,
              "#f0f921"
             ]
            ],
            "type": "histogram2dcontour"
           }
          ],
          "mesh3d": [
           {
            "colorbar": {
             "outlinewidth": 0,
             "ticks": ""
            },
            "type": "mesh3d"
           }
          ],
          "parcoords": [
           {
            "line": {
             "colorbar": {
              "outlinewidth": 0,
              "ticks": ""
             }
            },
            "type": "parcoords"
           }
          ],
          "pie": [
           {
            "automargin": true,
            "type": "pie"
           }
          ],
          "scatter": [
           {
            "marker": {
             "colorbar": {
              "outlinewidth": 0,
              "ticks": ""
             }
            },
            "type": "scatter"
           }
          ],
          "scatter3d": [
           {
            "line": {
             "colorbar": {
              "outlinewidth": 0,
              "ticks": ""
             }
            },
            "marker": {
             "colorbar": {
              "outlinewidth": 0,
              "ticks": ""
             }
            },
            "type": "scatter3d"
           }
          ],
          "scattercarpet": [
           {
            "marker": {
             "colorbar": {
              "outlinewidth": 0,
              "ticks": ""
             }
            },
            "type": "scattercarpet"
           }
          ],
          "scattergeo": [
           {
            "marker": {
             "colorbar": {
              "outlinewidth": 0,
              "ticks": ""
             }
            },
            "type": "scattergeo"
           }
          ],
          "scattergl": [
           {
            "marker": {
             "colorbar": {
              "outlinewidth": 0,
              "ticks": ""
             }
            },
            "type": "scattergl"
           }
          ],
          "scattermapbox": [
           {
            "marker": {
             "colorbar": {
              "outlinewidth": 0,
              "ticks": ""
             }
            },
            "type": "scattermapbox"
           }
          ],
          "scatterpolar": [
           {
            "marker": {
             "colorbar": {
              "outlinewidth": 0,
              "ticks": ""
             }
            },
            "type": "scatterpolar"
           }
          ],
          "scatterpolargl": [
           {
            "marker": {
             "colorbar": {
              "outlinewidth": 0,
              "ticks": ""
             }
            },
            "type": "scatterpolargl"
           }
          ],
          "scatterternary": [
           {
            "marker": {
             "colorbar": {
              "outlinewidth": 0,
              "ticks": ""
             }
            },
            "type": "scatterternary"
           }
          ],
          "surface": [
           {
            "colorbar": {
             "outlinewidth": 0,
             "ticks": ""
            },
            "colorscale": [
             [
              0,
              "#0d0887"
             ],
             [
              0.1111111111111111,
              "#46039f"
             ],
             [
              0.2222222222222222,
              "#7201a8"
             ],
             [
              0.3333333333333333,
              "#9c179e"
             ],
             [
              0.4444444444444444,
              "#bd3786"
             ],
             [
              0.5555555555555556,
              "#d8576b"
             ],
             [
              0.6666666666666666,
              "#ed7953"
             ],
             [
              0.7777777777777778,
              "#fb9f3a"
             ],
             [
              0.8888888888888888,
              "#fdca26"
             ],
             [
              1,
              "#f0f921"
             ]
            ],
            "type": "surface"
           }
          ],
          "table": [
           {
            "cells": {
             "fill": {
              "color": "#EBF0F8"
             },
             "line": {
              "color": "white"
             }
            },
            "header": {
             "fill": {
              "color": "#C8D4E3"
             },
             "line": {
              "color": "white"
             }
            },
            "type": "table"
           }
          ]
         },
         "layout": {
          "annotationdefaults": {
           "arrowcolor": "#2a3f5f",
           "arrowhead": 0,
           "arrowwidth": 1
          },
          "autotypenumbers": "strict",
          "coloraxis": {
           "colorbar": {
            "outlinewidth": 0,
            "ticks": ""
           }
          },
          "colorscale": {
           "diverging": [
            [
             0,
             "#8e0152"
            ],
            [
             0.1,
             "#c51b7d"
            ],
            [
             0.2,
             "#de77ae"
            ],
            [
             0.3,
             "#f1b6da"
            ],
            [
             0.4,
             "#fde0ef"
            ],
            [
             0.5,
             "#f7f7f7"
            ],
            [
             0.6,
             "#e6f5d0"
            ],
            [
             0.7,
             "#b8e186"
            ],
            [
             0.8,
             "#7fbc41"
            ],
            [
             0.9,
             "#4d9221"
            ],
            [
             1,
             "#276419"
            ]
           ],
           "sequential": [
            [
             0,
             "#0d0887"
            ],
            [
             0.1111111111111111,
             "#46039f"
            ],
            [
             0.2222222222222222,
             "#7201a8"
            ],
            [
             0.3333333333333333,
             "#9c179e"
            ],
            [
             0.4444444444444444,
             "#bd3786"
            ],
            [
             0.5555555555555556,
             "#d8576b"
            ],
            [
             0.6666666666666666,
             "#ed7953"
            ],
            [
             0.7777777777777778,
             "#fb9f3a"
            ],
            [
             0.8888888888888888,
             "#fdca26"
            ],
            [
             1,
             "#f0f921"
            ]
           ],
           "sequentialminus": [
            [
             0,
             "#0d0887"
            ],
            [
             0.1111111111111111,
             "#46039f"
            ],
            [
             0.2222222222222222,
             "#7201a8"
            ],
            [
             0.3333333333333333,
             "#9c179e"
            ],
            [
             0.4444444444444444,
             "#bd3786"
            ],
            [
             0.5555555555555556,
             "#d8576b"
            ],
            [
             0.6666666666666666,
             "#ed7953"
            ],
            [
             0.7777777777777778,
             "#fb9f3a"
            ],
            [
             0.8888888888888888,
             "#fdca26"
            ],
            [
             1,
             "#f0f921"
            ]
           ]
          },
          "colorway": [
           "#636efa",
           "#EF553B",
           "#00cc96",
           "#ab63fa",
           "#FFA15A",
           "#19d3f3",
           "#FF6692",
           "#B6E880",
           "#FF97FF",
           "#FECB52"
          ],
          "font": {
           "color": "#2a3f5f"
          },
          "geo": {
           "bgcolor": "white",
           "lakecolor": "white",
           "landcolor": "#E5ECF6",
           "showlakes": true,
           "showland": true,
           "subunitcolor": "white"
          },
          "hoverlabel": {
           "align": "left"
          },
          "hovermode": "closest",
          "mapbox": {
           "style": "light"
          },
          "paper_bgcolor": "white",
          "plot_bgcolor": "#E5ECF6",
          "polar": {
           "angularaxis": {
            "gridcolor": "white",
            "linecolor": "white",
            "ticks": ""
           },
           "bgcolor": "#E5ECF6",
           "radialaxis": {
            "gridcolor": "white",
            "linecolor": "white",
            "ticks": ""
           }
          },
          "scene": {
           "xaxis": {
            "backgroundcolor": "#E5ECF6",
            "gridcolor": "white",
            "gridwidth": 2,
            "linecolor": "white",
            "showbackground": true,
            "ticks": "",
            "zerolinecolor": "white"
           },
           "yaxis": {
            "backgroundcolor": "#E5ECF6",
            "gridcolor": "white",
            "gridwidth": 2,
            "linecolor": "white",
            "showbackground": true,
            "ticks": "",
            "zerolinecolor": "white"
           },
           "zaxis": {
            "backgroundcolor": "#E5ECF6",
            "gridcolor": "white",
            "gridwidth": 2,
            "linecolor": "white",
            "showbackground": true,
            "ticks": "",
            "zerolinecolor": "white"
           }
          },
          "shapedefaults": {
           "line": {
            "color": "#2a3f5f"
           }
          },
          "ternary": {
           "aaxis": {
            "gridcolor": "white",
            "linecolor": "white",
            "ticks": ""
           },
           "baxis": {
            "gridcolor": "white",
            "linecolor": "white",
            "ticks": ""
           },
           "bgcolor": "#E5ECF6",
           "caxis": {
            "gridcolor": "white",
            "linecolor": "white",
            "ticks": ""
           }
          },
          "title": {
           "x": 0.05
          },
          "xaxis": {
           "automargin": true,
           "gridcolor": "white",
           "linecolor": "white",
           "ticks": "",
           "title": {
            "standoff": 15
           },
           "zerolinecolor": "white",
           "zerolinewidth": 2
          },
          "yaxis": {
           "automargin": true,
           "gridcolor": "white",
           "linecolor": "white",
           "ticks": "",
           "title": {
            "standoff": 15
           },
           "zerolinecolor": "white",
           "zerolinewidth": 2
          }
         }
        },
        "xaxis": {
         "anchor": "y",
         "domain": [
          0,
          1
         ],
         "title": {
          "text": "date"
         }
        },
        "yaxis": {
         "anchor": "x",
         "domain": [
          0,
          1
         ],
         "title": {
          "text": "score"
         }
        }
       }
      }
     },
     "metadata": {}
    }
   ],
   "source": [
    "# new_df = px.data.gapminder()\n",
    "\n",
    "# new_df.head(5)\n",
    "fig = px.scatter(\n",
    "    df.query('platform==1'),\n",
    "    x=\"date\", y=\"score\",\n",
    "             size=\"total comments\", \n",
    "#                  color=\"continent\",\n",
    "                 hover_name=\"title\")\n",
    "fig.show()"
   ]
  },
  {
   "cell_type": "code",
   "execution_count": null,
   "metadata": {},
   "outputs": [],
   "source": []
  },
  {
   "cell_type": "code",
   "execution_count": null,
   "metadata": {},
   "outputs": [],
   "source": []
  },
  {
   "cell_type": "code",
   "execution_count": 12,
   "metadata": {},
   "outputs": [],
   "source": [
    "# get most popular artists on Reddit"
   ]
  },
  {
   "cell_type": "code",
   "execution_count": 77,
   "metadata": {},
   "outputs": [],
   "source": [
    "top_artists = ['Drake', 'Queen', 'JCole', 'sidemen']\n",
    "d = {}\n",
    "for x in top_artists:\n",
    "    d[\"{0}\".format(x)] = reddit.subreddit(x)\n"
   ]
  },
  {
   "cell_type": "code",
   "execution_count": 78,
   "metadata": {},
   "outputs": [
    {
     "output_type": "execute_result",
     "data": {
      "text/plain": [
       "{'Drake': Subreddit(display_name='Drake'),\n",
       " 'Queen': Subreddit(display_name='Queen'),\n",
       " 'JCole': Subreddit(display_name='JCole'),\n",
       " 'sidemen': Subreddit(display_name='sidemen')}"
      ]
     },
     "metadata": {},
     "execution_count": 78
    }
   ],
   "source": [
    "d"
   ]
  },
  {
   "cell_type": "code",
   "execution_count": 79,
   "metadata": {},
   "outputs": [],
   "source": [
    "df = pd.DataFrame()\n",
    "id_list = []\n",
    "title = []\n",
    "author = []\n",
    "comments = []\n",
    "date = []\n",
    "score = []\n",
    "platform = []\n",
    "artist = []\n",
    "for key, val in d.items():\n",
    "    try:\n",
    "        for sub in val.hot(limit=50):\n",
    "            time = datetime.utcfromtimestamp(sub.created).strftime('%Y-%m-%d')\n",
    "            id_list.append(sub.id)\n",
    "            title.append(sub.title)\n",
    "            author.append(sub.author)\n",
    "            comments.append(sub.num_comments)\n",
    "            date.append(time)\n",
    "            score.append(sub.score)\n",
    "            platform.append(1)\n",
    "            artist.append(key)\n",
    "    except:\n",
    "        continue\n",
    "    \n",
    "df['post_id'] = id_list\n",
    "df['title'] = title\n",
    "df['author'] = author\n",
    "df['total comments'] = comments\n",
    "df['date'] = date\n",
    "df['score'] = score\n",
    "df['platform'] = platform\n",
    "df['artist'] = artist"
   ]
  },
  {
   "cell_type": "code",
   "execution_count": 80,
   "metadata": {},
   "outputs": [
    {
     "output_type": "execute_result",
     "data": {
      "text/plain": [
       "  post_id                                              title  \\\n",
       "0  e2p7a7  If you're looking for the Toronto discord serv...   \n",
       "1  fpg4mp  If you're looking for the rapper Drake, please...   \n",
       "2  fiaj7i                      Read the Rules Before Posting   \n",
       "3  ncoyuw                                             Amogus   \n",
       "4  ncrvig                                        My favorite   \n",
       "\n",
       "                author  total comments        date  score  platform artist  \n",
       "0           ReVoDimelo               0  2019-11-28     10         1  Drake  \n",
       "1           ReVoDimelo               7  2020-03-27     67         1  Drake  \n",
       "2      MajorLeagueRekt              24  2020-03-14    117         1  Queen  \n",
       "3         a_dank_boi69               7  2021-05-15    112         1  Queen  \n",
       "4  manbhindtheslaughte               2  2021-05-15     50         1  Queen  "
      ],
      "text/html": "<div>\n<style scoped>\n    .dataframe tbody tr th:only-of-type {\n        vertical-align: middle;\n    }\n\n    .dataframe tbody tr th {\n        vertical-align: top;\n    }\n\n    .dataframe thead th {\n        text-align: right;\n    }\n</style>\n<table border=\"1\" class=\"dataframe\">\n  <thead>\n    <tr style=\"text-align: right;\">\n      <th></th>\n      <th>post_id</th>\n      <th>title</th>\n      <th>author</th>\n      <th>total comments</th>\n      <th>date</th>\n      <th>score</th>\n      <th>platform</th>\n      <th>artist</th>\n    </tr>\n  </thead>\n  <tbody>\n    <tr>\n      <th>0</th>\n      <td>e2p7a7</td>\n      <td>If you're looking for the Toronto discord serv...</td>\n      <td>ReVoDimelo</td>\n      <td>0</td>\n      <td>2019-11-28</td>\n      <td>10</td>\n      <td>1</td>\n      <td>Drake</td>\n    </tr>\n    <tr>\n      <th>1</th>\n      <td>fpg4mp</td>\n      <td>If you're looking for the rapper Drake, please...</td>\n      <td>ReVoDimelo</td>\n      <td>7</td>\n      <td>2020-03-27</td>\n      <td>67</td>\n      <td>1</td>\n      <td>Drake</td>\n    </tr>\n    <tr>\n      <th>2</th>\n      <td>fiaj7i</td>\n      <td>Read the Rules Before Posting</td>\n      <td>MajorLeagueRekt</td>\n      <td>24</td>\n      <td>2020-03-14</td>\n      <td>117</td>\n      <td>1</td>\n      <td>Queen</td>\n    </tr>\n    <tr>\n      <th>3</th>\n      <td>ncoyuw</td>\n      <td>Amogus</td>\n      <td>a_dank_boi69</td>\n      <td>7</td>\n      <td>2021-05-15</td>\n      <td>112</td>\n      <td>1</td>\n      <td>Queen</td>\n    </tr>\n    <tr>\n      <th>4</th>\n      <td>ncrvig</td>\n      <td>My favorite</td>\n      <td>manbhindtheslaughte</td>\n      <td>2</td>\n      <td>2021-05-15</td>\n      <td>50</td>\n      <td>1</td>\n      <td>Queen</td>\n    </tr>\n  </tbody>\n</table>\n</div>"
     },
     "metadata": {},
     "execution_count": 80
    }
   ],
   "source": [
    "df.head(5)"
   ]
  },
  {
   "cell_type": "code",
   "execution_count": 81,
   "metadata": {},
   "outputs": [
    {
     "output_type": "display_data",
     "data": {
      "application/vnd.plotly.v1+json": {
       "config": {
        "plotlyServerURL": "https://plot.ly"
       },
       "data": [
        {
         "hovertemplate": "<b>%{hovertext}</b><br><br>artist=Drake<br>date=%{x}<br>score=%{y}<br>total comments=%{marker.size}<extra></extra>",
         "hovertext": [
          "If you're looking for the Toronto discord server, please visit: https://discord.gg/wn9GFuF",
          "If you're looking for the rapper Drake, please go to r/Drizzy"
         ],
         "legendgroup": "Drake",
         "marker": {
          "color": "#636efa",
          "size": [
           0,
           7
          ],
          "sizemode": "area",
          "sizeref": 1.1225,
          "symbol": "circle"
         },
         "mode": "markers",
         "name": "Drake",
         "orientation": "v",
         "showlegend": true,
         "type": "scatter",
         "x": [
          "2019-11-28",
          "2020-03-27"
         ],
         "xaxis": "x",
         "y": [
          10,
          67
         ],
         "yaxis": "y"
        },
        {
         "hovertemplate": "<b>%{hovertext}</b><br><br>artist=Queen<br>date=%{x}<br>score=%{y}<br>total comments=%{marker.size}<extra></extra>",
         "hovertext": [
          "Read the Rules Before Posting",
          "Amogus",
          "My favorite",
          "Need your loving tonight is so underrated it’s not even funny",
          "Restaurant idea",
          "This might ruffle some feathers, but this is my queen album ranking list",
          "I’m one who loves a kind magic demo?",
          "Roger relaxing",
          "What’s the significance of today in Queen history?",
          "This is nightmare fuel",
          "My latest Freddie painting 👑🎨",
          "About time I make everyone on this subreddit mad",
          "I think bohemian rhapsody is a little overrated in my opinion. But not in the way you think.",
          "Been a Queen fan since 1975 but after A Kind of Magic life got in the way and I don't know their last couple of albums well enough to include them here. My tier list.",
          "Execute order 39",
          "I finally got my live magic record I ordered a couple months ago but it finally came but I don’t like it to much because it only has 14 songs on the album but Queen played 28 songs it kind bugs me but it’s not that big of a deal",
          "Marc Martel and Jonathan Cilia Faro - Too Much Love Will Kill You",
          "What is your favorite queen song",
          "The single ‘Headlong’ Released 30 years ago today! The 3rd single off of ‘Innuendo’.",
          "Another one bites the dust",
          "A night at the opera",
          "Made in heaven",
          "I updated the list yet again",
          "A day at the races",
          "This is the list for the game.",
          "I did some thinking and made an updated list",
          "The Struts Release a new single We Will Rock you. See the video here.",
          "The Struts Cover Queen’s 'We Will Rock You'",
          "Freddie in 1980",
          "Id love to be that camera man 🤤",
          "To celebrate 30 years of Innuendo, my friends and I made a special video where we break down the album and everything that makes it special. We’d love it if you checked it out and let us know what you think! :)",
          "Got some Queen shirts in the mail today!",
          "Barcelona brings me to tears",
          "📷HAPPY BIRTHDAY, RAMI!!📷",
          "Here is a badass photo of Freddie! Looks like a super hero. A rock and roll super hero!",
          "Happy Birthday, Rami Malek!",
          "By another request on someone. Here or some images mostly from Hammersmith 1979. Hope you enjoy!",
          "Saviour of the universe",
          "My first Queen drawing",
          "Freddie Merc-booty. The second image is one of my favorites because of the sparkly shine on the microphone",
          "Happy 40th birthday to Rami Malek the actor who plays Freddie Mercury in Bohemian Rhapsody",
          "Those eyes!",
          "Not sure if I've posted this image before. More on the way!",
          "By request of someone in my last post. Here are some pictures from Saarbrucken 1979. The last image isn't from this concert bit I thought it looked cool.",
          "How y’all think I did?",
          "Construction crew breaks free",
          "Good news!",
          "Queen’s greatest hits in a piano medley 🎹",
          "Queen & David Bowie - Under Pressure - Alternative and unused takes",
          "Finally “united” after 45 years. Left is my mom’s vinyl from 1976 and right is mine from this year"
         ],
         "legendgroup": "Queen",
         "marker": {
          "color": "#EF553B",
          "size": [
           24,
           7,
           2,
           46,
           2,
           24,
           1,
           0,
           1,
           2,
           19,
           4,
           5,
           4,
           1,
           4,
           1,
           66,
           21,
           0,
           3,
           0,
           3,
           0,
           0,
           3,
           0,
           0,
           0,
           2,
           1,
           3,
           2,
           3,
           23,
           3,
           6,
           0,
           8,
           8,
           10,
           5,
           1,
           1,
           1,
           0,
           14,
           0,
           1,
           6
          ],
          "sizemode": "area",
          "sizeref": 1.1225,
          "symbol": "circle"
         },
         "mode": "markers",
         "name": "Queen",
         "orientation": "v",
         "showlegend": true,
         "type": "scatter",
         "x": [
          "2020-03-14",
          "2021-05-15",
          "2021-05-15",
          "2021-05-14",
          "2021-05-15",
          "2021-05-14",
          "2021-05-15",
          "2021-05-15",
          "2021-05-15",
          "2021-05-15",
          "2021-05-14",
          "2021-05-15",
          "2021-05-14",
          "2021-05-15",
          "2021-05-15",
          "2021-05-15",
          "2021-05-15",
          "2021-05-14",
          "2021-05-13",
          "2021-05-15",
          "2021-05-14",
          "2021-05-14",
          "2021-05-15",
          "2021-05-14",
          "2021-05-14",
          "2021-05-14",
          "2021-05-15",
          "2021-05-15",
          "2021-05-13",
          "2021-05-14",
          "2021-05-14",
          "2021-05-14",
          "2021-05-14",
          "2021-05-13",
          "2021-05-12",
          "2021-05-13",
          "2021-05-13",
          "2021-05-13",
          "2021-05-12",
          "2021-05-13",
          "2021-05-12",
          "2021-05-13",
          "2021-05-12",
          "2021-05-13",
          "2021-05-13",
          "2021-05-12",
          "2021-05-11",
          "2021-05-13",
          "2021-05-12",
          "2021-05-11"
         ],
         "xaxis": "x",
         "y": [
          117,
          112,
          50,
          529,
          16,
          136,
          15,
          13,
          5,
          14,
          357,
          3,
          8,
          3,
          0,
          4,
          2,
          29,
          435,
          0,
          3,
          4,
          1,
          2,
          2,
          2,
          0,
          1,
          121,
          41,
          16,
          14,
          5,
          37,
          467,
          160,
          61,
          5,
          271,
          31,
          141,
          27,
          29,
          12,
          9,
          14,
          580,
          4,
          11,
          362
         ],
         "yaxis": "y"
        },
        {
         "hovertemplate": "<b>%{hovertext}</b><br><br>artist=JCole<br>date=%{x}<br>score=%{y}<br>total comments=%{marker.size}<extra></extra>",
         "hovertext": [
          "(Discussion Thread) J. Cole - Applying Pressure: The Off-Season Documentary",
          "The Off-Season available everywhere now",
          "Apple Music US Charts",
          "“T h e . F i r s t . T o . D o . I t”",
          "J Cole To Appear On KD’s Podcast Tomorrow",
          "Listen to the album in reverse.",
          "If you know you know 😂😂😂",
          "😭 grind never stops!",
          "HHCJ with a banger 😭😭😭",
          "ong this me. played the album 3x last night and woke up today and drove to the gym bumping it, bumped it on the way home, bumped it in the parking lot and as i'm writing this it's playing on my laptop 😭",
          "All of us rn",
          ".",
          "Mfs when they start nitpicking The Off-Season after one listen.",
          "🔥🔥🔥",
          "Meanwhile in the Mushroom Kingdom...",
          "Cole rn (via @jakepablomedia)",
          "Predictions for first week sales???",
          "Pride is the devil went the hardest who’s w me.",
          "I got it wrong",
          "Rare photo of J.Cole and Machine Gun Kelly",
          "J cole added features name . On fall off season album . Spotify. itunes. Apple music",
          "LMFAOO",
          "“Album is mid. It’s boring because it has no concept whatsoever and Cole is not good at making songs like this. The bars and instrumentals weren’t even up to par. 6/10”",
          "The HARDEST double entendre I almost missed.",
          "IM SO SORRY BUT.. “KRISPY KREME DREAMS SOMETIMES MY NIGGAS WANNA KILL 12”",
          "THE OFF-SEASON . CASSETTE . TAPE .",
          "Platinum with Features 🙃",
          "When god said let there be light, he made j.cole",
          "Polo G and Reason showing support for Cole 👏🏾👏🏾",
          "From overall reviews, it seems like non JCole fans like this album more than Cole fans",
          "Album Review",
          "“The Off-Season Mid”",
          "me and my demons vibing to my life",
          "I wish I could hear this song for the first time again",
          "When you hear 21 on m y . l i fe",
          "J. Cole fans everytime he drops an Album",
          "WE GOT OUR LIVES TOGETHER ‼️",
          "I actually like the lack of concept in this album",
          "Savage Mode III comin soon or what👀 ( sorry for trash meme skills )",
          "*Permanent Stank Face*",
          "The Off Season - Charts After A Day !",
          "J. Cole - The Off-Season (Cover Concept)",
          "How we all were when we first heard Cam’s voice 😂",
          "The transition in \"Pride Is the Devil\" be like:",
          "Had me zoning out for a minute",
          "When you hear the surprise features",
          "The TDE guys showing love to Cole. Cole dropped an unbelievable piece of work 🔥",
          "The Cole -> Mooray -> 21 Savage got me like",
          "There's one thing a saiyan always keeps. HIS PRIDE",
          "my homie constantly telling me ‘bout Qur’an, puttin’ me on"
         ],
         "legendgroup": "JCole",
         "marker": {
          "color": "#00cc96",
          "size": [
           93,
           449,
           8,
           29,
           6,
           26,
           1,
           2,
           0,
           1,
           12,
           10,
           8,
           2,
           9,
           6,
           14,
           11,
           1,
           7,
           1,
           0,
           15,
           5,
           8,
           3,
           1,
           2,
           0,
           7,
           0,
           12,
           0,
           10,
           24,
           1,
           0,
           60,
           0,
           0,
           1,
           1,
           4,
           1,
           0,
           27,
           3,
           11,
           2,
           3
          ],
          "sizemode": "area",
          "sizeref": 1.1225,
          "symbol": "circle"
         },
         "mode": "markers",
         "name": "JCole",
         "orientation": "v",
         "showlegend": true,
         "type": "scatter",
         "x": [
          "2021-05-11",
          "2021-05-14",
          "2021-05-15",
          "2021-05-14",
          "2021-05-15",
          "2021-05-15",
          "2021-05-15",
          "2021-05-15",
          "2021-05-15",
          "2021-05-15",
          "2021-05-14",
          "2021-05-15",
          "2021-05-15",
          "2021-05-15",
          "2021-05-14",
          "2021-05-14",
          "2021-05-15",
          "2021-05-15",
          "2021-05-15",
          "2021-05-14",
          "2021-05-15",
          "2021-05-15",
          "2021-05-15",
          "2021-05-15",
          "2021-05-15",
          "2021-05-15",
          "2021-05-14",
          "2021-05-14",
          "2021-05-15",
          "2021-05-15",
          "2021-05-15",
          "2021-05-15",
          "2021-05-15",
          "2021-05-15",
          "2021-05-14",
          "2021-05-15",
          "2021-05-15",
          "2021-05-14",
          "2021-05-15",
          "2021-05-14",
          "2021-05-15",
          "2021-05-15",
          "2021-05-15",
          "2021-05-15",
          "2021-05-15",
          "2021-05-14",
          "2021-05-15",
          "2021-05-14",
          "2021-05-15",
          "2021-05-15"
         ],
         "xaxis": "x",
         "y": [
          686,
          1641,
          247,
          1408,
          180,
          405,
          166,
          191,
          50,
          129,
          503,
          258,
          74,
          187,
          308,
          231,
          82,
          157,
          9,
          200,
          48,
          57,
          93,
          27,
          29,
          8,
          227,
          214,
          48,
          16,
          4,
          54,
          18,
          97,
          802,
          10,
          9,
          144,
          14,
          358,
          7,
          23,
          15,
          3,
          25,
          611,
          42,
          136,
          58,
          18
         ],
         "yaxis": "y"
        },
        {
         "hovertemplate": "<b>%{hovertext}</b><br><br>artist=sidemen<br>date=%{x}<br>score=%{y}<br>total comments=%{marker.size}<extra></extra>",
         "hovertext": [
          "WiseNEEK 🙏🙏🙏",
          "He’s happy Btw not crying. He’s crying from happiness",
          "Move over KSimon, MOLABI is Here",
          "Can he do it this time?",
          "Ethan Sister.",
          "Can you guys make a part 2 of this after the whole covid ting?",
          "Make it happen!",
          "Messi’s inspiration credit: @messi.policeforce ig",
          "Harry at his best!",
          "pokimane reacting w2s diss track",
          "Sidemen 4th Anime Opening",
          "Just going to leave this here",
          "Logan Paul vs Jake Paul?",
          "Ethan and Harry about to get to work",
          "Name a more iconic trio I'll wait",
          "Anyone know her instagram?",
          "7 LEGENDS👑 / ART FULLY MADE BY ME | INSTAGRAM: TJVSN",
          "Sidemen should post a fishing challenge",
          "Sidemen should post a fishing challenge",
          "Found Ethan’s dad",
          "Drew what the world wants to see before Jj actually does it! KSI vs Jake!",
          "WTF",
          "Uhhh JJ?",
          "🥶🥶",
          "If Gib beats Taylor Holder and Deji beats Vinnie Hacker JJ has to bring this guy back to his thumbnails how about that",
          "5yr olds when they get a 50 pound note",
          "WE NEED A REMAKE. One of the best vids with the sidemen to date",
          "You never told us you starred in an AD 😆",
          "Even the game knows he is fatneek",
          "If Spongebob fell in ye blender!",
          "r/ksi VS r/Sidemen",
          "Who else is waiting jj to release the album and the music ting just for this cunt to die and float to the atmosphere",
          "I hate when that happens",
          "This is what JJ will do to Jake Paul...",
          "It would be so dope",
          "Why did Tobi fall down like a character in Toy Story when Andy comes back?😂😂",
          "Nostalgia",
          "sidemen tinder Yung filly \"clapped\"",
          "Look at the Ethan transformation! CRAZY, my Man Ethan has been through a lot..",
          "Sidemen Sunday Video Idea",
          "Just gonna leave this here",
          "When JJ gives apology to Simon",
          "Help it",
          "What goes on inside his mind??",
          "Gymshark Behz. I've got 2 cool graphic pieces for you",
          "Don’t have enough karma to post on r/ksi, but, Original.",
          "Do you are have stupid?",
          "It izz what it izz",
          "What's Going On With The Beta Squad??",
          "This should be a show fr fr"
         ],
         "legendgroup": "sidemen",
         "marker": {
          "color": "#ab63fa",
          "size": [
           21,
           8,
           37,
           0,
           4,
           0,
           0,
           0,
           3,
           3,
           0,
           0,
           3,
           0,
           1,
           0,
           0,
           0,
           0,
           0,
           0,
           0,
           0,
           4,
           0,
           0,
           2,
           0,
           5,
           0,
           0,
           0,
           0,
           17,
           1,
           4,
           0,
           0,
           0,
           0,
           0,
           0,
           0,
           0,
           0,
           0,
           3,
           0,
           0,
           0
          ],
          "sizemode": "area",
          "sizeref": 1.1225,
          "symbol": "circle"
         },
         "mode": "markers",
         "name": "sidemen",
         "orientation": "v",
         "showlegend": true,
         "type": "scatter",
         "x": [
          "2021-05-15",
          "2021-05-15",
          "2021-05-14",
          "2021-05-15",
          "2021-05-15",
          "2021-05-15",
          "2021-05-15",
          "2021-05-15",
          "2021-05-15",
          "2021-05-15",
          "2021-05-15",
          "2021-05-15",
          "2021-05-15",
          "2021-05-15",
          "2021-05-15",
          "2021-05-15",
          "2021-05-15",
          "2021-05-15",
          "2021-05-15",
          "2021-05-15",
          "2021-05-15",
          "2021-05-15",
          "2021-05-15",
          "2021-05-14",
          "2021-05-15",
          "2021-05-15",
          "2021-05-14",
          "2021-05-15",
          "2021-05-14",
          "2021-05-15",
          "2021-05-15",
          "2021-05-15",
          "2021-05-15",
          "2021-05-13",
          "2021-05-14",
          "2021-05-14",
          "2021-05-15",
          "2021-05-15",
          "2021-05-14",
          "2021-05-15",
          "2021-05-15",
          "2021-05-15",
          "2021-05-14",
          "2021-05-14",
          "2021-05-14",
          "2021-05-15",
          "2021-05-14",
          "2021-05-14",
          "2021-05-15",
          "2021-05-15"
         ],
         "xaxis": "x",
         "y": [
          818,
          544,
          2581,
          27,
          95,
          5,
          4,
          23,
          29,
          7,
          2,
          34,
          14,
          2,
          2,
          1,
          1,
          1,
          1,
          1,
          1,
          1,
          7,
          56,
          1,
          12,
          69,
          1,
          101,
          0,
          0,
          10,
          6,
          1315,
          118,
          63,
          3,
          0,
          47,
          3,
          3,
          1,
          6,
          30,
          16,
          4,
          5,
          3,
          0,
          1
         ],
         "yaxis": "y"
        }
       ],
       "layout": {
        "legend": {
         "itemsizing": "constant",
         "title": {
          "text": "artist"
         },
         "tracegroupgap": 0
        },
        "margin": {
         "t": 60
        },
        "template": {
         "data": {
          "bar": [
           {
            "error_x": {
             "color": "#2a3f5f"
            },
            "error_y": {
             "color": "#2a3f5f"
            },
            "marker": {
             "line": {
              "color": "#E5ECF6",
              "width": 0.5
             }
            },
            "type": "bar"
           }
          ],
          "barpolar": [
           {
            "marker": {
             "line": {
              "color": "#E5ECF6",
              "width": 0.5
             }
            },
            "type": "barpolar"
           }
          ],
          "carpet": [
           {
            "aaxis": {
             "endlinecolor": "#2a3f5f",
             "gridcolor": "white",
             "linecolor": "white",
             "minorgridcolor": "white",
             "startlinecolor": "#2a3f5f"
            },
            "baxis": {
             "endlinecolor": "#2a3f5f",
             "gridcolor": "white",
             "linecolor": "white",
             "minorgridcolor": "white",
             "startlinecolor": "#2a3f5f"
            },
            "type": "carpet"
           }
          ],
          "choropleth": [
           {
            "colorbar": {
             "outlinewidth": 0,
             "ticks": ""
            },
            "type": "choropleth"
           }
          ],
          "contour": [
           {
            "colorbar": {
             "outlinewidth": 0,
             "ticks": ""
            },
            "colorscale": [
             [
              0,
              "#0d0887"
             ],
             [
              0.1111111111111111,
              "#46039f"
             ],
             [
              0.2222222222222222,
              "#7201a8"
             ],
             [
              0.3333333333333333,
              "#9c179e"
             ],
             [
              0.4444444444444444,
              "#bd3786"
             ],
             [
              0.5555555555555556,
              "#d8576b"
             ],
             [
              0.6666666666666666,
              "#ed7953"
             ],
             [
              0.7777777777777778,
              "#fb9f3a"
             ],
             [
              0.8888888888888888,
              "#fdca26"
             ],
             [
              1,
              "#f0f921"
             ]
            ],
            "type": "contour"
           }
          ],
          "contourcarpet": [
           {
            "colorbar": {
             "outlinewidth": 0,
             "ticks": ""
            },
            "type": "contourcarpet"
           }
          ],
          "heatmap": [
           {
            "colorbar": {
             "outlinewidth": 0,
             "ticks": ""
            },
            "colorscale": [
             [
              0,
              "#0d0887"
             ],
             [
              0.1111111111111111,
              "#46039f"
             ],
             [
              0.2222222222222222,
              "#7201a8"
             ],
             [
              0.3333333333333333,
              "#9c179e"
             ],
             [
              0.4444444444444444,
              "#bd3786"
             ],
             [
              0.5555555555555556,
              "#d8576b"
             ],
             [
              0.6666666666666666,
              "#ed7953"
             ],
             [
              0.7777777777777778,
              "#fb9f3a"
             ],
             [
              0.8888888888888888,
              "#fdca26"
             ],
             [
              1,
              "#f0f921"
             ]
            ],
            "type": "heatmap"
           }
          ],
          "heatmapgl": [
           {
            "colorbar": {
             "outlinewidth": 0,
             "ticks": ""
            },
            "colorscale": [
             [
              0,
              "#0d0887"
             ],
             [
              0.1111111111111111,
              "#46039f"
             ],
             [
              0.2222222222222222,
              "#7201a8"
             ],
             [
              0.3333333333333333,
              "#9c179e"
             ],
             [
              0.4444444444444444,
              "#bd3786"
             ],
             [
              0.5555555555555556,
              "#d8576b"
             ],
             [
              0.6666666666666666,
              "#ed7953"
             ],
             [
              0.7777777777777778,
              "#fb9f3a"
             ],
             [
              0.8888888888888888,
              "#fdca26"
             ],
             [
              1,
              "#f0f921"
             ]
            ],
            "type": "heatmapgl"
           }
          ],
          "histogram": [
           {
            "marker": {
             "colorbar": {
              "outlinewidth": 0,
              "ticks": ""
             }
            },
            "type": "histogram"
           }
          ],
          "histogram2d": [
           {
            "colorbar": {
             "outlinewidth": 0,
             "ticks": ""
            },
            "colorscale": [
             [
              0,
              "#0d0887"
             ],
             [
              0.1111111111111111,
              "#46039f"
             ],
             [
              0.2222222222222222,
              "#7201a8"
             ],
             [
              0.3333333333333333,
              "#9c179e"
             ],
             [
              0.4444444444444444,
              "#bd3786"
             ],
             [
              0.5555555555555556,
              "#d8576b"
             ],
             [
              0.6666666666666666,
              "#ed7953"
             ],
             [
              0.7777777777777778,
              "#fb9f3a"
             ],
             [
              0.8888888888888888,
              "#fdca26"
             ],
             [
              1,
              "#f0f921"
             ]
            ],
            "type": "histogram2d"
           }
          ],
          "histogram2dcontour": [
           {
            "colorbar": {
             "outlinewidth": 0,
             "ticks": ""
            },
            "colorscale": [
             [
              0,
              "#0d0887"
             ],
             [
              0.1111111111111111,
              "#46039f"
             ],
             [
              0.2222222222222222,
              "#7201a8"
             ],
             [
              0.3333333333333333,
              "#9c179e"
             ],
             [
              0.4444444444444444,
              "#bd3786"
             ],
             [
              0.5555555555555556,
              "#d8576b"
             ],
             [
              0.6666666666666666,
              "#ed7953"
             ],
             [
              0.7777777777777778,
              "#fb9f3a"
             ],
             [
              0.8888888888888888,
              "#fdca26"
             ],
             [
              1,
              "#f0f921"
             ]
            ],
            "type": "histogram2dcontour"
           }
          ],
          "mesh3d": [
           {
            "colorbar": {
             "outlinewidth": 0,
             "ticks": ""
            },
            "type": "mesh3d"
           }
          ],
          "parcoords": [
           {
            "line": {
             "colorbar": {
              "outlinewidth": 0,
              "ticks": ""
             }
            },
            "type": "parcoords"
           }
          ],
          "pie": [
           {
            "automargin": true,
            "type": "pie"
           }
          ],
          "scatter": [
           {
            "marker": {
             "colorbar": {
              "outlinewidth": 0,
              "ticks": ""
             }
            },
            "type": "scatter"
           }
          ],
          "scatter3d": [
           {
            "line": {
             "colorbar": {
              "outlinewidth": 0,
              "ticks": ""
             }
            },
            "marker": {
             "colorbar": {
              "outlinewidth": 0,
              "ticks": ""
             }
            },
            "type": "scatter3d"
           }
          ],
          "scattercarpet": [
           {
            "marker": {
             "colorbar": {
              "outlinewidth": 0,
              "ticks": ""
             }
            },
            "type": "scattercarpet"
           }
          ],
          "scattergeo": [
           {
            "marker": {
             "colorbar": {
              "outlinewidth": 0,
              "ticks": ""
             }
            },
            "type": "scattergeo"
           }
          ],
          "scattergl": [
           {
            "marker": {
             "colorbar": {
              "outlinewidth": 0,
              "ticks": ""
             }
            },
            "type": "scattergl"
           }
          ],
          "scattermapbox": [
           {
            "marker": {
             "colorbar": {
              "outlinewidth": 0,
              "ticks": ""
             }
            },
            "type": "scattermapbox"
           }
          ],
          "scatterpolar": [
           {
            "marker": {
             "colorbar": {
              "outlinewidth": 0,
              "ticks": ""
             }
            },
            "type": "scatterpolar"
           }
          ],
          "scatterpolargl": [
           {
            "marker": {
             "colorbar": {
              "outlinewidth": 0,
              "ticks": ""
             }
            },
            "type": "scatterpolargl"
           }
          ],
          "scatterternary": [
           {
            "marker": {
             "colorbar": {
              "outlinewidth": 0,
              "ticks": ""
             }
            },
            "type": "scatterternary"
           }
          ],
          "surface": [
           {
            "colorbar": {
             "outlinewidth": 0,
             "ticks": ""
            },
            "colorscale": [
             [
              0,
              "#0d0887"
             ],
             [
              0.1111111111111111,
              "#46039f"
             ],
             [
              0.2222222222222222,
              "#7201a8"
             ],
             [
              0.3333333333333333,
              "#9c179e"
             ],
             [
              0.4444444444444444,
              "#bd3786"
             ],
             [
              0.5555555555555556,
              "#d8576b"
             ],
             [
              0.6666666666666666,
              "#ed7953"
             ],
             [
              0.7777777777777778,
              "#fb9f3a"
             ],
             [
              0.8888888888888888,
              "#fdca26"
             ],
             [
              1,
              "#f0f921"
             ]
            ],
            "type": "surface"
           }
          ],
          "table": [
           {
            "cells": {
             "fill": {
              "color": "#EBF0F8"
             },
             "line": {
              "color": "white"
             }
            },
            "header": {
             "fill": {
              "color": "#C8D4E3"
             },
             "line": {
              "color": "white"
             }
            },
            "type": "table"
           }
          ]
         },
         "layout": {
          "annotationdefaults": {
           "arrowcolor": "#2a3f5f",
           "arrowhead": 0,
           "arrowwidth": 1
          },
          "autotypenumbers": "strict",
          "coloraxis": {
           "colorbar": {
            "outlinewidth": 0,
            "ticks": ""
           }
          },
          "colorscale": {
           "diverging": [
            [
             0,
             "#8e0152"
            ],
            [
             0.1,
             "#c51b7d"
            ],
            [
             0.2,
             "#de77ae"
            ],
            [
             0.3,
             "#f1b6da"
            ],
            [
             0.4,
             "#fde0ef"
            ],
            [
             0.5,
             "#f7f7f7"
            ],
            [
             0.6,
             "#e6f5d0"
            ],
            [
             0.7,
             "#b8e186"
            ],
            [
             0.8,
             "#7fbc41"
            ],
            [
             0.9,
             "#4d9221"
            ],
            [
             1,
             "#276419"
            ]
           ],
           "sequential": [
            [
             0,
             "#0d0887"
            ],
            [
             0.1111111111111111,
             "#46039f"
            ],
            [
             0.2222222222222222,
             "#7201a8"
            ],
            [
             0.3333333333333333,
             "#9c179e"
            ],
            [
             0.4444444444444444,
             "#bd3786"
            ],
            [
             0.5555555555555556,
             "#d8576b"
            ],
            [
             0.6666666666666666,
             "#ed7953"
            ],
            [
             0.7777777777777778,
             "#fb9f3a"
            ],
            [
             0.8888888888888888,
             "#fdca26"
            ],
            [
             1,
             "#f0f921"
            ]
           ],
           "sequentialminus": [
            [
             0,
             "#0d0887"
            ],
            [
             0.1111111111111111,
             "#46039f"
            ],
            [
             0.2222222222222222,
             "#7201a8"
            ],
            [
             0.3333333333333333,
             "#9c179e"
            ],
            [
             0.4444444444444444,
             "#bd3786"
            ],
            [
             0.5555555555555556,
             "#d8576b"
            ],
            [
             0.6666666666666666,
             "#ed7953"
            ],
            [
             0.7777777777777778,
             "#fb9f3a"
            ],
            [
             0.8888888888888888,
             "#fdca26"
            ],
            [
             1,
             "#f0f921"
            ]
           ]
          },
          "colorway": [
           "#636efa",
           "#EF553B",
           "#00cc96",
           "#ab63fa",
           "#FFA15A",
           "#19d3f3",
           "#FF6692",
           "#B6E880",
           "#FF97FF",
           "#FECB52"
          ],
          "font": {
           "color": "#2a3f5f"
          },
          "geo": {
           "bgcolor": "white",
           "lakecolor": "white",
           "landcolor": "#E5ECF6",
           "showlakes": true,
           "showland": true,
           "subunitcolor": "white"
          },
          "hoverlabel": {
           "align": "left"
          },
          "hovermode": "closest",
          "mapbox": {
           "style": "light"
          },
          "paper_bgcolor": "white",
          "plot_bgcolor": "#E5ECF6",
          "polar": {
           "angularaxis": {
            "gridcolor": "white",
            "linecolor": "white",
            "ticks": ""
           },
           "bgcolor": "#E5ECF6",
           "radialaxis": {
            "gridcolor": "white",
            "linecolor": "white",
            "ticks": ""
           }
          },
          "scene": {
           "xaxis": {
            "backgroundcolor": "#E5ECF6",
            "gridcolor": "white",
            "gridwidth": 2,
            "linecolor": "white",
            "showbackground": true,
            "ticks": "",
            "zerolinecolor": "white"
           },
           "yaxis": {
            "backgroundcolor": "#E5ECF6",
            "gridcolor": "white",
            "gridwidth": 2,
            "linecolor": "white",
            "showbackground": true,
            "ticks": "",
            "zerolinecolor": "white"
           },
           "zaxis": {
            "backgroundcolor": "#E5ECF6",
            "gridcolor": "white",
            "gridwidth": 2,
            "linecolor": "white",
            "showbackground": true,
            "ticks": "",
            "zerolinecolor": "white"
           }
          },
          "shapedefaults": {
           "line": {
            "color": "#2a3f5f"
           }
          },
          "ternary": {
           "aaxis": {
            "gridcolor": "white",
            "linecolor": "white",
            "ticks": ""
           },
           "baxis": {
            "gridcolor": "white",
            "linecolor": "white",
            "ticks": ""
           },
           "bgcolor": "#E5ECF6",
           "caxis": {
            "gridcolor": "white",
            "linecolor": "white",
            "ticks": ""
           }
          },
          "title": {
           "x": 0.05
          },
          "xaxis": {
           "automargin": true,
           "gridcolor": "white",
           "linecolor": "white",
           "ticks": "",
           "title": {
            "standoff": 15
           },
           "zerolinecolor": "white",
           "zerolinewidth": 2
          },
          "yaxis": {
           "automargin": true,
           "gridcolor": "white",
           "linecolor": "white",
           "ticks": "",
           "title": {
            "standoff": 15
           },
           "zerolinecolor": "white",
           "zerolinewidth": 2
          }
         }
        },
        "xaxis": {
         "anchor": "y",
         "domain": [
          0,
          1
         ],
         "title": {
          "text": "date"
         }
        },
        "yaxis": {
         "anchor": "x",
         "domain": [
          0,
          1
         ],
         "title": {
          "text": "score"
         }
        }
       }
      }
     },
     "metadata": {}
    }
   ],
   "source": [
    "fig = px.scatter(\n",
    "    df.query('platform==1'),\n",
    "    x=\"date\", y=\"score\",\n",
    "             size=\"total comments\", \n",
    "                 color=\"artist\",\n",
    "                 hover_name=\"title\")\n",
    "fig.show()"
   ]
  },
  {
   "cell_type": "code",
   "execution_count": null,
   "metadata": {},
   "outputs": [],
   "source": []
  },
  {
   "cell_type": "code",
   "execution_count": null,
   "metadata": {},
   "outputs": [],
   "source": []
  },
  {
   "cell_type": "code",
   "execution_count": 25,
   "metadata": {},
   "outputs": [
    {
     "output_type": "execute_result",
     "data": {
      "text/plain": [
       "datetime.date(2021, 5, 15)"
      ]
     },
     "metadata": {},
     "execution_count": 25
    }
   ],
   "source": [
    "# time > \n",
    "\n",
    "\n",
    "\n",
    "\n",
    "# date.today()"
   ]
  },
  {
   "cell_type": "code",
   "execution_count": 26,
   "metadata": {},
   "outputs": [
    {
     "output_type": "stream",
     "name": "stdout",
     "text": [
      "2021-05-10\n"
     ]
    }
   ],
   "source": [
    "for sub in subreddit.hot(limit=1):\n",
    "    time = datetime.utcfromtimestamp(sub.created).strftime('%Y-%m-%d')\n",
    "    print(time)"
   ]
  },
  {
   "cell_type": "code",
   "execution_count": 36,
   "metadata": {},
   "outputs": [
    {
     "name": "stdout",
     "output_type": "stream",
     "text": [
      "['STR_FIELD', '__class__', '__delattr__', '__dict__', '__dir__', '__doc__', '__eq__', '__format__', '__ge__', '__getattr__', '__getattribute__', '__gt__', '__hash__', '__init__', '__init_subclass__', '__le__', '__lt__', '__module__', '__ne__', '__new__', '__reduce__', '__reduce_ex__', '__repr__', '__setattr__', '__sizeof__', '__str__', '__subclasshook__', '__weakref__', '_chunk', '_comments_by_id', '_fetch', '_fetch_data', '_fetch_info', '_fetched', '_kind', '_reddit', '_reset_attributes', '_safely_add_arguments', '_url_parts', '_vote', 'all_awardings', 'allow_live_comments', 'approved_at_utc', 'approved_by', 'archived', 'author', 'author_flair_background_color', 'author_flair_css_class', 'author_flair_richtext', 'author_flair_template_id', 'author_flair_text', 'author_flair_text_color', 'author_flair_type', 'author_fullname', 'author_patreon_flair', 'author_premium', 'award', 'awarders', 'banned_at_utc', 'banned_by', 'can_gild', 'can_mod_post', 'category', 'clear_vote', 'clicked', 'comment_limit', 'comment_sort', 'comments', 'content_categories', 'contest_mode', 'created', 'created_utc', 'crosspost', 'delete', 'disable_inbox_replies', 'discussion_type', 'distinguished', 'domain', 'downs', 'downvote', 'duplicates', 'edit', 'edited', 'enable_inbox_replies', 'flair', 'fullname', 'gild', 'gilded', 'gildings', 'hidden', 'hide', 'hide_score', 'id', 'id_from_url', 'is_crosspostable', 'is_meta', 'is_original_content', 'is_reddit_media_domain', 'is_robot_indexable', 'is_self', 'is_video', 'likes', 'link_flair_background_color', 'link_flair_css_class', 'link_flair_richtext', 'link_flair_text', 'link_flair_text_color', 'link_flair_type', 'locked', 'mark_visited', 'media', 'media_embed', 'media_only', 'mod', 'mod_note', 'mod_reason_by', 'mod_reason_title', 'mod_reports', 'name', 'no_follow', 'num_comments', 'num_crossposts', 'num_reports', 'over_18', 'parent_whitelist_status', 'parse', 'permalink', 'pinned', 'pwls', 'quarantine', 'removal_reason', 'removed_by', 'removed_by_category', 'reply', 'report', 'report_reasons', 'save', 'saved', 'score', 'secure_media', 'secure_media_embed', 'selftext', 'selftext_html', 'send_replies', 'shortlink', 'spoiler', 'stickied', 'subreddit', 'subreddit_id', 'subreddit_name_prefixed', 'subreddit_subscribers', 'subreddit_type', 'suggested_sort', 'thumbnail', 'thumbnail_height', 'thumbnail_width', 'title', 'top_awarded_type', 'total_awards_received', 'treatment_tags', 'unhide', 'unsave', 'ups', 'upvote', 'upvote_ratio', 'url', 'user_reports', 'view_count', 'visited', 'whitelist_status', 'wls']\n",
      "london\n",
      "7\n",
      "Megathread for visitors and new & existing residents. All questions about living/working/budgeting/visiting should be asked here!\n"
     ]
    }
   ],
   "source": [
    "for sub in subreddit.hot(limit=1):\n",
    "    print(dir(sub))\n",
    "#     print(sub.body)\n",
    "    print(sub.subreddit)\n",
    "    print(sub.score)\n",
    "    print(sub.title)\n",
    "#     print(sub.thumbnail)\n",
    "    "
   ]
  },
  {
   "cell_type": "code",
   "execution_count": null,
   "metadata": {},
   "outputs": [],
   "source": []
  }
 ],
 "metadata": {
  "kernelspec": {
   "name": "python385jvsc74a57bd08e67d3b4e6e9c5ed82f76a8f7f99679990361e083096766a3b0e6dbb7e4e49b8",
   "display_name": "Python 3.8.5 64-bit ('base': conda)"
  },
  "language_info": {
   "codemirror_mode": {
    "name": "ipython",
    "version": 3
   },
   "file_extension": ".py",
   "mimetype": "text/x-python",
   "name": "python",
   "nbconvert_exporter": "python",
   "pygments_lexer": "ipython3",
   "version": "3.8.5"
  }
 },
 "nbformat": 4,
 "nbformat_minor": 2
}