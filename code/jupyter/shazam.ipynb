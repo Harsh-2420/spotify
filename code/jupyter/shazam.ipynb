{
 "cells": [
  {
   "cell_type": "code",
   "execution_count": 3,
   "source": [
    "import pandas as pd\n",
    "import requests\n"
   ],
   "outputs": [],
   "metadata": {}
  },
  {
   "cell_type": "code",
   "execution_count": 4,
   "source": [
    "\n",
    "charts_list = \"https://shazam.p.rapidapi.com/charts/list\"\n",
    "\n",
    "charts_list_headers = {\n",
    "    'x-rapidapi-key': \"d78ca9f758msh31ad154b2fe50a8p12fbc9jsnabb8cabd4076\",\n",
    "    'x-rapidapi-host': \"shazam.p.rapidapi.com\"\n",
    "    }\n",
    "\n",
    "charts_list_response = requests.request(\"GET\", charts_list, headers=charts_list_headers)\n",
    "\n"
   ],
   "outputs": [],
   "metadata": {}
  },
  {
   "cell_type": "code",
   "execution_count": 5,
   "source": [
    "\n",
    "def get_top10_json(list_id):\n",
    "    url = \"https://shazam.p.rapidapi.com/charts/track\"\n",
    "\n",
    "    querystring = {\"locale\":\"en-US\",\"listId\":list_id,\"pageSize\":\"20\",\"startFrom\":\"0\"}\n",
    "\n",
    "    headers = {\n",
    "        'x-rapidapi-key': \"d78ca9f758msh31ad154b2fe50a8p12fbc9jsnabb8cabd4076\",\n",
    "        'x-rapidapi-host': \"shazam.p.rapidapi.com\"\n",
    "        }\n",
    "\n",
    "    response = requests.request(\"GET\", url, headers=headers, params=querystring)\n",
    "    return response\n",
    "\n",
    "\n",
    "def get_top10_names(top_10_json):\n",
    "    tracks_dict = top_10_json['tracks']\n",
    "    names = []\n",
    "    for track in tracks_dict:\n",
    "        names.append((track['title'] + ' - '+ track['subtitle']))\n",
    "    return names\n"
   ],
   "outputs": [],
   "metadata": {}
  },
  {
   "cell_type": "code",
   "execution_count": 6,
   "source": [
    "\n",
    "country_list = []\n",
    "city_list = []\n",
    "top10 = []\n",
    "\n",
    "for country_dict in charts_list_response.json()['countries']:\n",
    "    if country_dict['name'] == 'India':\n",
    "        for city in country_dict['cities']:\n",
    "            if len(city_list) < 4:\n",
    "                country_list.append('India')\n",
    "                city_list.append(city['name'])\n",
    "                top_10_json = get_top10_json(city['listid']).json()\n",
    "                top10.append(get_top10_names(top_10_json))\n",
    "                print(city_list)\n",
    "            else:\n",
    "                break\n",
    "        break\n",
    "\n",
    "\n",
    "daily_df = pd.DataFrame({'country': country_list, 'city': city_list,'top10': top10})"
   ],
   "outputs": [
    {
     "output_type": "stream",
     "name": "stdout",
     "text": [
      "['Delhi']\n",
      "['Delhi', 'Mumbai']\n",
      "['Delhi', 'Mumbai', 'Bengaluru']\n",
      "['Delhi', 'Mumbai', 'Bengaluru', 'Hyderabad']\n"
     ]
    }
   ],
   "metadata": {}
  },
  {
   "cell_type": "code",
   "execution_count": 9,
   "source": [
    "daily_df.to_csv('daily_df.csv')"
   ],
   "outputs": [],
   "metadata": {}
  },
  {
   "cell_type": "code",
   "execution_count": null,
   "source": [],
   "outputs": [],
   "metadata": {}
  }
 ],
 "metadata": {
  "orig_nbformat": 4,
  "language_info": {
   "name": "python",
   "version": "3.8.5",
   "mimetype": "text/x-python",
   "codemirror_mode": {
    "name": "ipython",
    "version": 3
   },
   "pygments_lexer": "ipython3",
   "nbconvert_exporter": "python",
   "file_extension": ".py"
  },
  "kernelspec": {
   "name": "python3",
   "display_name": "Python 3.8.5 64-bit ('base': conda)"
  },
  "interpreter": {
   "hash": "8e67d3b4e6e9c5ed82f76a8f7f99679990361e083096766a3b0e6dbb7e4e49b8"
  }
 },
 "nbformat": 4,
 "nbformat_minor": 2
}