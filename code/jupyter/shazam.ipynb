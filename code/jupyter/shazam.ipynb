{
 "cells": [
  {
   "cell_type": "code",
   "execution_count": 1,
   "source": [
    "import pandas as pd\n",
    "import requests\n",
    "import urllib\n"
   ],
   "outputs": [],
   "metadata": {}
  },
  {
   "cell_type": "code",
   "execution_count": 2,
   "source": [
    "\n",
    "charts_list = \"https://shazam.p.rapidapi.com/charts/list\"\n",
    "\n",
    "charts_list_headers = {\n",
    "    'x-rapidapi-key': \"d78ca9f758msh31ad154b2fe50a8p12fbc9jsnabb8cabd4076\",\n",
    "    'x-rapidapi-host': \"shazam.p.rapidapi.com\"\n",
    "    }\n",
    "\n",
    "charts_list_response = requests.request(\"GET\", charts_list, headers=charts_list_headers)\n",
    "\n"
   ],
   "outputs": [],
   "metadata": {}
  },
  {
   "cell_type": "code",
   "execution_count": 3,
   "source": [
    "\n",
    "def get_top10_json(list_id):\n",
    "    url = \"https://shazam.p.rapidapi.com/charts/track\"\n",
    "\n",
    "    querystring = {\"locale\":\"en-US\",\"listId\":list_id,\"pageSize\":\"20\",\"startFrom\":\"0\"}\n",
    "\n",
    "    headers = {\n",
    "        'x-rapidapi-key': \"d78ca9f758msh31ad154b2fe50a8p12fbc9jsnabb8cabd4076\",\n",
    "        'x-rapidapi-host': \"shazam.p.rapidapi.com\"\n",
    "        }\n",
    "\n",
    "    response = requests.request(\"GET\", url, headers=headers, params=querystring)\n",
    "    return response\n",
    "\n",
    "\n",
    "def get_top10_names(top_10_json):\n",
    "    tracks_dict = top_10_json['tracks']\n",
    "    names = []\n",
    "    for track in tracks_dict:\n",
    "        names.append((track['title'] + ' - '+ track['subtitle']))\n",
    "    return names\n"
   ],
   "outputs": [],
   "metadata": {}
  },
  {
   "cell_type": "code",
   "execution_count": 43,
   "source": [
    "\n",
    "def get_lat_lon(name):\n",
    "    f = { 'name' : name}\n",
    "    formatted_name = urllib.parse.urlencode(f)\n",
    "    # print(formatted_name)\n",
    "    response = requests.get(\"https://api.mapbox.com/geocoding/v5/mapbox.places/{}.json?access_token=pk.eyJ1IjoiaGFyc2gtaiIsImEiOiJja3JraHRmMnEzbnA1MndwOGI2OTY1enNrIn0.Lrx1G8lFIKLt_7OsC6ow7g\".format(formatted_name[5:]))\n",
    "    return response.json()['features'][0]['bbox'][1], response.json()['features'][0]['bbox'][0]\n"
   ],
   "outputs": [],
   "metadata": {}
  },
  {
   "cell_type": "code",
   "execution_count": 51,
   "source": [
    "\n",
    "country_list = []\n",
    "city_list = []\n",
    "top10 = []\n",
    "coords_lat = []\n",
    "coords_lon = []\n",
    "\n",
    "for country_dict in charts_list_response.json()['countries']:\n",
    "    for city in country_dict['cities']:\n",
    "        if len(city_list) < 4:\n",
    "            lat, lon = get_lat_lon(city['name'])\n",
    "            country_list.append(country_dict['name'])\n",
    "            city_list.append(city['name'])\n",
    "            coords_lat.append(lat)\n",
    "            coords_lon.append(lon)\n",
    "            top_10_json = get_top10_json(city['listid']).json()\n",
    "            top10.append(get_top10_names(top_10_json))\n",
    "            print(city_list)\n",
    "        else:\n",
    "            break"
   ],
   "outputs": [
    {
     "output_type": "stream",
     "name": "stdout",
     "text": [
      "['Berlin']\n",
      "['Berlin', 'Essen']\n",
      "['Berlin', 'Essen', 'Munich']\n",
      "['Berlin', 'Essen', 'Munich', 'Hamburg']\n"
     ]
    }
   ],
   "metadata": {}
  },
  {
   "cell_type": "code",
   "execution_count": 54,
   "source": [
    "daily_df = pd.DataFrame({'country': country_list, 'city': city_list,\"lat\": coords_lat, 'lon': coords_lon ,'top10': top10})\n",
    "daily_df.to_csv('./shazam.csv')"
   ],
   "outputs": [],
   "metadata": {}
  },
  {
   "cell_type": "code",
   "execution_count": 55,
   "source": [
    "df = pd.read_csv('/Users/harshjhunjhunwala/Desktop/github/spotify/data/shazam.csv')"
   ],
   "outputs": [],
   "metadata": {}
  },
  {
   "cell_type": "code",
   "execution_count": 76,
   "source": [
    "for row in df.iterrows():\n",
    "    print(row[1][3], row[1][4])"
   ],
   "outputs": [
    {
     "output_type": "stream",
     "name": "stdout",
     "text": [
      "52.3382670008426 13.0883590415111\n",
      "51.34746 6.894457\n",
      "48.061596 11.360781\n",
      "53.3949960146367 8.30956670062143\n"
     ]
    }
   ],
   "metadata": {}
  },
  {
   "cell_type": "code",
   "execution_count": 82,
   "source": [
    "\n",
    "import pandas as pd\n",
    "from pymongo import MongoClient\n",
    "import json\n",
    "\n",
    "\n",
    "def csv_transfer(csv_path='/Users/harshjhunjhunwala/Desktop/github/spotify/data/shazam.csv', db_name='spotty', coll_name='csv_import', db_url='mongodb://localhost:27017/', db_port=27017):\n",
    "    \"\"\" \n",
    "    sending the 'world trends' csv file to mongo_db. This should run once a day to keep the data updated.\n",
    "    \n",
    "    Imports a csv file at path csv_name to a mongo colection\n",
    "    returns: count of the documants in the new collection\n",
    "    \"\"\"\n",
    "    client = MongoClient(db_url, db_port)\n",
    "    db = client[db_name]\n",
    "    coll = db[coll_name]\n",
    "    data = pd.read_csv(csv_path)\n",
    "    payload = json.loads(data.to_json(orient='records'))\n",
    "    coll.remove()\n",
    "    coll.insert(payload)\n",
    "    return str(coll.count())"
   ],
   "outputs": [],
   "metadata": {}
  },
  {
   "cell_type": "code",
   "execution_count": 83,
   "source": [
    "csv_transfer"
   ],
   "outputs": [
    {
     "output_type": "execute_result",
     "data": {
      "text/plain": [
       "<function __main__.csv_transfer(csv_path='/Users/harshjhunjhunwala/Desktop/github/spotify/data/shazam.csv', db_name='spotty', coll_name='csv_import', db_url='mongodb://[Harsh420:A/asdfgh09@]host1[:27017]]', db_port=27017)>"
      ]
     },
     "metadata": {},
     "execution_count": 83
    }
   ],
   "metadata": {}
  },
  {
   "cell_type": "code",
   "execution_count": 6,
   "source": [
    "\n",
    "# for country_dict in charts_list_response.json()['countries']:\n",
    "#     if country_dict['name'] == 'India':\n",
    "#         for city in country_dict['cities']:\n",
    "#             print(city)\n",
    "#             break\n",
    "#             if len(city_list) < 4:\n",
    "#                 country_list.append('India')\n",
    "#                 city_list.append(city['name'])\n",
    "#                 top_10_json = get_top10_json(city['listid']).json()\n",
    "#                 top10.append(get_top10_names(top_10_json))\n",
    "#                 print(city_list)\n",
    "#             else:\n",
    "#                 break\n",
    "#         break"
   ],
   "outputs": [
    {
     "output_type": "stream",
     "name": "stdout",
     "text": [
      "{'id': '1273294', 'name': 'Delhi', 'countryid': 'IN', 'listid': 'ip-city-chart-1273294'}\n"
     ]
    }
   ],
   "metadata": {}
  },
  {
   "cell_type": "code",
   "execution_count": null,
   "source": [],
   "outputs": [],
   "metadata": {}
  }
 ],
 "metadata": {
  "orig_nbformat": 4,
  "language_info": {
   "name": "python",
   "version": "3.8.5",
   "mimetype": "text/x-python",
   "codemirror_mode": {
    "name": "ipython",
    "version": 3
   },
   "pygments_lexer": "ipython3",
   "nbconvert_exporter": "python",
   "file_extension": ".py"
  },
  "kernelspec": {
   "name": "python3",
   "display_name": "Python 3.8.5 64-bit ('base': conda)"
  },
  "interpreter": {
   "hash": "8e67d3b4e6e9c5ed82f76a8f7f99679990361e083096766a3b0e6dbb7e4e49b8"
  }
 },
 "nbformat": 4,
 "nbformat_minor": 2
}