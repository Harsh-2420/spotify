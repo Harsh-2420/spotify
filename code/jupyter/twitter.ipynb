{
 "cells": [
  {
   "cell_type": "code",
   "execution_count": 1,
   "metadata": {},
   "outputs": [],
   "source": [
    "from textblob import TextBlob\n",
    "import sys\n",
    "import tweepy\n",
    "import matplotlib.pyplot as plt\n",
    "import pandas as pd\n",
    "import numpy as np\n",
    "import os\n",
    "import nltk\n",
    "import webbrowser\n",
    "import time\n",
    "import string\n",
    "from nltk.sentiment.vader import SentimentIntensityAnalyzer\n",
    "from nltk.stem import SnowballStemmer\n",
    "from sklearn.feature_extraction.text import CountVectorizer\n",
    "from git_ignore.config import *\n",
    "import plotly.graph_objects as go\n",
    "import re"
   ]
  },
  {
   "cell_type": "code",
   "execution_count": null,
   "metadata": {},
   "outputs": [],
   "source": []
  },
  {
   "cell_type": "code",
   "execution_count": 2,
   "metadata": {},
   "outputs": [],
   "source": [
    "auth = tweepy.OAuthHandler(twitter_consumer_key, twitter_consumer_secret, twitter_callback_uri)\n",
    "auth.set_access_token(twitter_access_token, twitter_access_token_secret)\n",
    "redirect_url = auth.get_authorization_url()"
   ]
  },
  {
   "cell_type": "code",
   "execution_count": 3,
   "metadata": {},
   "outputs": [],
   "source": [
    "# auth.get_access_token(user_pin_input)\n",
    "api = tweepy.API(auth)\n"
   ]
  },
  {
   "cell_type": "markdown",
   "metadata": {},
   "source": [
    "# Get popular/recent tweets from keyword search"
   ]
  },
  {
   "cell_type": "code",
   "execution_count": 4,
   "metadata": {
    "scrolled": false
   },
   "outputs": [
    {
     "output_type": "execute_result",
     "data": {
      "text/plain": [
       "                                              name       location  \\\n",
       "0                                       Mrs. Petty       Queendom   \n",
       "1                              $Oxtail is a hustle        Toronto   \n",
       "2                               World Music Awards                  \n",
       "3                                           Deezer                  \n",
       "4                                     XXL Magazine                  \n",
       "5                                    Complex Music                  \n",
       "6                                            TIDAL                  \n",
       "7                                concrete boy boat                  \n",
       "8                                     Sizwe Dhlomo                  \n",
       "9  Republic Records is streaming Beam Me Up Scotty  New York City   \n",
       "\n",
       "                                                text  \n",
       "0  Thank you so much for fkn w|me on live yall. #...  \n",
       "1  New Drake Nicki and Wayne on the same night as...  \n",
       "2  🔝🔟SONGS🌎🎵\\n1⃣SwitchItUp #JayB\\n2⃣Electric #Kat...  \n",
       "3  Queen @NickiMinaj is back 🔥 \\n\\nListen to her ...  \n",
       "4  “Seeing Green” by Nicki Minaj, Drake and Lil W...  \n",
       "5  YMCMB BACK.\\n\\nNicki announces a new collab wi...  \n",
       "6  For the first time ever, @NICKIMINAJ's classic...  \n",
       "7                                   Drake so fye lol  \n",
       "8  Nicki, Drake &amp; Wayne... It’s feeling like ...  \n",
       "9  .@NickiMinaj is blessing us tonight with the o...  "
      ],
      "text/html": "<div>\n<style scoped>\n    .dataframe tbody tr th:only-of-type {\n        vertical-align: middle;\n    }\n\n    .dataframe tbody tr th {\n        vertical-align: top;\n    }\n\n    .dataframe thead th {\n        text-align: right;\n    }\n</style>\n<table border=\"1\" class=\"dataframe\">\n  <thead>\n    <tr style=\"text-align: right;\">\n      <th></th>\n      <th>name</th>\n      <th>location</th>\n      <th>text</th>\n    </tr>\n  </thead>\n  <tbody>\n    <tr>\n      <th>0</th>\n      <td>Mrs. Petty</td>\n      <td>Queendom</td>\n      <td>Thank you so much for fkn w|me on live yall. #...</td>\n    </tr>\n    <tr>\n      <th>1</th>\n      <td>$Oxtail is a hustle</td>\n      <td>Toronto</td>\n      <td>New Drake Nicki and Wayne on the same night as...</td>\n    </tr>\n    <tr>\n      <th>2</th>\n      <td>World Music Awards</td>\n      <td></td>\n      <td>🔝🔟SONGS🌎🎵\\n1⃣SwitchItUp #JayB\\n2⃣Electric #Kat...</td>\n    </tr>\n    <tr>\n      <th>3</th>\n      <td>Deezer</td>\n      <td></td>\n      <td>Queen @NickiMinaj is back 🔥 \\n\\nListen to her ...</td>\n    </tr>\n    <tr>\n      <th>4</th>\n      <td>XXL Magazine</td>\n      <td></td>\n      <td>“Seeing Green” by Nicki Minaj, Drake and Lil W...</td>\n    </tr>\n    <tr>\n      <th>5</th>\n      <td>Complex Music</td>\n      <td></td>\n      <td>YMCMB BACK.\\n\\nNicki announces a new collab wi...</td>\n    </tr>\n    <tr>\n      <th>6</th>\n      <td>TIDAL</td>\n      <td></td>\n      <td>For the first time ever, @NICKIMINAJ's classic...</td>\n    </tr>\n    <tr>\n      <th>7</th>\n      <td>concrete boy boat</td>\n      <td></td>\n      <td>Drake so fye lol</td>\n    </tr>\n    <tr>\n      <th>8</th>\n      <td>Sizwe Dhlomo</td>\n      <td></td>\n      <td>Nicki, Drake &amp;amp; Wayne... It’s feeling like ...</td>\n    </tr>\n    <tr>\n      <th>9</th>\n      <td>Republic Records is streaming Beam Me Up Scotty</td>\n      <td>New York City</td>\n      <td>.@NickiMinaj is blessing us tonight with the o...</td>\n    </tr>\n  </tbody>\n</table>\n</div>"
     },
     "metadata": {},
     "execution_count": 4
    }
   ],
   "source": [
    "tweets = tweepy.Cursor(api.search, q='Drake', result_type='popular').items(10)\n",
    "\n",
    "keyword_df = pd.DataFrame()\n",
    "name = []\n",
    "location = []\n",
    "text = []\n",
    "\n",
    "for tweet in tweets:\n",
    "    name.append(tweet.user.name)\n",
    "    location.append(tweet.user.location)\n",
    "    text.append(tweet.text)\n",
    "\n",
    "keyword_df['name'] = name\n",
    "keyword_df['location'] = location\n",
    "keyword_df['text'] = text\n",
    "\n",
    "keyword_df"
   ]
  },
  {
   "cell_type": "code",
   "execution_count": 5,
   "metadata": {
    "tags": []
   },
   "outputs": [],
   "source": [
    "# tweets = tweepy.Cursor(api.search, q='Drake', result_type='popular').items(1)\n",
    "# for tweet in tweets:\n",
    "#     print(type(tweet.text))"
   ]
  },
  {
   "cell_type": "code",
   "execution_count": 6,
   "metadata": {},
   "outputs": [
    {
     "output_type": "display_data",
     "data": {
      "application/vnd.plotly.v1+json": {
       "config": {
        "plotlyServerURL": "https://plot.ly"
       },
       "data": [
        {
         "cells": {
          "align": "left",
          "fill": {
           "color": "lavender"
          },
          "values": [
           [
            "Mrs. Petty",
            "$Oxtail is a hustle",
            "World Music Awards",
            "Deezer",
            "XXL Magazine",
            "Complex Music",
            "TIDAL",
            "concrete boy boat",
            "Sizwe Dhlomo",
            "Republic Records is streaming Beam Me Up Scotty"
           ],
           [
            "Queendom",
            "Toronto",
            "",
            "",
            "",
            "",
            "",
            "",
            "",
            "New York City"
           ],
           [
            "Thank you so much for fkn w|me on live yall. #BeamMeUpScotty out now. #SeeingGreen with DRAKE &amp; LIL WAYNE out NOW‼️… https://t.co/mUFodePuq4",
            "New Drake Nicki and Wayne on the same night as Cole. It's 2012 again.",
            "🔝🔟SONGS🌎🎵\n1⃣SwitchItUp #JayB\n2⃣Electric #KatyPerry\n3⃣HigherPower #Coldplay\n4⃣AstronautInTheOcean #MaskedWolf\n5⃣Peac… https://t.co/hxR6XhY6Z0",
            "Queen @NickiMinaj is back 🔥 \n\nListen to her latest release #BeamMeUpScotty feat. @Drake, @LilWayne, @gucci1017 and… https://t.co/MdoWtxYc9l",
            "“Seeing Green” by Nicki Minaj, Drake and Lil Wayne, A.K.A. the holy trinity https://t.co/vDGde0BjAf",
            "YMCMB BACK.\n\nNicki announces a new collab with Wayne and Drake.\nhttps://t.co/bEUsihFMzv",
            "For the first time ever, @NICKIMINAJ's classic #BeamMeUpScotty arrives on TIDAL. \n\nFeaturing 3 brand new tracks:\n\n-… https://t.co/6UPWiADicG",
            "Drake so fye lol",
            "Nicki, Drake &amp; Wayne... It’s feeling like 2012 all over again!",
            ".@NickiMinaj is blessing us tonight with the official release of her iconic mixtape #BeamMeUpScotty for the first t… https://t.co/EDRK8qELUK"
           ]
          ]
         },
         "header": {
          "align": "left",
          "fill": {
           "color": "paleturquoise"
          },
          "values": [
           "name",
           "location",
           "text"
          ]
         },
         "type": "table"
        }
       ],
       "layout": {
        "template": {
         "data": {
          "bar": [
           {
            "error_x": {
             "color": "#2a3f5f"
            },
            "error_y": {
             "color": "#2a3f5f"
            },
            "marker": {
             "line": {
              "color": "#E5ECF6",
              "width": 0.5
             }
            },
            "type": "bar"
           }
          ],
          "barpolar": [
           {
            "marker": {
             "line": {
              "color": "#E5ECF6",
              "width": 0.5
             }
            },
            "type": "barpolar"
           }
          ],
          "carpet": [
           {
            "aaxis": {
             "endlinecolor": "#2a3f5f",
             "gridcolor": "white",
             "linecolor": "white",
             "minorgridcolor": "white",
             "startlinecolor": "#2a3f5f"
            },
            "baxis": {
             "endlinecolor": "#2a3f5f",
             "gridcolor": "white",
             "linecolor": "white",
             "minorgridcolor": "white",
             "startlinecolor": "#2a3f5f"
            },
            "type": "carpet"
           }
          ],
          "choropleth": [
           {
            "colorbar": {
             "outlinewidth": 0,
             "ticks": ""
            },
            "type": "choropleth"
           }
          ],
          "contour": [
           {
            "colorbar": {
             "outlinewidth": 0,
             "ticks": ""
            },
            "colorscale": [
             [
              0,
              "#0d0887"
             ],
             [
              0.1111111111111111,
              "#46039f"
             ],
             [
              0.2222222222222222,
              "#7201a8"
             ],
             [
              0.3333333333333333,
              "#9c179e"
             ],
             [
              0.4444444444444444,
              "#bd3786"
             ],
             [
              0.5555555555555556,
              "#d8576b"
             ],
             [
              0.6666666666666666,
              "#ed7953"
             ],
             [
              0.7777777777777778,
              "#fb9f3a"
             ],
             [
              0.8888888888888888,
              "#fdca26"
             ],
             [
              1,
              "#f0f921"
             ]
            ],
            "type": "contour"
           }
          ],
          "contourcarpet": [
           {
            "colorbar": {
             "outlinewidth": 0,
             "ticks": ""
            },
            "type": "contourcarpet"
           }
          ],
          "heatmap": [
           {
            "colorbar": {
             "outlinewidth": 0,
             "ticks": ""
            },
            "colorscale": [
             [
              0,
              "#0d0887"
             ],
             [
              0.1111111111111111,
              "#46039f"
             ],
             [
              0.2222222222222222,
              "#7201a8"
             ],
             [
              0.3333333333333333,
              "#9c179e"
             ],
             [
              0.4444444444444444,
              "#bd3786"
             ],
             [
              0.5555555555555556,
              "#d8576b"
             ],
             [
              0.6666666666666666,
              "#ed7953"
             ],
             [
              0.7777777777777778,
              "#fb9f3a"
             ],
             [
              0.8888888888888888,
              "#fdca26"
             ],
             [
              1,
              "#f0f921"
             ]
            ],
            "type": "heatmap"
           }
          ],
          "heatmapgl": [
           {
            "colorbar": {
             "outlinewidth": 0,
             "ticks": ""
            },
            "colorscale": [
             [
              0,
              "#0d0887"
             ],
             [
              0.1111111111111111,
              "#46039f"
             ],
             [
              0.2222222222222222,
              "#7201a8"
             ],
             [
              0.3333333333333333,
              "#9c179e"
             ],
             [
              0.4444444444444444,
              "#bd3786"
             ],
             [
              0.5555555555555556,
              "#d8576b"
             ],
             [
              0.6666666666666666,
              "#ed7953"
             ],
             [
              0.7777777777777778,
              "#fb9f3a"
             ],
             [
              0.8888888888888888,
              "#fdca26"
             ],
             [
              1,
              "#f0f921"
             ]
            ],
            "type": "heatmapgl"
           }
          ],
          "histogram": [
           {
            "marker": {
             "colorbar": {
              "outlinewidth": 0,
              "ticks": ""
             }
            },
            "type": "histogram"
           }
          ],
          "histogram2d": [
           {
            "colorbar": {
             "outlinewidth": 0,
             "ticks": ""
            },
            "colorscale": [
             [
              0,
              "#0d0887"
             ],
             [
              0.1111111111111111,
              "#46039f"
             ],
             [
              0.2222222222222222,
              "#7201a8"
             ],
             [
              0.3333333333333333,
              "#9c179e"
             ],
             [
              0.4444444444444444,
              "#bd3786"
             ],
             [
              0.5555555555555556,
              "#d8576b"
             ],
             [
              0.6666666666666666,
              "#ed7953"
             ],
             [
              0.7777777777777778,
              "#fb9f3a"
             ],
             [
              0.8888888888888888,
              "#fdca26"
             ],
             [
              1,
              "#f0f921"
             ]
            ],
            "type": "histogram2d"
           }
          ],
          "histogram2dcontour": [
           {
            "colorbar": {
             "outlinewidth": 0,
             "ticks": ""
            },
            "colorscale": [
             [
              0,
              "#0d0887"
             ],
             [
              0.1111111111111111,
              "#46039f"
             ],
             [
              0.2222222222222222,
              "#7201a8"
             ],
             [
              0.3333333333333333,
              "#9c179e"
             ],
             [
              0.4444444444444444,
              "#bd3786"
             ],
             [
              0.5555555555555556,
              "#d8576b"
             ],
             [
              0.6666666666666666,
              "#ed7953"
             ],
             [
              0.7777777777777778,
              "#fb9f3a"
             ],
             [
              0.8888888888888888,
              "#fdca26"
             ],
             [
              1,
              "#f0f921"
             ]
            ],
            "type": "histogram2dcontour"
           }
          ],
          "mesh3d": [
           {
            "colorbar": {
             "outlinewidth": 0,
             "ticks": ""
            },
            "type": "mesh3d"
           }
          ],
          "parcoords": [
           {
            "line": {
             "colorbar": {
              "outlinewidth": 0,
              "ticks": ""
             }
            },
            "type": "parcoords"
           }
          ],
          "pie": [
           {
            "automargin": true,
            "type": "pie"
           }
          ],
          "scatter": [
           {
            "marker": {
             "colorbar": {
              "outlinewidth": 0,
              "ticks": ""
             }
            },
            "type": "scatter"
           }
          ],
          "scatter3d": [
           {
            "line": {
             "colorbar": {
              "outlinewidth": 0,
              "ticks": ""
             }
            },
            "marker": {
             "colorbar": {
              "outlinewidth": 0,
              "ticks": ""
             }
            },
            "type": "scatter3d"
           }
          ],
          "scattercarpet": [
           {
            "marker": {
             "colorbar": {
              "outlinewidth": 0,
              "ticks": ""
             }
            },
            "type": "scattercarpet"
           }
          ],
          "scattergeo": [
           {
            "marker": {
             "colorbar": {
              "outlinewidth": 0,
              "ticks": ""
             }
            },
            "type": "scattergeo"
           }
          ],
          "scattergl": [
           {
            "marker": {
             "colorbar": {
              "outlinewidth": 0,
              "ticks": ""
             }
            },
            "type": "scattergl"
           }
          ],
          "scattermapbox": [
           {
            "marker": {
             "colorbar": {
              "outlinewidth": 0,
              "ticks": ""
             }
            },
            "type": "scattermapbox"
           }
          ],
          "scatterpolar": [
           {
            "marker": {
             "colorbar": {
              "outlinewidth": 0,
              "ticks": ""
             }
            },
            "type": "scatterpolar"
           }
          ],
          "scatterpolargl": [
           {
            "marker": {
             "colorbar": {
              "outlinewidth": 0,
              "ticks": ""
             }
            },
            "type": "scatterpolargl"
           }
          ],
          "scatterternary": [
           {
            "marker": {
             "colorbar": {
              "outlinewidth": 0,
              "ticks": ""
             }
            },
            "type": "scatterternary"
           }
          ],
          "surface": [
           {
            "colorbar": {
             "outlinewidth": 0,
             "ticks": ""
            },
            "colorscale": [
             [
              0,
              "#0d0887"
             ],
             [
              0.1111111111111111,
              "#46039f"
             ],
             [
              0.2222222222222222,
              "#7201a8"
             ],
             [
              0.3333333333333333,
              "#9c179e"
             ],
             [
              0.4444444444444444,
              "#bd3786"
             ],
             [
              0.5555555555555556,
              "#d8576b"
             ],
             [
              0.6666666666666666,
              "#ed7953"
             ],
             [
              0.7777777777777778,
              "#fb9f3a"
             ],
             [
              0.8888888888888888,
              "#fdca26"
             ],
             [
              1,
              "#f0f921"
             ]
            ],
            "type": "surface"
           }
          ],
          "table": [
           {
            "cells": {
             "fill": {
              "color": "#EBF0F8"
             },
             "line": {
              "color": "white"
             }
            },
            "header": {
             "fill": {
              "color": "#C8D4E3"
             },
             "line": {
              "color": "white"
             }
            },
            "type": "table"
           }
          ]
         },
         "layout": {
          "annotationdefaults": {
           "arrowcolor": "#2a3f5f",
           "arrowhead": 0,
           "arrowwidth": 1
          },
          "autotypenumbers": "strict",
          "coloraxis": {
           "colorbar": {
            "outlinewidth": 0,
            "ticks": ""
           }
          },
          "colorscale": {
           "diverging": [
            [
             0,
             "#8e0152"
            ],
            [
             0.1,
             "#c51b7d"
            ],
            [
             0.2,
             "#de77ae"
            ],
            [
             0.3,
             "#f1b6da"
            ],
            [
             0.4,
             "#fde0ef"
            ],
            [
             0.5,
             "#f7f7f7"
            ],
            [
             0.6,
             "#e6f5d0"
            ],
            [
             0.7,
             "#b8e186"
            ],
            [
             0.8,
             "#7fbc41"
            ],
            [
             0.9,
             "#4d9221"
            ],
            [
             1,
             "#276419"
            ]
           ],
           "sequential": [
            [
             0,
             "#0d0887"
            ],
            [
             0.1111111111111111,
             "#46039f"
            ],
            [
             0.2222222222222222,
             "#7201a8"
            ],
            [
             0.3333333333333333,
             "#9c179e"
            ],
            [
             0.4444444444444444,
             "#bd3786"
            ],
            [
             0.5555555555555556,
             "#d8576b"
            ],
            [
             0.6666666666666666,
             "#ed7953"
            ],
            [
             0.7777777777777778,
             "#fb9f3a"
            ],
            [
             0.8888888888888888,
             "#fdca26"
            ],
            [
             1,
             "#f0f921"
            ]
           ],
           "sequentialminus": [
            [
             0,
             "#0d0887"
            ],
            [
             0.1111111111111111,
             "#46039f"
            ],
            [
             0.2222222222222222,
             "#7201a8"
            ],
            [
             0.3333333333333333,
             "#9c179e"
            ],
            [
             0.4444444444444444,
             "#bd3786"
            ],
            [
             0.5555555555555556,
             "#d8576b"
            ],
            [
             0.6666666666666666,
             "#ed7953"
            ],
            [
             0.7777777777777778,
             "#fb9f3a"
            ],
            [
             0.8888888888888888,
             "#fdca26"
            ],
            [
             1,
             "#f0f921"
            ]
           ]
          },
          "colorway": [
           "#636efa",
           "#EF553B",
           "#00cc96",
           "#ab63fa",
           "#FFA15A",
           "#19d3f3",
           "#FF6692",
           "#B6E880",
           "#FF97FF",
           "#FECB52"
          ],
          "font": {
           "color": "#2a3f5f"
          },
          "geo": {
           "bgcolor": "white",
           "lakecolor": "white",
           "landcolor": "#E5ECF6",
           "showlakes": true,
           "showland": true,
           "subunitcolor": "white"
          },
          "hoverlabel": {
           "align": "left"
          },
          "hovermode": "closest",
          "mapbox": {
           "style": "light"
          },
          "paper_bgcolor": "white",
          "plot_bgcolor": "#E5ECF6",
          "polar": {
           "angularaxis": {
            "gridcolor": "white",
            "linecolor": "white",
            "ticks": ""
           },
           "bgcolor": "#E5ECF6",
           "radialaxis": {
            "gridcolor": "white",
            "linecolor": "white",
            "ticks": ""
           }
          },
          "scene": {
           "xaxis": {
            "backgroundcolor": "#E5ECF6",
            "gridcolor": "white",
            "gridwidth": 2,
            "linecolor": "white",
            "showbackground": true,
            "ticks": "",
            "zerolinecolor": "white"
           },
           "yaxis": {
            "backgroundcolor": "#E5ECF6",
            "gridcolor": "white",
            "gridwidth": 2,
            "linecolor": "white",
            "showbackground": true,
            "ticks": "",
            "zerolinecolor": "white"
           },
           "zaxis": {
            "backgroundcolor": "#E5ECF6",
            "gridcolor": "white",
            "gridwidth": 2,
            "linecolor": "white",
            "showbackground": true,
            "ticks": "",
            "zerolinecolor": "white"
           }
          },
          "shapedefaults": {
           "line": {
            "color": "#2a3f5f"
           }
          },
          "ternary": {
           "aaxis": {
            "gridcolor": "white",
            "linecolor": "white",
            "ticks": ""
           },
           "baxis": {
            "gridcolor": "white",
            "linecolor": "white",
            "ticks": ""
           },
           "bgcolor": "#E5ECF6",
           "caxis": {
            "gridcolor": "white",
            "linecolor": "white",
            "ticks": ""
           }
          },
          "title": {
           "x": 0.05
          },
          "xaxis": {
           "automargin": true,
           "gridcolor": "white",
           "linecolor": "white",
           "ticks": "",
           "title": {
            "standoff": 15
           },
           "zerolinecolor": "white",
           "zerolinewidth": 2
          },
          "yaxis": {
           "automargin": true,
           "gridcolor": "white",
           "linecolor": "white",
           "ticks": "",
           "title": {
            "standoff": 15
           },
           "zerolinecolor": "white",
           "zerolinewidth": 2
          }
         }
        }
       }
      }
     },
     "metadata": {}
    }
   ],
   "source": [
    "\n",
    "\n",
    "fig = go.Figure()\n",
    "\n",
    "fig.add_trace(go.Table(\n",
    "        header=dict(values=list(keyword_df.columns),\n",
    "                    fill_color='paleturquoise',\n",
    "                    align='left'),\n",
    "        cells=dict(values=[keyword_df.name, keyword_df.location, keyword_df.text],\n",
    "                   fill_color='lavender',\n",
    "                   align='left'))\n",
    "    )\n",
    "\n",
    "\n",
    "fig.show()"
   ]
  },
  {
   "cell_type": "markdown",
   "metadata": {},
   "source": [
    "# Get tweets from keyword search"
   ]
  },
  {
   "cell_type": "markdown",
   "metadata": {},
   "source": [
    "# Get location heatmap using location woeid"
   ]
  },
  {
   "cell_type": "code",
   "execution_count": null,
   "metadata": {},
   "outputs": [],
   "source": []
  },
  {
   "cell_type": "markdown",
   "metadata": {},
   "source": [
    "# Trending tweets from location keyword"
   ]
  },
  {
   "cell_type": "code",
   "execution_count": 7,
   "metadata": {},
   "outputs": [
    {
     "output_type": "execute_result",
     "data": {
      "text/plain": [
       "[('Israel', 1950814),\n",
       " ('Hamas', 698367),\n",
       " ('#Gaza_Under_Attack', 653596),\n",
       " ('Al Jazeera', 238428),\n",
       " ('The IDF', 194567),\n",
       " ('Netanyahu', 181369),\n",
       " ('Rodrigo', 150816),\n",
       " ('The Sun', 135393),\n",
       " ('hobi', 108613),\n",
       " ('soobin', 103841),\n",
       " ('My Dad', 98024),\n",
       " ('YEONJUN', 95135),\n",
       " ('Associated Press', 94546),\n",
       " ('TAEHYUN', 80531),\n",
       " ('Lewandowski', 44811),\n",
       " ('Bundesliga', 30857),\n",
       " ('Leeds', 30066),\n",
       " ('Adderall', 19666),\n",
       " ('#SaturdayMorning', 19111),\n",
       " ('Juve', 18986),\n",
       " ('Oxford', 18571),\n",
       " ('Bleeding', 15866),\n",
       " ('#SaturdayVibes', 13667),\n",
       " ('jessie', 13598),\n",
       " ('Alonso', 13383),\n",
       " ('#Caturday', 13206),\n",
       " ('Marshall', 12916),\n",
       " ('Chine', 12634),\n",
       " ('Porsche', 12029),\n",
       " ('Atalanta', 11647),\n",
       " ('Frankfurt', 10730)]"
      ]
     },
     "metadata": {},
     "execution_count": 7
    }
   ],
   "source": [
    "cwoeid = 23424775\n",
    "woeid = 1\n",
    "  \n",
    "# fetching the trends\n",
    "rj_trends = api.trends_place(id = cwoeid)\n",
    "trends = []\n",
    "for trend in rj_trends[0]['trends']: \n",
    "    if trend['tweet_volume'] is not None and trend['tweet_volume'] > 10000: \n",
    "        trends.append((trend['name'], trend['tweet_volume']))\n",
    "\n",
    "trends.sort(key=lambda x:-x[1])\n",
    "trends\n",
    "# rj_trends"
   ]
  },
  {
   "cell_type": "code",
   "execution_count": 8,
   "metadata": {},
   "outputs": [
    {
     "output_type": "execute_result",
     "data": {
      "text/plain": [
       "          country continent  year  lifeExp       pop   gdpPercap iso_alpha  \\\n",
       "0     Afghanistan      Asia  1952   28.801   8425333  779.445314       AFG   \n",
       "1     Afghanistan      Asia  1957   30.332   9240934  820.853030       AFG   \n",
       "2     Afghanistan      Asia  1962   31.997  10267083  853.100710       AFG   \n",
       "3     Afghanistan      Asia  1967   34.020  11537966  836.197138       AFG   \n",
       "4     Afghanistan      Asia  1972   36.088  13079460  739.981106       AFG   \n",
       "...           ...       ...   ...      ...       ...         ...       ...   \n",
       "1699     Zimbabwe    Africa  1987   62.351   9216418  706.157306       ZWE   \n",
       "1700     Zimbabwe    Africa  1992   60.377  10704340  693.420786       ZWE   \n",
       "1701     Zimbabwe    Africa  1997   46.809  11404948  792.449960       ZWE   \n",
       "1702     Zimbabwe    Africa  2002   39.989  11926563  672.038623       ZWE   \n",
       "1703     Zimbabwe    Africa  2007   43.487  12311143  469.709298       ZWE   \n",
       "\n",
       "      iso_num  \n",
       "0           4  \n",
       "1           4  \n",
       "2           4  \n",
       "3           4  \n",
       "4           4  \n",
       "...       ...  \n",
       "1699      716  \n",
       "1700      716  \n",
       "1701      716  \n",
       "1702      716  \n",
       "1703      716  \n",
       "\n",
       "[1704 rows x 8 columns]"
      ],
      "text/html": "<div>\n<style scoped>\n    .dataframe tbody tr th:only-of-type {\n        vertical-align: middle;\n    }\n\n    .dataframe tbody tr th {\n        vertical-align: top;\n    }\n\n    .dataframe thead th {\n        text-align: right;\n    }\n</style>\n<table border=\"1\" class=\"dataframe\">\n  <thead>\n    <tr style=\"text-align: right;\">\n      <th></th>\n      <th>country</th>\n      <th>continent</th>\n      <th>year</th>\n      <th>lifeExp</th>\n      <th>pop</th>\n      <th>gdpPercap</th>\n      <th>iso_alpha</th>\n      <th>iso_num</th>\n    </tr>\n  </thead>\n  <tbody>\n    <tr>\n      <th>0</th>\n      <td>Afghanistan</td>\n      <td>Asia</td>\n      <td>1952</td>\n      <td>28.801</td>\n      <td>8425333</td>\n      <td>779.445314</td>\n      <td>AFG</td>\n      <td>4</td>\n    </tr>\n    <tr>\n      <th>1</th>\n      <td>Afghanistan</td>\n      <td>Asia</td>\n      <td>1957</td>\n      <td>30.332</td>\n      <td>9240934</td>\n      <td>820.853030</td>\n      <td>AFG</td>\n      <td>4</td>\n    </tr>\n    <tr>\n      <th>2</th>\n      <td>Afghanistan</td>\n      <td>Asia</td>\n      <td>1962</td>\n      <td>31.997</td>\n      <td>10267083</td>\n      <td>853.100710</td>\n      <td>AFG</td>\n      <td>4</td>\n    </tr>\n    <tr>\n      <th>3</th>\n      <td>Afghanistan</td>\n      <td>Asia</td>\n      <td>1967</td>\n      <td>34.020</td>\n      <td>11537966</td>\n      <td>836.197138</td>\n      <td>AFG</td>\n      <td>4</td>\n    </tr>\n    <tr>\n      <th>4</th>\n      <td>Afghanistan</td>\n      <td>Asia</td>\n      <td>1972</td>\n      <td>36.088</td>\n      <td>13079460</td>\n      <td>739.981106</td>\n      <td>AFG</td>\n      <td>4</td>\n    </tr>\n    <tr>\n      <th>...</th>\n      <td>...</td>\n      <td>...</td>\n      <td>...</td>\n      <td>...</td>\n      <td>...</td>\n      <td>...</td>\n      <td>...</td>\n      <td>...</td>\n    </tr>\n    <tr>\n      <th>1699</th>\n      <td>Zimbabwe</td>\n      <td>Africa</td>\n      <td>1987</td>\n      <td>62.351</td>\n      <td>9216418</td>\n      <td>706.157306</td>\n      <td>ZWE</td>\n      <td>716</td>\n    </tr>\n    <tr>\n      <th>1700</th>\n      <td>Zimbabwe</td>\n      <td>Africa</td>\n      <td>1992</td>\n      <td>60.377</td>\n      <td>10704340</td>\n      <td>693.420786</td>\n      <td>ZWE</td>\n      <td>716</td>\n    </tr>\n    <tr>\n      <th>1701</th>\n      <td>Zimbabwe</td>\n      <td>Africa</td>\n      <td>1997</td>\n      <td>46.809</td>\n      <td>11404948</td>\n      <td>792.449960</td>\n      <td>ZWE</td>\n      <td>716</td>\n    </tr>\n    <tr>\n      <th>1702</th>\n      <td>Zimbabwe</td>\n      <td>Africa</td>\n      <td>2002</td>\n      <td>39.989</td>\n      <td>11926563</td>\n      <td>672.038623</td>\n      <td>ZWE</td>\n      <td>716</td>\n    </tr>\n    <tr>\n      <th>1703</th>\n      <td>Zimbabwe</td>\n      <td>Africa</td>\n      <td>2007</td>\n      <td>43.487</td>\n      <td>12311143</td>\n      <td>469.709298</td>\n      <td>ZWE</td>\n      <td>716</td>\n    </tr>\n  </tbody>\n</table>\n<p>1704 rows × 8 columns</p>\n</div>"
     },
     "metadata": {},
     "execution_count": 8
    }
   ],
   "source": [
    "import plotly.express as px\n",
    "df = px.data.gapminder()\n",
    "df"
   ]
  },
  {
   "cell_type": "markdown",
   "metadata": {},
   "source": [
    "## Personal Tweets and Analysis"
   ]
  },
  {
   "cell_type": "code",
   "execution_count": 9,
   "metadata": {},
   "outputs": [
    {
     "output_type": "stream",
     "name": "stdout",
     "text": [
      "Karan Agarwal said I wish my professor could speak at 4X in real time.\nDoug Ford said RT @IndiainToronto: The first tranche of 500 ventilators from #Ontario arrive in #India. More life saving equipment will arrive in #India o…\nDoug Ford said #TeamOntario hit a new daily record with 154,104 shots in arms yesterday!\n\nOver 6.9 million #COVIDVaccines have bee… https://t.co/OdjUPwNUry\nImran Khan said وباء کے باعث آج ہم نے ایک بے لوث نوجوان کارکن زاہد مہمند کھو دیا۔ زاہد نے پشاور میں ہماری جماعت کو نچلی ترین سطح تک… https://t.co/NBap4ti0M2\nImran Khan said إِنَّا لِلَّٰهِ وَإِنَّا إِلَيْهِ رَاجِعُونَ\nToday we lost a dedicated young PTI worker Zahid Mohmand to Covid 19.… https://t.co/DACU8hKAxG\nNarendra Modi said Discussed a number of issues during today’s review meeting on COVID-19, including scaling up testing in areas with… https://t.co/jyft5Wv1lx\nBBC Breaking News said China becomes only the second country to land a rover on Mars, as its Zhurong robot touches down, state media say https://t.co/haOgvdbQbi\nSpaceX said SpaceX software team will do an AMA tomorrow on @rSpaceX https://t.co/bx3gyskstW\nSpaceX said Falcon 9 will send to orbit 52 Starlink satellites, a Capella Synthetic Aperture Radar (SAR) satellite, and Tyvak-0130\nSpaceX said Targeting Saturday, May 15 at 6:54 p.m. EDT for launch of the next Starlink mission from Florida; team is keeping a… https://t.co/8j7W0HyI6t\nBernie Sanders said RT @nytopinion: \"Israel has the absolute right to live in peace and security, but so do the Palestinians. I strongly believe that the Unite…\nGautam Gireesh said RT @nylas: Learn how to build more features faster, using fewer resources to ship on plan, on budget, and on time. Join us on 6/2 for this…\nImran Khan said فاروق قیصر کے انتقال کی اطلاع پا کر نہایت رنجیدہ ہوں۔ وہ محض اداکار ہی نہ تھے بلکہ سماجی ناانصافیوں اور معاشرتی ایش… https://t.co/7AoiZygSTj\ndbrand said RT @ItsLoganCoutts: Now what? @dbrand https://t.co/Kx4W8px3xd\nImran Khan said Saddened to learn of Farooq Qaiser's death. He was not just a performer but would constantly raise awareness about… https://t.co/xVN41Db7mh\nBBC Breaking News said Second doses of the Covid vaccine for over-50s and clinically vulnerable to be accelerated, due to concerns over th… https://t.co/V9bDteQJIk\nElon Musk said RT @Tesla: Configurator now live in Hungary 🇭🇺 &amp; Romania 🇷🇴\nMarques Brownlee said RT @WVFRM: New Episode: YouTube Shorts vs. TikTok!\n\nhttps://t.co/oNU81xF6lo\n\nListen anywhere: https://t.co/PEFpFuCRqE https://t.co/jEXfRbtW…\nBernie Sanders said Do you know of anyone who can live on $7.25 an hour? No, you don't, because it is a starvation wage. We've got to e… https://t.co/ReEWb8NKuh\n"
     ]
    }
   ],
   "source": [
    "timeline = api.home_timeline()\n",
    "for tweet in timeline:\n",
    "    print(f\"{tweet.user.name} said {tweet.text}\")"
   ]
  },
  {
   "cell_type": "code",
   "execution_count": null,
   "metadata": {},
   "outputs": [],
   "source": []
  },
  {
   "cell_type": "code",
   "execution_count": null,
   "metadata": {},
   "outputs": [],
   "source": []
  },
  {
   "cell_type": "code",
   "execution_count": null,
   "metadata": {},
   "outputs": [],
   "source": []
  },
  {
   "cell_type": "code",
   "execution_count": null,
   "metadata": {},
   "outputs": [],
   "source": []
  },
  {
   "cell_type": "code",
   "execution_count": null,
   "metadata": {},
   "outputs": [],
   "source": []
  },
  {
   "cell_type": "markdown",
   "metadata": {},
   "source": [
    "# Create an NLP from twitter API"
   ]
  },
  {
   "cell_type": "code",
   "execution_count": 4,
   "metadata": {},
   "outputs": [],
   "source": [
    "def percentage(part,whole):\n",
    " return 100 * float(part)/float(whole)\n",
    " \n",
    "tweet_limit = 200\n",
    "keyword = 'Drake'\n",
    "tweets = tweepy.Cursor(api.search, q=keyword, result_type='popular').items(tweet_limit)\n",
    "tweet_list = []\n",
    "negative_list = []\n",
    "neutral_list = []\n",
    "positive_list = []\n",
    "# polarity = 0\n",
    "positive = 0\n",
    "negative = 0\n",
    "neutral = 0\n",
    "for tweet in tweets:\n",
    "    tweet_list.append(tweet.text)\n",
    "    analysis = TextBlob(tweet.text)\n",
    "    score = SentimentIntensityAnalyzer().polarity_scores(tweet.text)\n",
    "    neg = score['neg']\n",
    "    neu = score['neu']\n",
    "    pos = score['pos']\n",
    "    compound = score['compound']\n",
    "    if neg > pos:\n",
    "        negative_list.append(tweet.text)\n",
    "        negative += 1\n",
    "    elif pos > neg:\n",
    "        positive_list.append(tweet.text)\n",
    "        positive += 1\n",
    "\n",
    "    elif pos == neg:\n",
    "        neutral_list.append(tweet.text)\n",
    "        neutral += 1\n",
    "positive = percentage(positive, len(tweet_list))\n",
    "negative = percentage(negative, len(tweet_list))\n",
    "neutral = percentage(neutral, len(tweet_list))\n",
    "# polarity = percentage(polarity, tweet_limit)\n",
    "positive = format(positive, '.1f')\n",
    "negative = format(negative, '.1f')\n",
    "neutral = format(neutral, '.1f')"
   ]
  },
  {
   "cell_type": "code",
   "execution_count": 9,
   "metadata": {},
   "outputs": [
    {
     "output_type": "stream",
     "name": "stdout",
     "text": [
      "36\n58\n7\n"
     ]
    }
   ],
   "source": [
    "# print(round(positive))\n",
    "# print(round(neutral))\n",
    "# print(round(negative))"
   ]
  },
  {
   "cell_type": "code",
   "execution_count": 101,
   "metadata": {},
   "outputs": [
    {
     "output_type": "stream",
     "name": "stdout",
     "text": [
      "total number:  45\n",
      "positive number:  16\n",
      "negative number:  3\n",
      "neutral number:  26\n"
     ]
    }
   ],
   "source": [
    "tweet_list = pd.DataFrame(tweet_list)\n",
    "neutral_list = pd.DataFrame(neutral_list)\n",
    "negative_list = pd.DataFrame(negative_list)\n",
    "positive_list = pd.DataFrame(positive_list)\n",
    "print('total number: ',len(tweet_list))\n",
    "print('positive number: ',len(positive_list))\n",
    "print(\"negative number: \", len(negative_list))\n",
    "print('neutral number: ',len(neutral_list))\n",
    "# print(polarity)"
   ]
  },
  {
   "cell_type": "code",
   "execution_count": 14,
   "metadata": {},
   "outputs": [],
   "source": [
    "# #Creating new dataframe and new features\n",
    "# tw_list = pd.DataFrame(tweet_list)\n",
    "# tw_list[\"text\"] = tw_list[0]\n",
    "# #Removing RT, Punctuation etc\n",
    "# remove_rt = lambda x: re.sub('RT @\\w+: ',\" \",x)\n",
    "# rt = lambda x: re.sub(\"(@[A-Za-z0–9]+)|([⁰-9A-Za-z \\t])|(\\w+:\\/\\/\\S+)\",\" \",x)\n",
    "# tw_list[\"text\"] = tw_list.text.map(remove_rt).map(rt)\n",
    "# tw_list[\"text\"] = tw_list.text.str.lower()\n",
    "# tw_list.head(10)"
   ]
  },
  {
   "cell_type": "code",
   "execution_count": null,
   "metadata": {},
   "outputs": [],
   "source": []
  },
  {
   "cell_type": "code",
   "execution_count": 53,
   "metadata": {},
   "outputs": [],
   "source": [
    "# tweet_limit = 50\n",
    "# keyword = 'israel'\n",
    "# tweets = tweepy.Cursor(api.search, q=keyword, result_type='popular').items(tweet_limit)\n",
    "# pos_count = 0\n",
    "# pos_correct = 0\n",
    "# neg_count = 0\n",
    "# neg_correct = 0\n",
    "# analyzer = SentimentIntensityAnalyzer()\n",
    "\n",
    "# # for tweet in tweets:\n",
    "# #     analysis = TextBlob(tweet.text)\n",
    "# #     if analysis.sentiment.subjectivity < 0.3:\n",
    "# #         if analysis.sentiment.polarity > 0:\n",
    "# #             pos_correct += 1\n",
    "# #         pos_count +=1\n",
    "# #     if analysis.sentiment.subjectivity < 0.3:\n",
    "# #         if analysis.sentiment.polarity <= 0:\n",
    "# #             neg_correct += 1\n",
    "# #         neg_count +=1 \n",
    "\n",
    "# # print(pos_count)\n",
    "\n",
    "# for tweet in tweets:\n",
    "#     vs = analyzer.polarity_scores(tweet.text)\n",
    "#     if not vs['neg'] > 0.1:\n",
    "#         if vs['pos']-vs['neg'] > 0:\n",
    "#             pos_correct += 1\n",
    "#         pos_count +=1\n",
    "\n",
    "#     if not vs['pos'] > 0.1:\n",
    "#         if vs['pos']-vs['neg'] <= 0:\n",
    "#             neg_correct += 1\n",
    "#         neg_count +=1\n"
   ]
  },
  {
   "cell_type": "code",
   "execution_count": 54,
   "metadata": {},
   "outputs": [
    {
     "output_type": "stream",
     "name": "stdout",
     "text": [
      "Positive accuracy = 37.5% via 24 samples\nNegative accuracy = 97.14285714285714% via 35 samples\n"
     ]
    }
   ],
   "source": [
    "# print(\"Positive accuracy = {}% via {} samples\".format(pos_correct/pos_count*100.0, pos_count))\n",
    "# print(\"Negative accuracy = {}% via {} samples\".format(neg_correct/neg_count*100.0, neg_count))"
   ]
  },
  {
   "cell_type": "code",
   "execution_count": null,
   "metadata": {},
   "outputs": [],
   "source": []
  },
  {
   "cell_type": "code",
   "execution_count": null,
   "metadata": {},
   "outputs": [],
   "source": []
  },
  {
   "cell_type": "code",
   "execution_count": null,
   "metadata": {},
   "outputs": [],
   "source": []
  },
  {
   "cell_type": "code",
   "execution_count": null,
   "metadata": {},
   "outputs": [],
   "source": []
  },
  {
   "cell_type": "code",
   "execution_count": null,
   "metadata": {},
   "outputs": [],
   "source": []
  },
  {
   "cell_type": "code",
   "execution_count": null,
   "metadata": {},
   "outputs": [],
   "source": []
  },
  {
   "cell_type": "code",
   "execution_count": 86,
   "metadata": {},
   "outputs": [],
   "source": [
    "\n",
    "polarity = lambda x: TextBlob(x).sentiment.polarity\n",
    "subjectivity = lambda x: TextBlob(x).sentiment.subjectivity"
   ]
  },
  {
   "cell_type": "code",
   "execution_count": 87,
   "metadata": {},
   "outputs": [],
   "source": [
    "import numpy as np\n",
    "\n",
    "tweet_polarity = np.zeros(len(tweet_list[0]))\n",
    "tweet_subjectivity = np.zeros(len(tweet_list[0]))\n",
    "\n",
    "for idx, tweet in enumerate(tweet_list[0]):\n",
    "    tweet_polarity[idx] = polarity(tweet)\n",
    "    tweet_subjectivity[idx] = subjectivity(tweet)"
   ]
  },
  {
   "cell_type": "code",
   "execution_count": 88,
   "metadata": {},
   "outputs": [],
   "source": [
    "import seaborn as sns\n",
    "import matplotlib.pyplot as plt"
   ]
  },
  {
   "cell_type": "code",
   "execution_count": 89,
   "metadata": {},
   "outputs": [
    {
     "output_type": "stream",
     "name": "stderr",
     "text": [
      "/Users/harshjhunjhunwala/miniconda3/lib/python3.8/site-packages/seaborn/_decorators.py:36: FutureWarning:\n\nPass the following variables as keyword args: x, y. From version 0.12, the only valid positional argument will be `data`, and passing other arguments without an explicit keyword will result in an error or misinterpretation.\n\n"
     ]
    },
    {
     "output_type": "display_data",
     "data": {
      "text/plain": "<Figure size 432x288 with 1 Axes>",
      "image/svg+xml": "<?xml version=\"1.0\" encoding=\"utf-8\" standalone=\"no\"?>\n<!DOCTYPE svg PUBLIC \"-//W3C//DTD SVG 1.1//EN\"\n  \"http://www.w3.org/Graphics/SVG/1.1/DTD/svg11.dtd\">\n<svg height=\"296.273437pt\" version=\"1.1\" viewBox=\"0 0 424.345312 296.273437\" width=\"424.345312pt\" xmlns=\"http://www.w3.org/2000/svg\" xmlns:xlink=\"http://www.w3.org/1999/xlink\">\n <metadata>\n  <rdf:RDF xmlns:cc=\"http://creativecommons.org/ns#\" xmlns:dc=\"http://purl.org/dc/elements/1.1/\" xmlns:rdf=\"http://www.w3.org/1999/02/22-rdf-syntax-ns#\">\n   <cc:Work>\n    <dc:type rdf:resource=\"http://purl.org/dc/dcmitype/StillImage\"/>\n    <dc:date>2021-05-15T22:15:49.394528</dc:date>\n    <dc:format>image/svg+xml</dc:format>\n    <dc:creator>\n     <cc:Agent>\n      <dc:title>Matplotlib v3.4.2, https://matplotlib.org/</dc:title>\n     </cc:Agent>\n    </dc:creator>\n   </cc:Work>\n  </rdf:RDF>\n </metadata>\n <defs>\n  <style type=\"text/css\">*{stroke-linecap:butt;stroke-linejoin:round;}</style>\n </defs>\n <g id=\"figure_1\">\n  <g id=\"patch_1\">\n   <path d=\"M 0 296.273437 \nL 424.345312 296.273437 \nL 424.345312 0 \nL 0 0 \nz\n\" style=\"fill:none;\"/>\n  </g>\n  <g id=\"axes_1\">\n   <g id=\"patch_2\">\n    <path d=\"M 48.620313 252.836719 \nL 417.145312 252.836719 \nL 417.145312 43.436719 \nL 48.620313 43.436719 \nz\n\" style=\"fill:#ffffff;\"/>\n   </g>\n   <g id=\"PathCollection_1\">\n    <defs>\n     <path d=\"M 0 5 \nC 1.326016 5 2.597899 4.473168 3.535534 3.535534 \nC 4.473168 2.597899 5 1.326016 5 0 \nC 5 -1.326016 4.473168 -2.597899 3.535534 -3.535534 \nC 2.597899 -4.473168 1.326016 -5 0 -5 \nC -1.326016 -5 -2.597899 -4.473168 -3.535534 -3.535534 \nC -4.473168 -2.597899 -5 -1.326016 -5 0 \nC -5 1.326016 -4.473168 2.597899 -3.535534 3.535534 \nC -2.597899 4.473168 -1.326016 5 0 5 \nz\n\" id=\"m05fa254975\" style=\"stroke:#ffffff;stroke-width:0.8;\"/>\n    </defs>\n    <g clip-path=\"url(#pb3bd2f4433)\">\n     <use style=\"fill:#1f77b4;stroke:#ffffff;stroke-width:0.8;\" x=\"274.760653\" xlink:href=\"#m05fa254975\" y=\"243.318537\"/>\n     <use style=\"fill:#1f77b4;stroke:#ffffff;stroke-width:0.8;\" x=\"248.587003\" xlink:href=\"#m05fa254975\" y=\"171.932173\"/>\n     <use style=\"fill:#1f77b4;stroke:#ffffff;stroke-width:0.8;\" x=\"248.587003\" xlink:href=\"#m05fa254975\" y=\"219.523082\"/>\n     <use style=\"fill:#1f77b4;stroke:#ffffff;stroke-width:0.8;\" x=\"379.455256\" xlink:href=\"#m05fa254975\" y=\"148.136719\"/>\n     <use style=\"fill:#1f77b4;stroke:#ffffff;stroke-width:0.8;\" x=\"274.760653\" xlink:href=\"#m05fa254975\" y=\"243.318537\"/>\n     <use style=\"fill:#1f77b4;stroke:#ffffff;stroke-width:0.8;\" x=\"247.27832\" xlink:href=\"#m05fa254975\" y=\"168.362855\"/>\n     <use style=\"fill:#1f77b4;stroke:#ffffff;stroke-width:0.8;\" x=\"274.760653\" xlink:href=\"#m05fa254975\" y=\"243.318537\"/>\n     <use style=\"fill:#1f77b4;stroke:#ffffff;stroke-width:0.8;\" x=\"274.760653\" xlink:href=\"#m05fa254975\" y=\"243.318537\"/>\n     <use style=\"fill:#1f77b4;stroke:#ffffff;stroke-width:0.8;\" x=\"301.682123\" xlink:href=\"#m05fa254975\" y=\"145.870485\"/>\n     <use style=\"fill:#1f77b4;stroke:#ffffff;stroke-width:0.8;\" x=\"302.679214\" xlink:href=\"#m05fa254975\" y=\"192.554901\"/>\n     <use style=\"fill:#1f77b4;stroke:#ffffff;stroke-width:0.8;\" x=\"274.760653\" xlink:href=\"#m05fa254975\" y=\"243.318537\"/>\n     <use style=\"fill:#1f77b4;stroke:#ffffff;stroke-width:0.8;\" x=\"295.699574\" xlink:href=\"#m05fa254975\" y=\"170.34581\"/>\n     <use style=\"fill:#1f77b4;stroke:#ffffff;stroke-width:0.8;\" x=\"274.760653\" xlink:href=\"#m05fa254975\" y=\"243.318537\"/>\n     <use style=\"fill:#1f77b4;stroke:#ffffff;stroke-width:0.8;\" x=\"271.968797\" xlink:href=\"#m05fa254975\" y=\"178.594901\"/>\n     <use style=\"fill:#1f77b4;stroke:#ffffff;stroke-width:0.8;\" x=\"274.760653\" xlink:href=\"#m05fa254975\" y=\"243.318537\"/>\n     <use style=\"fill:#1f77b4;stroke:#ffffff;stroke-width:0.8;\" x=\"232.882812\" xlink:href=\"#m05fa254975\" y=\"243.318537\"/>\n     <use style=\"fill:#1f77b4;stroke:#ffffff;stroke-width:0.8;\" x=\"274.760653\" xlink:href=\"#m05fa254975\" y=\"243.318537\"/>\n     <use style=\"fill:#1f77b4;stroke:#ffffff;stroke-width:0.8;\" x=\"274.760653\" xlink:href=\"#m05fa254975\" y=\"243.318537\"/>\n     <use style=\"fill:#1f77b4;stroke:#ffffff;stroke-width:0.8;\" x=\"65.371449\" xlink:href=\"#m05fa254975\" y=\"52.954901\"/>\n     <use style=\"fill:#1f77b4;stroke:#ffffff;stroke-width:0.8;\" x=\"274.760653\" xlink:href=\"#m05fa254975\" y=\"243.318537\"/>\n     <use style=\"fill:#1f77b4;stroke:#ffffff;stroke-width:0.8;\" x=\"274.760653\" xlink:href=\"#m05fa254975\" y=\"243.318537\"/>\n     <use style=\"fill:#1f77b4;stroke:#ffffff;stroke-width:0.8;\" x=\"274.760653\" xlink:href=\"#m05fa254975\" y=\"52.954901\"/>\n     <use style=\"fill:#1f77b4;stroke:#ffffff;stroke-width:0.8;\" x=\"274.760653\" xlink:href=\"#m05fa254975\" y=\"243.318537\"/>\n     <use style=\"fill:#1f77b4;stroke:#ffffff;stroke-width:0.8;\" x=\"379.455256\" xlink:href=\"#m05fa254975\" y=\"148.136719\"/>\n     <use style=\"fill:#1f77b4;stroke:#ffffff;stroke-width:0.8;\" x=\"274.760653\" xlink:href=\"#m05fa254975\" y=\"186.209446\"/>\n     <use style=\"fill:#1f77b4;stroke:#ffffff;stroke-width:0.8;\" x=\"274.760653\" xlink:href=\"#m05fa254975\" y=\"243.318537\"/>\n     <use style=\"fill:#1f77b4;stroke:#ffffff;stroke-width:0.8;\" x=\"274.760653\" xlink:href=\"#m05fa254975\" y=\"243.318537\"/>\n     <use style=\"fill:#1f77b4;stroke:#ffffff;stroke-width:0.8;\" x=\"279.122929\" xlink:href=\"#m05fa254975\" y=\"180.921567\"/>\n     <use style=\"fill:#1f77b4;stroke:#ffffff;stroke-width:0.8;\" x=\"274.760653\" xlink:href=\"#m05fa254975\" y=\"243.318537\"/>\n     <use style=\"fill:#1f77b4;stroke:#ffffff;stroke-width:0.8;\" x=\"274.760653\" xlink:href=\"#m05fa254975\" y=\"243.318537\"/>\n     <use style=\"fill:#1f77b4;stroke:#ffffff;stroke-width:0.8;\" x=\"274.760653\" xlink:href=\"#m05fa254975\" y=\"52.954901\"/>\n     <use style=\"fill:#1f77b4;stroke:#ffffff;stroke-width:0.8;\" x=\"305.421216\" xlink:href=\"#m05fa254975\" y=\"190.062043\"/>\n     <use style=\"fill:#1f77b4;stroke:#ffffff;stroke-width:0.8;\" x=\"348.046875\" xlink:href=\"#m05fa254975\" y=\"143.377628\"/>\n     <use style=\"fill:#1f77b4;stroke:#ffffff;stroke-width:0.8;\" x=\"274.760653\" xlink:href=\"#m05fa254975\" y=\"243.318537\"/>\n     <use style=\"fill:#1f77b4;stroke:#ffffff;stroke-width:0.8;\" x=\"274.760653\" xlink:href=\"#m05fa254975\" y=\"230.627628\"/>\n     <use style=\"fill:#1f77b4;stroke:#ffffff;stroke-width:0.8;\" x=\"274.760653\" xlink:href=\"#m05fa254975\" y=\"154.482173\"/>\n     <use style=\"fill:#1f77b4;stroke:#ffffff;stroke-width:0.8;\" x=\"358.516335\" xlink:href=\"#m05fa254975\" y=\"71.991264\"/>\n     <use style=\"fill:#1f77b4;stroke:#ffffff;stroke-width:0.8;\" x=\"65.371449\" xlink:href=\"#m05fa254975\" y=\"52.954901\"/>\n     <use style=\"fill:#1f77b4;stroke:#ffffff;stroke-width:0.8;\" x=\"274.760653\" xlink:href=\"#m05fa254975\" y=\"243.318537\"/>\n     <use style=\"fill:#1f77b4;stroke:#ffffff;stroke-width:0.8;\" x=\"264.291193\" xlink:href=\"#m05fa254975\" y=\"233.800355\"/>\n     <use style=\"fill:#1f77b4;stroke:#ffffff;stroke-width:0.8;\" x=\"274.760653\" xlink:href=\"#m05fa254975\" y=\"243.318537\"/>\n     <use style=\"fill:#1f77b4;stroke:#ffffff;stroke-width:0.8;\" x=\"274.760653\" xlink:href=\"#m05fa254975\" y=\"148.136719\"/>\n     <use style=\"fill:#1f77b4;stroke:#ffffff;stroke-width:0.8;\" x=\"303.313727\" xlink:href=\"#m05fa254975\" y=\"156.789611\"/>\n     <use style=\"fill:#1f77b4;stroke:#ffffff;stroke-width:0.8;\" x=\"274.760653\" xlink:href=\"#m05fa254975\" y=\"243.318537\"/>\n     <use style=\"fill:#1f77b4;stroke:#ffffff;stroke-width:0.8;\" x=\"295.62026\" xlink:href=\"#m05fa254975\" y=\"157.366471\"/>\n     <use style=\"fill:#1f77b4;stroke:#ffffff;stroke-width:0.8;\" x=\"274.760653\" xlink:href=\"#m05fa254975\" y=\"148.136719\"/>\n     <use style=\"fill:#1f77b4;stroke:#ffffff;stroke-width:0.8;\" x=\"334.58614\" xlink:href=\"#m05fa254975\" y=\"141.338017\"/>\n     <use style=\"fill:#1f77b4;stroke:#ffffff;stroke-width:0.8;\" x=\"327.107955\" xlink:href=\"#m05fa254975\" y=\"195.727628\"/>\n     <use style=\"fill:#1f77b4;stroke:#ffffff;stroke-width:0.8;\" x=\"274.760653\" xlink:href=\"#m05fa254975\" y=\"243.318537\"/>\n     <use style=\"fill:#1f77b4;stroke:#ffffff;stroke-width:0.8;\" x=\"243.352273\" xlink:href=\"#m05fa254975\" y=\"186.209446\"/>\n     <use style=\"fill:#1f77b4;stroke:#ffffff;stroke-width:0.8;\" x=\"274.760653\" xlink:href=\"#m05fa254975\" y=\"243.318537\"/>\n     <use style=\"fill:#1f77b4;stroke:#ffffff;stroke-width:0.8;\" x=\"274.760653\" xlink:href=\"#m05fa254975\" y=\"243.318537\"/>\n     <use style=\"fill:#1f77b4;stroke:#ffffff;stroke-width:0.8;\" x=\"327.107955\" xlink:href=\"#m05fa254975\" y=\"167.173082\"/>\n     <use style=\"fill:#1f77b4;stroke:#ffffff;stroke-width:0.8;\" x=\"274.760653\" xlink:href=\"#m05fa254975\" y=\"243.318537\"/>\n     <use style=\"fill:#1f77b4;stroke:#ffffff;stroke-width:0.8;\" x=\"274.760653\" xlink:href=\"#m05fa254975\" y=\"243.318537\"/>\n     <use style=\"fill:#1f77b4;stroke:#ffffff;stroke-width:0.8;\" x=\"287.847479\" xlink:href=\"#m05fa254975\" y=\"148.136719\"/>\n     <use style=\"fill:#1f77b4;stroke:#ffffff;stroke-width:0.8;\" x=\"274.760653\" xlink:href=\"#m05fa254975\" y=\"243.318537\"/>\n     <use style=\"fill:#1f77b4;stroke:#ffffff;stroke-width:0.8;\" x=\"274.760653\" xlink:href=\"#m05fa254975\" y=\"236.973082\"/>\n     <use style=\"fill:#1f77b4;stroke:#ffffff;stroke-width:0.8;\" x=\"300.934304\" xlink:href=\"#m05fa254975\" y=\"205.24581\"/>\n     <use style=\"fill:#1f77b4;stroke:#ffffff;stroke-width:0.8;\" x=\"274.760653\" xlink:href=\"#m05fa254975\" y=\"243.318537\"/>\n     <use style=\"fill:#1f77b4;stroke:#ffffff;stroke-width:0.8;\" x=\"400.394176\" xlink:href=\"#m05fa254975\" y=\"91.027628\"/>\n     <use style=\"fill:#1f77b4;stroke:#ffffff;stroke-width:0.8;\" x=\"274.760653\" xlink:href=\"#m05fa254975\" y=\"224.282173\"/>\n     <use style=\"fill:#1f77b4;stroke:#ffffff;stroke-width:0.8;\" x=\"274.760653\" xlink:href=\"#m05fa254975\" y=\"148.136719\"/>\n     <use style=\"fill:#1f77b4;stroke:#ffffff;stroke-width:0.8;\" x=\"337.577415\" xlink:href=\"#m05fa254975\" y=\"62.473082\"/>\n     <use style=\"fill:#1f77b4;stroke:#ffffff;stroke-width:0.8;\" x=\"274.760653\" xlink:href=\"#m05fa254975\" y=\"243.318537\"/>\n     <use style=\"fill:#1f77b4;stroke:#ffffff;stroke-width:0.8;\" x=\"274.760653\" xlink:href=\"#m05fa254975\" y=\"243.318537\"/>\n     <use style=\"fill:#1f77b4;stroke:#ffffff;stroke-width:0.8;\" x=\"268.944287\" xlink:href=\"#m05fa254975\" y=\"194.670052\"/>\n     <use style=\"fill:#1f77b4;stroke:#ffffff;stroke-width:0.8;\" x=\"232.882812\" xlink:href=\"#m05fa254975\" y=\"243.318537\"/>\n     <use style=\"fill:#1f77b4;stroke:#ffffff;stroke-width:0.8;\" x=\"128.18821\" xlink:href=\"#m05fa254975\" y=\"52.954901\"/>\n     <use style=\"fill:#1f77b4;stroke:#ffffff;stroke-width:0.8;\" x=\"232.882812\" xlink:href=\"#m05fa254975\" y=\"243.318537\"/>\n     <use style=\"fill:#1f77b4;stroke:#ffffff;stroke-width:0.8;\" x=\"337.577415\" xlink:href=\"#m05fa254975\" y=\"148.136719\"/>\n     <use style=\"fill:#1f77b4;stroke:#ffffff;stroke-width:0.8;\" x=\"191.004972\" xlink:href=\"#m05fa254975\" y=\"135.44581\"/>\n     <use style=\"fill:#1f77b4;stroke:#ffffff;stroke-width:0.8;\" x=\"191.004972\" xlink:href=\"#m05fa254975\" y=\"124.341264\"/>\n     <use style=\"fill:#1f77b4;stroke:#ffffff;stroke-width:0.8;\" x=\"170.066051\" xlink:href=\"#m05fa254975\" y=\"148.136719\"/>\n     <use style=\"fill:#1f77b4;stroke:#ffffff;stroke-width:0.8;\" x=\"327.107955\" xlink:href=\"#m05fa254975\" y=\"148.136719\"/>\n    </g>\n   </g>\n   <g id=\"matplotlib.axis_1\">\n    <g id=\"xtick_1\">\n     <g id=\"line2d_1\">\n      <defs>\n       <path d=\"M 0 0 \nL 0 3.5 \n\" id=\"m35b0b8122f\" style=\"stroke:#000000;stroke-width:0.8;\"/>\n      </defs>\n      <g>\n       <use style=\"stroke:#000000;stroke-width:0.8;\" x=\"65.371449\" xlink:href=\"#m35b0b8122f\" y=\"252.836719\"/>\n      </g>\n     </g>\n     <g id=\"text_1\">\n      <!-- −1.0 -->\n      <g transform=\"translate(53.230043 267.435156)scale(0.1 -0.1)\">\n       <defs>\n        <path d=\"M 678 2272 \nL 4684 2272 \nL 4684 1741 \nL 678 1741 \nL 678 2272 \nz\n\" id=\"DejaVuSans-2212\" transform=\"scale(0.015625)\"/>\n        <path d=\"M 794 531 \nL 1825 531 \nL 1825 4091 \nL 703 3866 \nL 703 4441 \nL 1819 4666 \nL 2450 4666 \nL 2450 531 \nL 3481 531 \nL 3481 0 \nL 794 0 \nL 794 531 \nz\n\" id=\"DejaVuSans-31\" transform=\"scale(0.015625)\"/>\n        <path d=\"M 684 794 \nL 1344 794 \nL 1344 0 \nL 684 0 \nL 684 794 \nz\n\" id=\"DejaVuSans-2e\" transform=\"scale(0.015625)\"/>\n        <path d=\"M 2034 4250 \nQ 1547 4250 1301 3770 \nQ 1056 3291 1056 2328 \nQ 1056 1369 1301 889 \nQ 1547 409 2034 409 \nQ 2525 409 2770 889 \nQ 3016 1369 3016 2328 \nQ 3016 3291 2770 3770 \nQ 2525 4250 2034 4250 \nz\nM 2034 4750 \nQ 2819 4750 3233 4129 \nQ 3647 3509 3647 2328 \nQ 3647 1150 3233 529 \nQ 2819 -91 2034 -91 \nQ 1250 -91 836 529 \nQ 422 1150 422 2328 \nQ 422 3509 836 4129 \nQ 1250 4750 2034 4750 \nz\n\" id=\"DejaVuSans-30\" transform=\"scale(0.015625)\"/>\n       </defs>\n       <use xlink:href=\"#DejaVuSans-2212\"/>\n       <use x=\"83.789062\" xlink:href=\"#DejaVuSans-31\"/>\n       <use x=\"147.412109\" xlink:href=\"#DejaVuSans-2e\"/>\n       <use x=\"179.199219\" xlink:href=\"#DejaVuSans-30\"/>\n      </g>\n     </g>\n    </g>\n    <g id=\"xtick_2\">\n     <g id=\"line2d_2\">\n      <g>\n       <use style=\"stroke:#000000;stroke-width:0.8;\" x=\"107.24929\" xlink:href=\"#m35b0b8122f\" y=\"252.836719\"/>\n      </g>\n     </g>\n     <g id=\"text_2\">\n      <!-- −0.8 -->\n      <g transform=\"translate(95.107884 267.435156)scale(0.1 -0.1)\">\n       <defs>\n        <path d=\"M 2034 2216 \nQ 1584 2216 1326 1975 \nQ 1069 1734 1069 1313 \nQ 1069 891 1326 650 \nQ 1584 409 2034 409 \nQ 2484 409 2743 651 \nQ 3003 894 3003 1313 \nQ 3003 1734 2745 1975 \nQ 2488 2216 2034 2216 \nz\nM 1403 2484 \nQ 997 2584 770 2862 \nQ 544 3141 544 3541 \nQ 544 4100 942 4425 \nQ 1341 4750 2034 4750 \nQ 2731 4750 3128 4425 \nQ 3525 4100 3525 3541 \nQ 3525 3141 3298 2862 \nQ 3072 2584 2669 2484 \nQ 3125 2378 3379 2068 \nQ 3634 1759 3634 1313 \nQ 3634 634 3220 271 \nQ 2806 -91 2034 -91 \nQ 1263 -91 848 271 \nQ 434 634 434 1313 \nQ 434 1759 690 2068 \nQ 947 2378 1403 2484 \nz\nM 1172 3481 \nQ 1172 3119 1398 2916 \nQ 1625 2713 2034 2713 \nQ 2441 2713 2670 2916 \nQ 2900 3119 2900 3481 \nQ 2900 3844 2670 4047 \nQ 2441 4250 2034 4250 \nQ 1625 4250 1398 4047 \nQ 1172 3844 1172 3481 \nz\n\" id=\"DejaVuSans-38\" transform=\"scale(0.015625)\"/>\n       </defs>\n       <use xlink:href=\"#DejaVuSans-2212\"/>\n       <use x=\"83.789062\" xlink:href=\"#DejaVuSans-30\"/>\n       <use x=\"147.412109\" xlink:href=\"#DejaVuSans-2e\"/>\n       <use x=\"179.199219\" xlink:href=\"#DejaVuSans-38\"/>\n      </g>\n     </g>\n    </g>\n    <g id=\"xtick_3\">\n     <g id=\"line2d_3\">\n      <g>\n       <use style=\"stroke:#000000;stroke-width:0.8;\" x=\"149.127131\" xlink:href=\"#m35b0b8122f\" y=\"252.836719\"/>\n      </g>\n     </g>\n     <g id=\"text_3\">\n      <!-- −0.6 -->\n      <g transform=\"translate(136.985724 267.435156)scale(0.1 -0.1)\">\n       <defs>\n        <path d=\"M 2113 2584 \nQ 1688 2584 1439 2293 \nQ 1191 2003 1191 1497 \nQ 1191 994 1439 701 \nQ 1688 409 2113 409 \nQ 2538 409 2786 701 \nQ 3034 994 3034 1497 \nQ 3034 2003 2786 2293 \nQ 2538 2584 2113 2584 \nz\nM 3366 4563 \nL 3366 3988 \nQ 3128 4100 2886 4159 \nQ 2644 4219 2406 4219 \nQ 1781 4219 1451 3797 \nQ 1122 3375 1075 2522 \nQ 1259 2794 1537 2939 \nQ 1816 3084 2150 3084 \nQ 2853 3084 3261 2657 \nQ 3669 2231 3669 1497 \nQ 3669 778 3244 343 \nQ 2819 -91 2113 -91 \nQ 1303 -91 875 529 \nQ 447 1150 447 2328 \nQ 447 3434 972 4092 \nQ 1497 4750 2381 4750 \nQ 2619 4750 2861 4703 \nQ 3103 4656 3366 4563 \nz\n\" id=\"DejaVuSans-36\" transform=\"scale(0.015625)\"/>\n       </defs>\n       <use xlink:href=\"#DejaVuSans-2212\"/>\n       <use x=\"83.789062\" xlink:href=\"#DejaVuSans-30\"/>\n       <use x=\"147.412109\" xlink:href=\"#DejaVuSans-2e\"/>\n       <use x=\"179.199219\" xlink:href=\"#DejaVuSans-36\"/>\n      </g>\n     </g>\n    </g>\n    <g id=\"xtick_4\">\n     <g id=\"line2d_4\">\n      <g>\n       <use style=\"stroke:#000000;stroke-width:0.8;\" x=\"191.004972\" xlink:href=\"#m35b0b8122f\" y=\"252.836719\"/>\n      </g>\n     </g>\n     <g id=\"text_4\">\n      <!-- −0.4 -->\n      <g transform=\"translate(178.863565 267.435156)scale(0.1 -0.1)\">\n       <defs>\n        <path d=\"M 2419 4116 \nL 825 1625 \nL 2419 1625 \nL 2419 4116 \nz\nM 2253 4666 \nL 3047 4666 \nL 3047 1625 \nL 3713 1625 \nL 3713 1100 \nL 3047 1100 \nL 3047 0 \nL 2419 0 \nL 2419 1100 \nL 313 1100 \nL 313 1709 \nL 2253 4666 \nz\n\" id=\"DejaVuSans-34\" transform=\"scale(0.015625)\"/>\n       </defs>\n       <use xlink:href=\"#DejaVuSans-2212\"/>\n       <use x=\"83.789062\" xlink:href=\"#DejaVuSans-30\"/>\n       <use x=\"147.412109\" xlink:href=\"#DejaVuSans-2e\"/>\n       <use x=\"179.199219\" xlink:href=\"#DejaVuSans-34\"/>\n      </g>\n     </g>\n    </g>\n    <g id=\"xtick_5\">\n     <g id=\"line2d_5\">\n      <g>\n       <use style=\"stroke:#000000;stroke-width:0.8;\" x=\"232.882812\" xlink:href=\"#m35b0b8122f\" y=\"252.836719\"/>\n      </g>\n     </g>\n     <g id=\"text_5\">\n      <!-- −0.2 -->\n      <g transform=\"translate(220.741406 267.435156)scale(0.1 -0.1)\">\n       <defs>\n        <path d=\"M 1228 531 \nL 3431 531 \nL 3431 0 \nL 469 0 \nL 469 531 \nQ 828 903 1448 1529 \nQ 2069 2156 2228 2338 \nQ 2531 2678 2651 2914 \nQ 2772 3150 2772 3378 \nQ 2772 3750 2511 3984 \nQ 2250 4219 1831 4219 \nQ 1534 4219 1204 4116 \nQ 875 4013 500 3803 \nL 500 4441 \nQ 881 4594 1212 4672 \nQ 1544 4750 1819 4750 \nQ 2544 4750 2975 4387 \nQ 3406 4025 3406 3419 \nQ 3406 3131 3298 2873 \nQ 3191 2616 2906 2266 \nQ 2828 2175 2409 1742 \nQ 1991 1309 1228 531 \nz\n\" id=\"DejaVuSans-32\" transform=\"scale(0.015625)\"/>\n       </defs>\n       <use xlink:href=\"#DejaVuSans-2212\"/>\n       <use x=\"83.789062\" xlink:href=\"#DejaVuSans-30\"/>\n       <use x=\"147.412109\" xlink:href=\"#DejaVuSans-2e\"/>\n       <use x=\"179.199219\" xlink:href=\"#DejaVuSans-32\"/>\n      </g>\n     </g>\n    </g>\n    <g id=\"xtick_6\">\n     <g id=\"line2d_6\">\n      <g>\n       <use style=\"stroke:#000000;stroke-width:0.8;\" x=\"274.760653\" xlink:href=\"#m35b0b8122f\" y=\"252.836719\"/>\n      </g>\n     </g>\n     <g id=\"text_6\">\n      <!-- 0.0 -->\n      <g transform=\"translate(266.809091 267.435156)scale(0.1 -0.1)\">\n       <use xlink:href=\"#DejaVuSans-30\"/>\n       <use x=\"63.623047\" xlink:href=\"#DejaVuSans-2e\"/>\n       <use x=\"95.410156\" xlink:href=\"#DejaVuSans-30\"/>\n      </g>\n     </g>\n    </g>\n    <g id=\"xtick_7\">\n     <g id=\"line2d_7\">\n      <g>\n       <use style=\"stroke:#000000;stroke-width:0.8;\" x=\"316.638494\" xlink:href=\"#m35b0b8122f\" y=\"252.836719\"/>\n      </g>\n     </g>\n     <g id=\"text_7\">\n      <!-- 0.2 -->\n      <g transform=\"translate(308.686932 267.435156)scale(0.1 -0.1)\">\n       <use xlink:href=\"#DejaVuSans-30\"/>\n       <use x=\"63.623047\" xlink:href=\"#DejaVuSans-2e\"/>\n       <use x=\"95.410156\" xlink:href=\"#DejaVuSans-32\"/>\n      </g>\n     </g>\n    </g>\n    <g id=\"xtick_8\">\n     <g id=\"line2d_8\">\n      <g>\n       <use style=\"stroke:#000000;stroke-width:0.8;\" x=\"358.516335\" xlink:href=\"#m35b0b8122f\" y=\"252.836719\"/>\n      </g>\n     </g>\n     <g id=\"text_8\">\n      <!-- 0.4 -->\n      <g transform=\"translate(350.564773 267.435156)scale(0.1 -0.1)\">\n       <use xlink:href=\"#DejaVuSans-30\"/>\n       <use x=\"63.623047\" xlink:href=\"#DejaVuSans-2e\"/>\n       <use x=\"95.410156\" xlink:href=\"#DejaVuSans-34\"/>\n      </g>\n     </g>\n    </g>\n    <g id=\"xtick_9\">\n     <g id=\"line2d_9\">\n      <g>\n       <use style=\"stroke:#000000;stroke-width:0.8;\" x=\"400.394176\" xlink:href=\"#m35b0b8122f\" y=\"252.836719\"/>\n      </g>\n     </g>\n     <g id=\"text_9\">\n      <!-- 0.6 -->\n      <g transform=\"translate(392.442614 267.435156)scale(0.1 -0.1)\">\n       <use xlink:href=\"#DejaVuSans-30\"/>\n       <use x=\"63.623047\" xlink:href=\"#DejaVuSans-2e\"/>\n       <use x=\"95.410156\" xlink:href=\"#DejaVuSans-36\"/>\n      </g>\n     </g>\n    </g>\n    <g id=\"text_10\">\n     <!-- ← Negative — — — — — — Positive → -->\n     <g transform=\"translate(91.292187 284.9125)scale(0.15 -0.15)\">\n      <defs>\n       <path d=\"M 313 1866 \nL 313 2147 \nL 1541 3375 \nL 1916 3000 \nL 1188 2272 \nL 4997 2272 \nL 4997 1741 \nL 1188 1741 \nL 1916 1013 \nL 1541 638 \nL 313 1866 \nz\n\" id=\"DejaVuSans-2190\" transform=\"scale(0.015625)\"/>\n       <path id=\"DejaVuSans-20\" transform=\"scale(0.015625)\"/>\n       <path d=\"M 628 4666 \nL 1478 4666 \nL 3547 763 \nL 3547 4666 \nL 4159 4666 \nL 4159 0 \nL 3309 0 \nL 1241 3903 \nL 1241 0 \nL 628 0 \nL 628 4666 \nz\n\" id=\"DejaVuSans-4e\" transform=\"scale(0.015625)\"/>\n       <path d=\"M 3597 1894 \nL 3597 1613 \nL 953 1613 \nQ 991 1019 1311 708 \nQ 1631 397 2203 397 \nQ 2534 397 2845 478 \nQ 3156 559 3463 722 \nL 3463 178 \nQ 3153 47 2828 -22 \nQ 2503 -91 2169 -91 \nQ 1331 -91 842 396 \nQ 353 884 353 1716 \nQ 353 2575 817 3079 \nQ 1281 3584 2069 3584 \nQ 2775 3584 3186 3129 \nQ 3597 2675 3597 1894 \nz\nM 3022 2063 \nQ 3016 2534 2758 2815 \nQ 2500 3097 2075 3097 \nQ 1594 3097 1305 2825 \nQ 1016 2553 972 2059 \nL 3022 2063 \nz\n\" id=\"DejaVuSans-65\" transform=\"scale(0.015625)\"/>\n       <path d=\"M 2906 1791 \nQ 2906 2416 2648 2759 \nQ 2391 3103 1925 3103 \nQ 1463 3103 1205 2759 \nQ 947 2416 947 1791 \nQ 947 1169 1205 825 \nQ 1463 481 1925 481 \nQ 2391 481 2648 825 \nQ 2906 1169 2906 1791 \nz\nM 3481 434 \nQ 3481 -459 3084 -895 \nQ 2688 -1331 1869 -1331 \nQ 1566 -1331 1297 -1286 \nQ 1028 -1241 775 -1147 \nL 775 -588 \nQ 1028 -725 1275 -790 \nQ 1522 -856 1778 -856 \nQ 2344 -856 2625 -561 \nQ 2906 -266 2906 331 \nL 2906 616 \nQ 2728 306 2450 153 \nQ 2172 0 1784 0 \nQ 1141 0 747 490 \nQ 353 981 353 1791 \nQ 353 2603 747 3093 \nQ 1141 3584 1784 3584 \nQ 2172 3584 2450 3431 \nQ 2728 3278 2906 2969 \nL 2906 3500 \nL 3481 3500 \nL 3481 434 \nz\n\" id=\"DejaVuSans-67\" transform=\"scale(0.015625)\"/>\n       <path d=\"M 2194 1759 \nQ 1497 1759 1228 1600 \nQ 959 1441 959 1056 \nQ 959 750 1161 570 \nQ 1363 391 1709 391 \nQ 2188 391 2477 730 \nQ 2766 1069 2766 1631 \nL 2766 1759 \nL 2194 1759 \nz\nM 3341 1997 \nL 3341 0 \nL 2766 0 \nL 2766 531 \nQ 2569 213 2275 61 \nQ 1981 -91 1556 -91 \nQ 1019 -91 701 211 \nQ 384 513 384 1019 \nQ 384 1609 779 1909 \nQ 1175 2209 1959 2209 \nL 2766 2209 \nL 2766 2266 \nQ 2766 2663 2505 2880 \nQ 2244 3097 1772 3097 \nQ 1472 3097 1187 3025 \nQ 903 2953 641 2809 \nL 641 3341 \nQ 956 3463 1253 3523 \nQ 1550 3584 1831 3584 \nQ 2591 3584 2966 3190 \nQ 3341 2797 3341 1997 \nz\n\" id=\"DejaVuSans-61\" transform=\"scale(0.015625)\"/>\n       <path d=\"M 1172 4494 \nL 1172 3500 \nL 2356 3500 \nL 2356 3053 \nL 1172 3053 \nL 1172 1153 \nQ 1172 725 1289 603 \nQ 1406 481 1766 481 \nL 2356 481 \nL 2356 0 \nL 1766 0 \nQ 1100 0 847 248 \nQ 594 497 594 1153 \nL 594 3053 \nL 172 3053 \nL 172 3500 \nL 594 3500 \nL 594 4494 \nL 1172 4494 \nz\n\" id=\"DejaVuSans-74\" transform=\"scale(0.015625)\"/>\n       <path d=\"M 603 3500 \nL 1178 3500 \nL 1178 0 \nL 603 0 \nL 603 3500 \nz\nM 603 4863 \nL 1178 4863 \nL 1178 4134 \nL 603 4134 \nL 603 4863 \nz\n\" id=\"DejaVuSans-69\" transform=\"scale(0.015625)\"/>\n       <path d=\"M 191 3500 \nL 800 3500 \nL 1894 563 \nL 2988 3500 \nL 3597 3500 \nL 2284 0 \nL 1503 0 \nL 191 3500 \nz\n\" id=\"DejaVuSans-76\" transform=\"scale(0.015625)\"/>\n       <path d=\"M 313 1978 \nL 6088 1978 \nL 6088 1528 \nL 313 1528 \nL 313 1978 \nz\n\" id=\"DejaVuSans-2014\" transform=\"scale(0.015625)\"/>\n       <path d=\"M 1259 4147 \nL 1259 2394 \nL 2053 2394 \nQ 2494 2394 2734 2622 \nQ 2975 2850 2975 3272 \nQ 2975 3691 2734 3919 \nQ 2494 4147 2053 4147 \nL 1259 4147 \nz\nM 628 4666 \nL 2053 4666 \nQ 2838 4666 3239 4311 \nQ 3641 3956 3641 3272 \nQ 3641 2581 3239 2228 \nQ 2838 1875 2053 1875 \nL 1259 1875 \nL 1259 0 \nL 628 0 \nL 628 4666 \nz\n\" id=\"DejaVuSans-50\" transform=\"scale(0.015625)\"/>\n       <path d=\"M 1959 3097 \nQ 1497 3097 1228 2736 \nQ 959 2375 959 1747 \nQ 959 1119 1226 758 \nQ 1494 397 1959 397 \nQ 2419 397 2687 759 \nQ 2956 1122 2956 1747 \nQ 2956 2369 2687 2733 \nQ 2419 3097 1959 3097 \nz\nM 1959 3584 \nQ 2709 3584 3137 3096 \nQ 3566 2609 3566 1747 \nQ 3566 888 3137 398 \nQ 2709 -91 1959 -91 \nQ 1206 -91 779 398 \nQ 353 888 353 1747 \nQ 353 2609 779 3096 \nQ 1206 3584 1959 3584 \nz\n\" id=\"DejaVuSans-6f\" transform=\"scale(0.015625)\"/>\n       <path d=\"M 2834 3397 \nL 2834 2853 \nQ 2591 2978 2328 3040 \nQ 2066 3103 1784 3103 \nQ 1356 3103 1142 2972 \nQ 928 2841 928 2578 \nQ 928 2378 1081 2264 \nQ 1234 2150 1697 2047 \nL 1894 2003 \nQ 2506 1872 2764 1633 \nQ 3022 1394 3022 966 \nQ 3022 478 2636 193 \nQ 2250 -91 1575 -91 \nQ 1294 -91 989 -36 \nQ 684 19 347 128 \nL 347 722 \nQ 666 556 975 473 \nQ 1284 391 1588 391 \nQ 1994 391 2212 530 \nQ 2431 669 2431 922 \nQ 2431 1156 2273 1281 \nQ 2116 1406 1581 1522 \nL 1381 1569 \nQ 847 1681 609 1914 \nQ 372 2147 372 2553 \nQ 372 3047 722 3315 \nQ 1072 3584 1716 3584 \nQ 2034 3584 2315 3537 \nQ 2597 3491 2834 3397 \nz\n\" id=\"DejaVuSans-73\" transform=\"scale(0.015625)\"/>\n       <path d=\"M 5050 2147 \nL 5050 1866 \nL 3822 638 \nL 3447 1013 \nL 4175 1741 \nL 366 1741 \nL 366 2272 \nL 4175 2272 \nL 3447 3000 \nL 3822 3375 \nL 5050 2147 \nz\n\" id=\"DejaVuSans-2192\" transform=\"scale(0.015625)\"/>\n      </defs>\n      <use xlink:href=\"#DejaVuSans-2190\"/>\n      <use x=\"83.789062\" xlink:href=\"#DejaVuSans-20\"/>\n      <use x=\"115.576172\" xlink:href=\"#DejaVuSans-4e\"/>\n      <use x=\"190.380859\" xlink:href=\"#DejaVuSans-65\"/>\n      <use x=\"251.904297\" xlink:href=\"#DejaVuSans-67\"/>\n      <use x=\"315.380859\" xlink:href=\"#DejaVuSans-61\"/>\n      <use x=\"376.660156\" xlink:href=\"#DejaVuSans-74\"/>\n      <use x=\"415.869141\" xlink:href=\"#DejaVuSans-69\"/>\n      <use x=\"443.652344\" xlink:href=\"#DejaVuSans-76\"/>\n      <use x=\"502.832031\" xlink:href=\"#DejaVuSans-65\"/>\n      <use x=\"564.355469\" xlink:href=\"#DejaVuSans-20\"/>\n      <use x=\"596.142578\" xlink:href=\"#DejaVuSans-2014\"/>\n      <use x=\"696.142578\" xlink:href=\"#DejaVuSans-20\"/>\n      <use x=\"727.929688\" xlink:href=\"#DejaVuSans-2014\"/>\n      <use x=\"827.929688\" xlink:href=\"#DejaVuSans-20\"/>\n      <use x=\"859.716797\" xlink:href=\"#DejaVuSans-2014\"/>\n      <use x=\"959.716797\" xlink:href=\"#DejaVuSans-20\"/>\n      <use x=\"991.503906\" xlink:href=\"#DejaVuSans-2014\"/>\n      <use x=\"1091.503906\" xlink:href=\"#DejaVuSans-20\"/>\n      <use x=\"1123.291016\" xlink:href=\"#DejaVuSans-2014\"/>\n      <use x=\"1223.291016\" xlink:href=\"#DejaVuSans-20\"/>\n      <use x=\"1255.078125\" xlink:href=\"#DejaVuSans-2014\"/>\n      <use x=\"1355.078125\" xlink:href=\"#DejaVuSans-20\"/>\n      <use x=\"1386.865234\" xlink:href=\"#DejaVuSans-50\"/>\n      <use x=\"1443.542969\" xlink:href=\"#DejaVuSans-6f\"/>\n      <use x=\"1504.724609\" xlink:href=\"#DejaVuSans-73\"/>\n      <use x=\"1556.824219\" xlink:href=\"#DejaVuSans-69\"/>\n      <use x=\"1584.607422\" xlink:href=\"#DejaVuSans-74\"/>\n      <use x=\"1623.816406\" xlink:href=\"#DejaVuSans-69\"/>\n      <use x=\"1651.599609\" xlink:href=\"#DejaVuSans-76\"/>\n      <use x=\"1710.779297\" xlink:href=\"#DejaVuSans-65\"/>\n      <use x=\"1772.302734\" xlink:href=\"#DejaVuSans-20\"/>\n      <use x=\"1804.089844\" xlink:href=\"#DejaVuSans-2192\"/>\n     </g>\n    </g>\n   </g>\n   <g id=\"matplotlib.axis_2\">\n    <g id=\"ytick_1\">\n     <g id=\"line2d_10\">\n      <defs>\n       <path d=\"M 0 0 \nL -3.5 0 \n\" id=\"m91f57b72d0\" style=\"stroke:#000000;stroke-width:0.8;\"/>\n      </defs>\n      <g>\n       <use style=\"stroke:#000000;stroke-width:0.8;\" x=\"48.620313\" xlink:href=\"#m91f57b72d0\" y=\"243.318537\"/>\n      </g>\n     </g>\n     <g id=\"text_11\">\n      <!-- 0.0 -->\n      <g transform=\"translate(25.717188 247.117756)scale(0.1 -0.1)\">\n       <use xlink:href=\"#DejaVuSans-30\"/>\n       <use x=\"63.623047\" xlink:href=\"#DejaVuSans-2e\"/>\n       <use x=\"95.410156\" xlink:href=\"#DejaVuSans-30\"/>\n      </g>\n     </g>\n    </g>\n    <g id=\"ytick_2\">\n     <g id=\"line2d_11\">\n      <g>\n       <use style=\"stroke:#000000;stroke-width:0.8;\" x=\"48.620313\" xlink:href=\"#m91f57b72d0\" y=\"205.24581\"/>\n      </g>\n     </g>\n     <g id=\"text_12\">\n      <!-- 0.2 -->\n      <g transform=\"translate(25.717188 209.045028)scale(0.1 -0.1)\">\n       <use xlink:href=\"#DejaVuSans-30\"/>\n       <use x=\"63.623047\" xlink:href=\"#DejaVuSans-2e\"/>\n       <use x=\"95.410156\" xlink:href=\"#DejaVuSans-32\"/>\n      </g>\n     </g>\n    </g>\n    <g id=\"ytick_3\">\n     <g id=\"line2d_12\">\n      <g>\n       <use style=\"stroke:#000000;stroke-width:0.8;\" x=\"48.620313\" xlink:href=\"#m91f57b72d0\" y=\"167.173082\"/>\n      </g>\n     </g>\n     <g id=\"text_13\">\n      <!-- 0.4 -->\n      <g transform=\"translate(25.717188 170.972301)scale(0.1 -0.1)\">\n       <use xlink:href=\"#DejaVuSans-30\"/>\n       <use x=\"63.623047\" xlink:href=\"#DejaVuSans-2e\"/>\n       <use x=\"95.410156\" xlink:href=\"#DejaVuSans-34\"/>\n      </g>\n     </g>\n    </g>\n    <g id=\"ytick_4\">\n     <g id=\"line2d_13\">\n      <g>\n       <use style=\"stroke:#000000;stroke-width:0.8;\" x=\"48.620313\" xlink:href=\"#m91f57b72d0\" y=\"129.100355\"/>\n      </g>\n     </g>\n     <g id=\"text_14\">\n      <!-- 0.6 -->\n      <g transform=\"translate(25.717188 132.899574)scale(0.1 -0.1)\">\n       <use xlink:href=\"#DejaVuSans-30\"/>\n       <use x=\"63.623047\" xlink:href=\"#DejaVuSans-2e\"/>\n       <use x=\"95.410156\" xlink:href=\"#DejaVuSans-36\"/>\n      </g>\n     </g>\n    </g>\n    <g id=\"ytick_5\">\n     <g id=\"line2d_14\">\n      <g>\n       <use style=\"stroke:#000000;stroke-width:0.8;\" x=\"48.620313\" xlink:href=\"#m91f57b72d0\" y=\"91.027628\"/>\n      </g>\n     </g>\n     <g id=\"text_15\">\n      <!-- 0.8 -->\n      <g transform=\"translate(25.717188 94.826847)scale(0.1 -0.1)\">\n       <use xlink:href=\"#DejaVuSans-30\"/>\n       <use x=\"63.623047\" xlink:href=\"#DejaVuSans-2e\"/>\n       <use x=\"95.410156\" xlink:href=\"#DejaVuSans-38\"/>\n      </g>\n     </g>\n    </g>\n    <g id=\"ytick_6\">\n     <g id=\"line2d_15\">\n      <g>\n       <use style=\"stroke:#000000;stroke-width:0.8;\" x=\"48.620313\" xlink:href=\"#m91f57b72d0\" y=\"52.954901\"/>\n      </g>\n     </g>\n     <g id=\"text_16\">\n      <!-- 1.0 -->\n      <g transform=\"translate(25.717188 56.754119)scale(0.1 -0.1)\">\n       <use xlink:href=\"#DejaVuSans-31\"/>\n       <use x=\"63.623047\" xlink:href=\"#DejaVuSans-2e\"/>\n       <use x=\"95.410156\" xlink:href=\"#DejaVuSans-30\"/>\n      </g>\n     </g>\n    </g>\n    <g id=\"text_17\">\n     <!-- ← Facts — — — — — — — Opinions → -->\n     <g transform=\"translate(18.597656 289.073437)rotate(-90)scale(0.15 -0.15)\">\n      <defs>\n       <path d=\"M 628 4666 \nL 3309 4666 \nL 3309 4134 \nL 1259 4134 \nL 1259 2759 \nL 3109 2759 \nL 3109 2228 \nL 1259 2228 \nL 1259 0 \nL 628 0 \nL 628 4666 \nz\n\" id=\"DejaVuSans-46\" transform=\"scale(0.015625)\"/>\n       <path d=\"M 3122 3366 \nL 3122 2828 \nQ 2878 2963 2633 3030 \nQ 2388 3097 2138 3097 \nQ 1578 3097 1268 2742 \nQ 959 2388 959 1747 \nQ 959 1106 1268 751 \nQ 1578 397 2138 397 \nQ 2388 397 2633 464 \nQ 2878 531 3122 666 \nL 3122 134 \nQ 2881 22 2623 -34 \nQ 2366 -91 2075 -91 \nQ 1284 -91 818 406 \nQ 353 903 353 1747 \nQ 353 2603 823 3093 \nQ 1294 3584 2113 3584 \nQ 2378 3584 2631 3529 \nQ 2884 3475 3122 3366 \nz\n\" id=\"DejaVuSans-63\" transform=\"scale(0.015625)\"/>\n       <path d=\"M 2522 4238 \nQ 1834 4238 1429 3725 \nQ 1025 3213 1025 2328 \nQ 1025 1447 1429 934 \nQ 1834 422 2522 422 \nQ 3209 422 3611 934 \nQ 4013 1447 4013 2328 \nQ 4013 3213 3611 3725 \nQ 3209 4238 2522 4238 \nz\nM 2522 4750 \nQ 3503 4750 4090 4092 \nQ 4678 3434 4678 2328 \nQ 4678 1225 4090 567 \nQ 3503 -91 2522 -91 \nQ 1538 -91 948 565 \nQ 359 1222 359 2328 \nQ 359 3434 948 4092 \nQ 1538 4750 2522 4750 \nz\n\" id=\"DejaVuSans-4f\" transform=\"scale(0.015625)\"/>\n       <path d=\"M 1159 525 \nL 1159 -1331 \nL 581 -1331 \nL 581 3500 \nL 1159 3500 \nL 1159 2969 \nQ 1341 3281 1617 3432 \nQ 1894 3584 2278 3584 \nQ 2916 3584 3314 3078 \nQ 3713 2572 3713 1747 \nQ 3713 922 3314 415 \nQ 2916 -91 2278 -91 \nQ 1894 -91 1617 61 \nQ 1341 213 1159 525 \nz\nM 3116 1747 \nQ 3116 2381 2855 2742 \nQ 2594 3103 2138 3103 \nQ 1681 3103 1420 2742 \nQ 1159 2381 1159 1747 \nQ 1159 1113 1420 752 \nQ 1681 391 2138 391 \nQ 2594 391 2855 752 \nQ 3116 1113 3116 1747 \nz\n\" id=\"DejaVuSans-70\" transform=\"scale(0.015625)\"/>\n       <path d=\"M 3513 2113 \nL 3513 0 \nL 2938 0 \nL 2938 2094 \nQ 2938 2591 2744 2837 \nQ 2550 3084 2163 3084 \nQ 1697 3084 1428 2787 \nQ 1159 2491 1159 1978 \nL 1159 0 \nL 581 0 \nL 581 3500 \nL 1159 3500 \nL 1159 2956 \nQ 1366 3272 1645 3428 \nQ 1925 3584 2291 3584 \nQ 2894 3584 3203 3211 \nQ 3513 2838 3513 2113 \nz\n\" id=\"DejaVuSans-6e\" transform=\"scale(0.015625)\"/>\n      </defs>\n      <use xlink:href=\"#DejaVuSans-2190\"/>\n      <use x=\"83.789062\" xlink:href=\"#DejaVuSans-20\"/>\n      <use x=\"115.576172\" xlink:href=\"#DejaVuSans-46\"/>\n      <use x=\"163.970703\" xlink:href=\"#DejaVuSans-61\"/>\n      <use x=\"225.25\" xlink:href=\"#DejaVuSans-63\"/>\n      <use x=\"280.230469\" xlink:href=\"#DejaVuSans-74\"/>\n      <use x=\"319.439453\" xlink:href=\"#DejaVuSans-73\"/>\n      <use x=\"371.539062\" xlink:href=\"#DejaVuSans-20\"/>\n      <use x=\"403.326172\" xlink:href=\"#DejaVuSans-2014\"/>\n      <use x=\"503.326172\" xlink:href=\"#DejaVuSans-20\"/>\n      <use x=\"535.113281\" xlink:href=\"#DejaVuSans-2014\"/>\n      <use x=\"635.113281\" xlink:href=\"#DejaVuSans-20\"/>\n      <use x=\"666.900391\" xlink:href=\"#DejaVuSans-2014\"/>\n      <use x=\"766.900391\" xlink:href=\"#DejaVuSans-20\"/>\n      <use x=\"798.6875\" xlink:href=\"#DejaVuSans-2014\"/>\n      <use x=\"898.6875\" xlink:href=\"#DejaVuSans-20\"/>\n      <use x=\"930.474609\" xlink:href=\"#DejaVuSans-2014\"/>\n      <use x=\"1030.474609\" xlink:href=\"#DejaVuSans-20\"/>\n      <use x=\"1062.261719\" xlink:href=\"#DejaVuSans-2014\"/>\n      <use x=\"1162.261719\" xlink:href=\"#DejaVuSans-20\"/>\n      <use x=\"1194.048828\" xlink:href=\"#DejaVuSans-2014\"/>\n      <use x=\"1294.048828\" xlink:href=\"#DejaVuSans-20\"/>\n      <use x=\"1325.835938\" xlink:href=\"#DejaVuSans-4f\"/>\n      <use x=\"1404.546875\" xlink:href=\"#DejaVuSans-70\"/>\n      <use x=\"1468.023438\" xlink:href=\"#DejaVuSans-69\"/>\n      <use x=\"1495.806641\" xlink:href=\"#DejaVuSans-6e\"/>\n      <use x=\"1559.185547\" xlink:href=\"#DejaVuSans-69\"/>\n      <use x=\"1586.96875\" xlink:href=\"#DejaVuSans-6f\"/>\n      <use x=\"1648.150391\" xlink:href=\"#DejaVuSans-6e\"/>\n      <use x=\"1711.529297\" xlink:href=\"#DejaVuSans-73\"/>\n      <use x=\"1763.628906\" xlink:href=\"#DejaVuSans-20\"/>\n      <use x=\"1795.416016\" xlink:href=\"#DejaVuSans-2192\"/>\n     </g>\n    </g>\n   </g>\n   <g id=\"patch_3\">\n    <path d=\"M 48.620313 252.836719 \nL 48.620313 43.436719 \n\" style=\"fill:none;stroke:#000000;stroke-linecap:square;stroke-linejoin:miter;stroke-width:0.8;\"/>\n   </g>\n   <g id=\"patch_4\">\n    <path d=\"M 417.145312 252.836719 \nL 417.145312 43.436719 \n\" style=\"fill:none;stroke:#000000;stroke-linecap:square;stroke-linejoin:miter;stroke-width:0.8;\"/>\n   </g>\n   <g id=\"patch_5\">\n    <path d=\"M 48.620312 252.836719 \nL 417.145312 252.836719 \n\" style=\"fill:none;stroke:#000000;stroke-linecap:square;stroke-linejoin:miter;stroke-width:0.8;\"/>\n   </g>\n   <g id=\"patch_6\">\n    <path d=\"M 48.620312 43.436719 \nL 417.145312 43.436719 \n\" style=\"fill:none;stroke:#000000;stroke-linecap:square;stroke-linejoin:miter;stroke-width:0.8;\"/>\n   </g>\n   <g id=\"text_18\">\n    <!-- Sentiment Analysis -->\n    <g transform=\"translate(136.815625 37.436719)scale(0.2 -0.2)\">\n     <defs>\n      <path d=\"M 3425 4513 \nL 3425 3897 \nQ 3066 4069 2747 4153 \nQ 2428 4238 2131 4238 \nQ 1616 4238 1336 4038 \nQ 1056 3838 1056 3469 \nQ 1056 3159 1242 3001 \nQ 1428 2844 1947 2747 \nL 2328 2669 \nQ 3034 2534 3370 2195 \nQ 3706 1856 3706 1288 \nQ 3706 609 3251 259 \nQ 2797 -91 1919 -91 \nQ 1588 -91 1214 -16 \nQ 841 59 441 206 \nL 441 856 \nQ 825 641 1194 531 \nQ 1563 422 1919 422 \nQ 2459 422 2753 634 \nQ 3047 847 3047 1241 \nQ 3047 1584 2836 1778 \nQ 2625 1972 2144 2069 \nL 1759 2144 \nQ 1053 2284 737 2584 \nQ 422 2884 422 3419 \nQ 422 4038 858 4394 \nQ 1294 4750 2059 4750 \nQ 2388 4750 2728 4690 \nQ 3069 4631 3425 4513 \nz\n\" id=\"DejaVuSans-53\" transform=\"scale(0.015625)\"/>\n      <path d=\"M 3328 2828 \nQ 3544 3216 3844 3400 \nQ 4144 3584 4550 3584 \nQ 5097 3584 5394 3201 \nQ 5691 2819 5691 2113 \nL 5691 0 \nL 5113 0 \nL 5113 2094 \nQ 5113 2597 4934 2840 \nQ 4756 3084 4391 3084 \nQ 3944 3084 3684 2787 \nQ 3425 2491 3425 1978 \nL 3425 0 \nL 2847 0 \nL 2847 2094 \nQ 2847 2600 2669 2842 \nQ 2491 3084 2119 3084 \nQ 1678 3084 1418 2786 \nQ 1159 2488 1159 1978 \nL 1159 0 \nL 581 0 \nL 581 3500 \nL 1159 3500 \nL 1159 2956 \nQ 1356 3278 1631 3431 \nQ 1906 3584 2284 3584 \nQ 2666 3584 2933 3390 \nQ 3200 3197 3328 2828 \nz\n\" id=\"DejaVuSans-6d\" transform=\"scale(0.015625)\"/>\n      <path d=\"M 2188 4044 \nL 1331 1722 \nL 3047 1722 \nL 2188 4044 \nz\nM 1831 4666 \nL 2547 4666 \nL 4325 0 \nL 3669 0 \nL 3244 1197 \nL 1141 1197 \nL 716 0 \nL 50 0 \nL 1831 4666 \nz\n\" id=\"DejaVuSans-41\" transform=\"scale(0.015625)\"/>\n      <path d=\"M 603 4863 \nL 1178 4863 \nL 1178 0 \nL 603 0 \nL 603 4863 \nz\n\" id=\"DejaVuSans-6c\" transform=\"scale(0.015625)\"/>\n      <path d=\"M 2059 -325 \nQ 1816 -950 1584 -1140 \nQ 1353 -1331 966 -1331 \nL 506 -1331 \nL 506 -850 \nL 844 -850 \nQ 1081 -850 1212 -737 \nQ 1344 -625 1503 -206 \nL 1606 56 \nL 191 3500 \nL 800 3500 \nL 1894 763 \nL 2988 3500 \nL 3597 3500 \nL 2059 -325 \nz\n\" id=\"DejaVuSans-79\" transform=\"scale(0.015625)\"/>\n     </defs>\n     <use xlink:href=\"#DejaVuSans-53\"/>\n     <use x=\"63.476562\" xlink:href=\"#DejaVuSans-65\"/>\n     <use x=\"125\" xlink:href=\"#DejaVuSans-6e\"/>\n     <use x=\"188.378906\" xlink:href=\"#DejaVuSans-74\"/>\n     <use x=\"227.587891\" xlink:href=\"#DejaVuSans-69\"/>\n     <use x=\"255.371094\" xlink:href=\"#DejaVuSans-6d\"/>\n     <use x=\"352.783203\" xlink:href=\"#DejaVuSans-65\"/>\n     <use x=\"414.306641\" xlink:href=\"#DejaVuSans-6e\"/>\n     <use x=\"477.685547\" xlink:href=\"#DejaVuSans-74\"/>\n     <use x=\"516.894531\" xlink:href=\"#DejaVuSans-20\"/>\n     <use x=\"548.681641\" xlink:href=\"#DejaVuSans-41\"/>\n     <use x=\"617.089844\" xlink:href=\"#DejaVuSans-6e\"/>\n     <use x=\"680.46875\" xlink:href=\"#DejaVuSans-61\"/>\n     <use x=\"741.748047\" xlink:href=\"#DejaVuSans-6c\"/>\n     <use x=\"769.53125\" xlink:href=\"#DejaVuSans-79\"/>\n     <use x=\"828.710938\" xlink:href=\"#DejaVuSans-73\"/>\n     <use x=\"880.810547\" xlink:href=\"#DejaVuSans-69\"/>\n     <use x=\"908.59375\" xlink:href=\"#DejaVuSans-73\"/>\n    </g>\n   </g>\n  </g>\n </g>\n <defs>\n  <clipPath id=\"pb3bd2f4433\">\n   <rect height=\"209.4\" width=\"368.525\" x=\"48.620313\" y=\"43.436719\"/>\n  </clipPath>\n </defs>\n</svg>\n",
      "image/png": "[encoded data removed]"
     },
     "metadata": {
      "needs_background": "light"
     }
    }
   ],
   "source": [
    "sns.scatterplot(tweet_polarity, # X-axis\n",
    "                tweet_subjectivity,  # Y-axis\n",
    "                s=100);\n",
    "\n",
    "\n",
    "plt.title(\"Sentiment Analysis\", fontsize = 20)\n",
    "plt.xlabel('← Negative — — — — — — Positive →', fontsize=15)\n",
    "plt.ylabel('← Facts — — — — — — — Opinions →', fontsize=15)\n",
    "plt.tight_layout()"
   ]
  },
  {
   "cell_type": "code",
   "execution_count": null,
   "metadata": {},
   "outputs": [],
   "source": []
  }
 ],
 "metadata": {
  "kernelspec": {
   "name": "python385jvsc74a57bd08e67d3b4e6e9c5ed82f76a8f7f99679990361e083096766a3b0e6dbb7e4e49b8",
   "display_name": "Python 3.8.5 64-bit ('base': conda)"
  },
  "language_info": {
   "codemirror_mode": {
    "name": "ipython",
    "version": 3
   },
   "file_extension": ".py",
   "mimetype": "text/x-python",
   "name": "python",
   "nbconvert_exporter": "python",
   "pygments_lexer": "ipython3",
   "version": "3.8.5"
  },
  "varInspector": {
   "cols": {
    "lenName": 16,
    "lenType": 16,
    "lenVar": 40
   },
   "kernels_config": {
    "python": {
     "delete_cmd_postfix": "",
     "delete_cmd_prefix": "del ",
     "library": "var_list.py",
     "varRefreshCmd": "print(var_dic_list())"
    },
    "r": {
     "delete_cmd_postfix": ") ",
     "delete_cmd_prefix": "rm(",
     "library": "var_list.r",
     "varRefreshCmd": "cat(var_dic_list()) "
    }
   },
   "types_to_exclude": [
    "module",
    "function",
    "builtin_function_or_method",
    "instance",
    "_Feature"
   ],
   "window_display": false
  }
 },
 "nbformat": 4,
 "nbformat_minor": 2
}