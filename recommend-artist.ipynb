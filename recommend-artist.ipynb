{
 "cells": [
  {
   "cell_type": "code",
   "execution_count": 43,
   "metadata": {},
   "outputs": [],
   "source": [
    "import pandas as pd\n",
    "import numpy as np\n",
    "import json\n",
    "from datetime import date\n",
    "from datetime import datetime\n",
    "import seaborn as sns\n",
    "import matplotlib.pyplot as plt\n",
    "from sklearn.feature_extraction.text import TfidfVectorizer\n",
    "from sklearn.metrics.pairwise import linear_kernel"
   ]
  },
  {
   "cell_type": "code",
   "execution_count": 44,
   "metadata": {},
   "outputs": [],
   "source": [
    "artist_df = pd.read_csv('./data/artists.csv')\n",
    "tracks_df = pd.read_csv('./data/tracks.csv')\n",
    "with open(\"./data/dict_artists.json\", encoding='utf-8', errors='ignore') as json_data:\n",
    "     data = json.load(json_data, strict=False)"
   ]
  },
  {
   "cell_type": "code",
   "execution_count": 45,
   "metadata": {},
   "outputs": [],
   "source": [
    "artist_df.drop(['id'], axis=1, inplace=True)"
   ]
  },
  {
   "cell_type": "code",
   "execution_count": 46,
   "metadata": {},
   "outputs": [],
   "source": [
    "artist_df = artist_df[artist_df['genres'] != '[]']\n",
    "artist_df = artist_df.sort_values(by=['popularity'], ascending=False)\n",
    "l = len(artist_df)/15\n",
    "artist_df = artist_df[:round(l)]\n",
    "artist_df = artist_df.reset_index(drop=True)"
   ]
  },
  {
   "cell_type": "code",
   "execution_count": 47,
   "metadata": {},
   "outputs": [
    {
     "data": {
      "text/html": [
       "<div>\n",
       "<style scoped>\n",
       "    .dataframe tbody tr th:only-of-type {\n",
       "        vertical-align: middle;\n",
       "    }\n",
       "\n",
       "    .dataframe tbody tr th {\n",
       "        vertical-align: top;\n",
       "    }\n",
       "\n",
       "    .dataframe thead th {\n",
       "        text-align: right;\n",
       "    }\n",
       "</style>\n",
       "<table border=\"1\" class=\"dataframe\">\n",
       "  <thead>\n",
       "    <tr style=\"text-align: right;\">\n",
       "      <th></th>\n",
       "      <th>followers</th>\n",
       "      <th>genres</th>\n",
       "      <th>name</th>\n",
       "      <th>popularity</th>\n",
       "    </tr>\n",
       "  </thead>\n",
       "  <tbody>\n",
       "    <tr>\n",
       "      <th>0</th>\n",
       "      <td>44606973.0</td>\n",
       "      <td>['canadian pop', 'pop', 'post-teen pop']</td>\n",
       "      <td>Justin Bieber</td>\n",
       "      <td>100</td>\n",
       "    </tr>\n",
       "    <tr>\n",
       "      <th>1</th>\n",
       "      <td>54416812.0</td>\n",
       "      <td>['canadian hip hop', 'canadian pop', 'hip hop'...</td>\n",
       "      <td>Drake</td>\n",
       "      <td>98</td>\n",
       "    </tr>\n",
       "    <tr>\n",
       "      <th>2</th>\n",
       "      <td>32244734.0</td>\n",
       "      <td>['latin', 'reggaeton', 'trap latino']</td>\n",
       "      <td>Bad Bunny</td>\n",
       "      <td>98</td>\n",
       "    </tr>\n",
       "    <tr>\n",
       "      <th>3</th>\n",
       "      <td>38869193.0</td>\n",
       "      <td>['pop', 'post-teen pop']</td>\n",
       "      <td>Taylor Swift</td>\n",
       "      <td>98</td>\n",
       "    </tr>\n",
       "    <tr>\n",
       "      <th>4</th>\n",
       "      <td>16996777.0</td>\n",
       "      <td>['chicago rap', 'melodic rap']</td>\n",
       "      <td>Juice WRLD</td>\n",
       "      <td>96</td>\n",
       "    </tr>\n",
       "    <tr>\n",
       "      <th>...</th>\n",
       "      <td>...</td>\n",
       "      <td>...</td>\n",
       "      <td>...</td>\n",
       "      <td>...</td>\n",
       "    </tr>\n",
       "    <tr>\n",
       "      <th>19903</th>\n",
       "      <td>2394.0</td>\n",
       "      <td>['russian edm']</td>\n",
       "      <td>Denis First</td>\n",
       "      <td>50</td>\n",
       "    </tr>\n",
       "    <tr>\n",
       "      <th>19904</th>\n",
       "      <td>1028316.0</td>\n",
       "      <td>['sertanejo', 'sertanejo pop', 'sertanejo univ...</td>\n",
       "      <td>Jefferson Moraes</td>\n",
       "      <td>50</td>\n",
       "    </tr>\n",
       "    <tr>\n",
       "      <th>19905</th>\n",
       "      <td>33168.0</td>\n",
       "      <td>['danish hip hop', 'danish pop']</td>\n",
       "      <td>Bro</td>\n",
       "      <td>50</td>\n",
       "    </tr>\n",
       "    <tr>\n",
       "      <th>19906</th>\n",
       "      <td>15823.0</td>\n",
       "      <td>['bass house', 'deep groove house', 'electro h...</td>\n",
       "      <td>Marten Hørger</td>\n",
       "      <td>50</td>\n",
       "    </tr>\n",
       "    <tr>\n",
       "      <th>19907</th>\n",
       "      <td>103591.0</td>\n",
       "      <td>['modern folk rock']</td>\n",
       "      <td>Ben Harper And The Innocent Criminals</td>\n",
       "      <td>50</td>\n",
       "    </tr>\n",
       "  </tbody>\n",
       "</table>\n",
       "<p>19908 rows × 4 columns</p>\n",
       "</div>"
      ],
      "text/plain": [
       "        followers                                             genres  \\\n",
       "0      44606973.0           ['canadian pop', 'pop', 'post-teen pop']   \n",
       "1      54416812.0  ['canadian hip hop', 'canadian pop', 'hip hop'...   \n",
       "2      32244734.0              ['latin', 'reggaeton', 'trap latino']   \n",
       "3      38869193.0                           ['pop', 'post-teen pop']   \n",
       "4      16996777.0                     ['chicago rap', 'melodic rap']   \n",
       "...           ...                                                ...   \n",
       "19903      2394.0                                    ['russian edm']   \n",
       "19904   1028316.0  ['sertanejo', 'sertanejo pop', 'sertanejo univ...   \n",
       "19905     33168.0                   ['danish hip hop', 'danish pop']   \n",
       "19906     15823.0  ['bass house', 'deep groove house', 'electro h...   \n",
       "19907    103591.0                               ['modern folk rock']   \n",
       "\n",
       "                                        name  popularity  \n",
       "0                              Justin Bieber         100  \n",
       "1                                      Drake          98  \n",
       "2                                  Bad Bunny          98  \n",
       "3                               Taylor Swift          98  \n",
       "4                                 Juice WRLD          96  \n",
       "...                                      ...         ...  \n",
       "19903                            Denis First          50  \n",
       "19904                       Jefferson Moraes          50  \n",
       "19905                                    Bro          50  \n",
       "19906                          Marten Hørger          50  \n",
       "19907  Ben Harper And The Innocent Criminals          50  \n",
       "\n",
       "[19908 rows x 4 columns]"
      ]
     },
     "execution_count": 47,
     "metadata": {},
     "output_type": "execute_result"
    }
   ],
   "source": [
    "artist_df"
   ]
  },
  {
   "cell_type": "code",
   "execution_count": null,
   "metadata": {},
   "outputs": [],
   "source": []
  },
  {
   "cell_type": "code",
   "execution_count": null,
   "metadata": {},
   "outputs": [],
   "source": []
  },
  {
   "cell_type": "code",
   "execution_count": 49,
   "metadata": {},
   "outputs": [],
   "source": [
    "model = TfidfVectorizer(analyzer='word', ngram_range=(1, 3), min_df=0, stop_words='english')\n",
    "tfidf_matrix = model.fit_transform(artist_df['genres'])"
   ]
  },
  {
   "cell_type": "code",
   "execution_count": 50,
   "metadata": {},
   "outputs": [],
   "source": [
    "cosine_similarities = linear_kernel(tfidf_matrix, tfidf_matrix) "
   ]
  },
  {
   "cell_type": "code",
   "execution_count": 51,
   "metadata": {},
   "outputs": [],
   "source": [
    "indices = pd.Series(artist_df.index, index=artist_df['name'])"
   ]
  },
  {
   "cell_type": "code",
   "execution_count": null,
   "metadata": {},
   "outputs": [],
   "source": []
  },
  {
   "cell_type": "code",
   "execution_count": 52,
   "metadata": {},
   "outputs": [],
   "source": [
    "# names = artist_df['name']\n",
    "# def artist_recommend(name):\n",
    "#     idx = indices[name]\n",
    "#     sim_scores = list(enumerate(cosine_similarities[idx]))\n",
    "#     sim_scores = sorted(sim_scores, key=lambda x: x[1], reverse=True)\n",
    "#     sim_scores = sim_scores[1:31]\n",
    "#     artist_indices = [i[0] for i in sim_scores]\n",
    "#     return names[artist_indices].values"
   ]
  },
  {
   "cell_type": "code",
   "execution_count": 53,
   "metadata": {},
   "outputs": [],
   "source": [
    "# new = artist_recommend(\"Queen\")"
   ]
  },
  {
   "cell_type": "code",
   "execution_count": null,
   "metadata": {},
   "outputs": [],
   "source": []
  },
  {
   "cell_type": "code",
   "execution_count": 54,
   "metadata": {},
   "outputs": [],
   "source": [
    "#Alternate Method"
   ]
  },
  {
   "cell_type": "code",
   "execution_count": 56,
   "metadata": {},
   "outputs": [],
   "source": [
    "for idx, row in artist_df.iterrows():\n",
    "    similar_indices = cosine_similarities[idx].argsort()[:-100:-1] \n",
    "    similar_items = [(cosine_similarities[idx][i], artist_df['name'][i]) for i in similar_indices] \n",
    "    results[row['name']] = similar_items[1:]"
   ]
  },
  {
   "cell_type": "code",
   "execution_count": null,
   "metadata": {},
   "outputs": [],
   "source": []
  },
  {
   "cell_type": "code",
   "execution_count": 106,
   "metadata": {},
   "outputs": [],
   "source": [
    "def _recommend(item_id, num):\n",
    "    recs = results[item_id][:num]   \n",
    "    preds = {}\n",
    "    for pair in recs:\n",
    "        preds[pair[1]] = pair[0]\n",
    "    return preds"
   ]
  },
  {
   "cell_type": "code",
   "execution_count": 109,
   "metadata": {},
   "outputs": [
    {
     "data": {
      "text/plain": [
       "{'Tory Lanez': 0.5683541991268033,\n",
       " 'NAV': 0.5676320403065631,\n",
       " 'NF': 0.49303744366086255,\n",
       " 'Ali Gatie': 0.4875486352986397,\n",
       " 'Kardinal Offishall': 0.45975629790111777}"
      ]
     },
     "execution_count": 109,
     "metadata": {},
     "output_type": "execute_result"
    }
   ],
   "source": [
    "_recommend('Drake', 5)"
   ]
  },
  {
   "cell_type": "code",
   "execution_count": null,
   "metadata": {},
   "outputs": [],
   "source": []
  },
  {
   "cell_type": "code",
   "execution_count": 121,
   "metadata": {},
   "outputs": [],
   "source": [
    "import pickle \n",
    "with open('cos_sim_results','wb') as f: pickle.dump(results, f)"
   ]
  },
  {
   "cell_type": "code",
   "execution_count": null,
   "metadata": {},
   "outputs": [],
   "source": []
  },
  {
   "cell_type": "code",
   "execution_count": 75,
   "metadata": {},
   "outputs": [],
   "source": []
  },
  {
   "cell_type": "code",
   "execution_count": null,
   "metadata": {},
   "outputs": [],
   "source": []
  },
  {
   "cell_type": "code",
   "execution_count": null,
   "metadata": {},
   "outputs": [],
   "source": []
  },
  {
   "cell_type": "code",
   "execution_count": 11,
   "metadata": {},
   "outputs": [],
   "source": []
  },
  {
   "cell_type": "code",
   "execution_count": 129,
   "metadata": {},
   "outputs": [],
   "source": [
    "def get_similar_artists_multiple(artists, num=10):\n",
    "    dict_similar = {}\n",
    "    for artist, weight in artists.items():\n",
    "        dict_similar[artist] = recommend(artist, num)\n",
    "    artists_all = []\n",
    "    for artist, similar_artists in dict_similar.items():\n",
    "        artists_all.append(list(similar_artists.keys()))\n",
    "    artists_unique = np.unique(artists_all).tolist()\n",
    "    artists_dict = {artist: 0 for artist in artists_unique}\n",
    "    for artist, similar_artists in dict_similar.items():\n",
    "        for similar_artist, score in similar_artists.items():\n",
    "            artists_dict[similar_artist] += artists[artist] * score\n",
    "    return list({k: v for k, v in sorted(artists_dict.items(), key=lambda item: item[1], reverse=True) if k not in artists}.keys())[0:num]"
   ]
  },
  {
   "cell_type": "code",
   "execution_count": 131,
   "metadata": {},
   "outputs": [
    {
     "data": {
      "text/plain": [
       "['Tory Lanez',\n",
       " 'NAV',\n",
       " 'NF',\n",
       " 'Ali Gatie',\n",
       " 'Kardinal Offishall',\n",
       " 'PARTYNEXTDOOR',\n",
       " '404vincent',\n",
       " 'Duvy',\n",
       " 'Murda Beatz',\n",
       " 'Wasiu']"
      ]
     },
     "execution_count": 131,
     "metadata": {},
     "output_type": "execute_result"
    }
   ],
   "source": [
    "get_similar_artists_multiple({'Drake':10}, 10)"
   ]
  },
  {
   "cell_type": "code",
   "execution_count": null,
   "metadata": {},
   "outputs": [],
   "source": []
  }
 ],
 "metadata": {
  "kernelspec": {
   "display_name": "Python 3",
   "language": "python",
   "name": "python3"
  },
  "language_info": {
   "codemirror_mode": {
    "name": "ipython",
    "version": 3
   },
   "file_extension": ".py",
   "mimetype": "text/x-python",
   "name": "python",
   "nbconvert_exporter": "python",
   "pygments_lexer": "ipython3",
   "version": "3.7.5"
  }
 },
 "nbformat": 4,
 "nbformat_minor": 2
}
